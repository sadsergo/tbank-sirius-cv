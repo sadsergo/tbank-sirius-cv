{
 "cells": [
  {
   "cell_type": "code",
   "execution_count": 1,
   "metadata": {},
   "outputs": [],
   "source": [
    "from pydantic import BaseModel, Field\n",
    "from typing import List, Optional\n",
    "from fastapi import FastAPI, File, UploadFile\n",
    "\n",
    "import torch\n",
    "from torch.utils.data import Dataset, DataLoader\n",
    "from torch.nn import functional as F\n",
    "from torch import nn\n",
    "import torchmetrics\n",
    "import torchvision\n",
    "from tqdm import tqdm\n",
    "import transformers\n",
    "import open_clip\n",
    "\n",
    "from PIL import Image\n",
    "import albumentations as A\n",
    "from albumentations.pytorch import ToTensorV2\n",
    "\n",
    "import warnings\n",
    "import matplotlib.pyplot as plt\n",
    "import os\n",
    "import numpy as np\n",
    "import requests\n",
    "import csv"
   ]
  },
  {
   "cell_type": "code",
   "execution_count": 2,
   "metadata": {},
   "outputs": [],
   "source": [
    "MEAN = (0.4914, 0.4822, 0.4465)\n",
    "STD = (0.2023, 0.1994, 0.2010)\n",
    "device = 'cuda'\n",
    "data_dir = 'data_sirius'\n",
    "save_dataset_dir = 'saved_dataset_data'"
   ]
  },
  {
   "cell_type": "code",
   "execution_count": 3,
   "metadata": {},
   "outputs": [],
   "source": [
    "class LogoDataset(Dataset):\n",
    "    def __init__(self,\n",
    "        mode,\n",
    "        data_dir,\n",
    "        fraction: float = 0.7,\n",
    "        logo_classifier_thr = 0.4,\n",
    "        transform=None,\n",
    "    ):\n",
    "        ## pipeline to zero-shot images\n",
    "        model_name = \"ViT-g-14\"\n",
    "        pretrained = \"laion2b_s34b_b88k\"\n",
    "        label_classifier, _, preprocess = open_clip.create_model_and_transforms(model_name, pretrained=pretrained)\n",
    "        tokenizer = open_clip.get_tokenizer(model_name)\n",
    "        label_classifier.to(device).eval()\n",
    "\n",
    "        prompt = [\n",
    "            \"a white shield with black letter T logo\"\n",
    "            \"a yellow shield with black letter T logo\",\n",
    "            \"a gray shield with letter black T logo\",\n",
    "            \"a stylized black letter T in a yellow shield\",\n",
    "            \"a black T logo on yellow background\",\n",
    "            \"a stylized black letter T in a white shield\",\n",
    "            \"a black T logo on white background\",\n",
    "            \"a stylized black letter T in a gray shield\",\n",
    "            \"a black T logo on gray background\",\n",
    "            \"no T logo present\"\n",
    "        ]\n",
    "\n",
    "        text_tokens = tokenizer(prompt).to(device)\n",
    "\n",
    "        ## list of tuples: (img_path, label)\n",
    "        self._items = []\n",
    "\n",
    "        ## will be used later for augmentations\n",
    "        self._transform = transform\n",
    "\n",
    "        ## we can't store all the images in memory at the same time,\n",
    "        ## because sometimes we have to work with very large datasets\n",
    "        ## so we will only store data paths\n",
    "        ## (also this is convenient for further augmentations)\n",
    "        all_img_paths = []\n",
    "        all_y = []\n",
    "        \n",
    "        file_names = os.listdir(data_dir)\n",
    "        pbar = tqdm(range(len(file_names)), desc=\"Processing dataset items\")\n",
    "\n",
    "        for img_name in file_names:\n",
    "            img_path = f\"{data_dir}/{img_name}\"\n",
    "            img = Image.open(img_path).convert(\"RGB\")\n",
    "\n",
    "            if not (img.width > 10 and img.height > 10):\n",
    "                pbar.update(1)\n",
    "                continue\n",
    "\n",
    "            img_input = preprocess(img).unsqueeze(0).to(device)\n",
    "\n",
    "            with torch.no_grad():\n",
    "                img_features = label_classifier.encode_image(img_input)\n",
    "                text_features = label_classifier.encode_text(text_tokens)\n",
    "\n",
    "            img_features /= img_features.norm(dim=-1, keepdim=True)\n",
    "            text_features /= text_features.norm(dim=-1, keepdim=True)\n",
    "\n",
    "            logits = 100.0 * img_features @ text_features.T\n",
    "            probs = logits.softmax(dim=-1)\n",
    "\n",
    "            top_probs, top_labels = probs[0].topk(2)\n",
    "            print(img_path, prompt[top_labels[0]], top_probs[0].item())\n",
    "\n",
    "            all_img_paths.append(img_path)\n",
    "            # all_y.append(1 if len(detected_logos) > 0 else 0) \n",
    "            all_y.append(1)\n",
    "\n",
    "            pbar.update(1)\n",
    "\n",
    "        train_size = int(fraction * len(all_img_paths))\n",
    "        test_size = len(all_img_paths) - train_size\n",
    "\n",
    "        if mode == \"train\":\n",
    "            for obj_ind in range(train_size):\n",
    "                self._items.append((all_img_paths[obj_ind], all_y[obj_ind]))\n",
    "        elif mode == \"test\":\n",
    "            for obj_ind in range(test_size):\n",
    "                self._items.append(\n",
    "                    (all_img_paths[train_size + obj_ind], all_y[train_size + obj_ind])\n",
    "                )\n",
    "\n",
    "    def __len__(self):\n",
    "        return len(self._items)\n",
    "\n",
    "    def __getitem__(self, index):\n",
    "        img_path, label = self._items[index]\n",
    "\n",
    "        ## read image\n",
    "        image = Image.open(img_path).convert(\"RGB\")\n",
    "        label = np.copy(label).astype(\"float\")\n",
    "\n",
    "        ## make augmentation for image\n",
    "        if self._transform:\n",
    "            pass\n",
    "\n",
    "        return image, label\n",
    "    \n",
    "    def save(self, path):\n",
    "        \"\"\"\n",
    "        Save image paths and its labels into file to minimize init time\n",
    "        \n",
    "        Args:\n",
    "            path: Path to save dataset\n",
    "\n",
    "        Returns:\n",
    "            None \n",
    "        \"\"\"\n",
    "\n",
    "        with open(path, \"w\", newline=\"\") as csv_file:\n",
    "            writer = csv.writer(csv_file)\n",
    "            writer.writerow(['path', 'label'])\n",
    "            writer.writerows(self._items)"
   ]
  },
  {
   "cell_type": "code",
   "execution_count": null,
   "metadata": {},
   "outputs": [
    {
     "name": "stderr",
     "output_type": "stream",
     "text": [
      "Processing dataset items:   2%|▏         | 646/30079 [01:32<1:09:58,  7.01it/s]\n",
      "Processing dataset items:   0%|          | 2/30079 [00:00<55:12,  9.08it/s]"
     ]
    },
    {
     "name": "stdout",
     "output_type": "stream",
     "text": [
      "data_sirius/0003065d1258b85b191e64b569a5f9ae.jpg no triangle shield on the photo 0.8858017325401306\n",
      "data_sirius/0004019ef5c13431099af96214e3e5d4.jpg no triangle shield on the photo 0.7509791254997253\n"
     ]
    },
    {
     "name": "stderr",
     "output_type": "stream",
     "text": [
      "Processing dataset items:   0%|          | 5/30079 [00:00<48:23, 10.36it/s]"
     ]
    },
    {
     "name": "stdout",
     "output_type": "stream",
     "text": [
      "data_sirius/000520dee7c145b59fe71e23c6b5d97b.jpg a black triangular shield badge 0.9805811643600464\n",
      "data_sirius/0009746f722ddd70b68f24319e68ed35.jpg a gray triangular shield badge 0.5712555050849915\n",
      "data_sirius/000b155124d0b69b7a87329b839506ba.jpg no triangle shield on the photo 0.5124070644378662\n"
     ]
    },
    {
     "name": "stderr",
     "output_type": "stream",
     "text": [
      "Processing dataset items:   0%|          | 7/30079 [00:00<46:56, 10.68it/s]"
     ]
    },
    {
     "name": "stdout",
     "output_type": "stream",
     "text": [
      "data_sirius/000bc929b1984637a4c5fe7290728e55.jpg a white triangular shield badge 0.6731206774711609\n",
      "data_sirius/000c5e0073dc800a35aabf1a3a40da1d.jpg a gray triangular shield badge 0.4010377526283264\n",
      "data_sirius/000fa3249170062ebebdfa1150ca9f93.jpg no triangle shield on the photo 0.9977070093154907\n"
     ]
    },
    {
     "name": "stderr",
     "output_type": "stream",
     "text": [
      "Processing dataset items:   0%|          | 9/30079 [00:00<47:02, 10.65it/s]"
     ]
    },
    {
     "name": "stdout",
     "output_type": "stream",
     "text": [
      "data_sirius/00104b7117a05afc23f7603b8d09c56e.jpg a yellow triangular shield badge 0.45188456773757935\n",
      "data_sirius/00151e89c86e5dbddfaa5af3ea6f5ab7.jpg no triangle shield on the photo 0.9789513945579529\n"
     ]
    },
    {
     "name": "stderr",
     "output_type": "stream",
     "text": [
      "Processing dataset items:   0%|          | 13/30079 [00:01<47:19, 10.59it/s]"
     ]
    },
    {
     "name": "stdout",
     "output_type": "stream",
     "text": [
      "data_sirius/0016d384f0cfde8e1d1ccc1074bfabc3.jpg a gray triangular shield badge 0.65816730260849\n",
      "data_sirius/0018823d852579eafb7dac43d8a86168.jpg no triangle shield on the photo 0.7336273193359375\n",
      "data_sirius/001a42624739d8b97fec6d7d229e96a6.jpg no triangle shield on the photo 0.8871843218803406\n"
     ]
    },
    {
     "name": "stderr",
     "output_type": "stream",
     "text": [
      "Processing dataset items:   0%|          | 15/30079 [00:01<43:39, 11.48it/s]"
     ]
    },
    {
     "name": "stdout",
     "output_type": "stream",
     "text": [
      "data_sirius/00231640870e84c921bf550bb807279c.jpg a yellow triangular shield badge 0.8240780234336853\n",
      "data_sirius/0029bb137ea3beb49f88df86acd687bb.jpg a yellow triangular shield badge 0.9076356887817383\n"
     ]
    },
    {
     "name": "stderr",
     "output_type": "stream",
     "text": [
      "Processing dataset items:   0%|          | 17/30079 [00:01<47:50, 10.47it/s]"
     ]
    },
    {
     "name": "stdout",
     "output_type": "stream",
     "text": [
      "data_sirius/002a0865c563370dcc3e472155163c3c.jpg a white triangular shield badge 0.6253935694694519\n",
      "data_sirius/002b41bf9b9ca4c785c7a7c2bd3d6a51.jpg no triangle shield on the photo 0.6739783883094788\n",
      "data_sirius/002d2c37ccee7cc4ced53655de94bc7a.jpg a yellow triangular shield badge 0.821384847164154\n"
     ]
    },
    {
     "name": "stderr",
     "output_type": "stream",
     "text": [
      "Processing dataset items:   0%|          | 21/30079 [00:01<41:42, 12.01it/s]"
     ]
    },
    {
     "name": "stdout",
     "output_type": "stream",
     "text": [
      "data_sirius/002ed4f7854f893ed849c74c2ff3420f.jpg a white triangular shield badge 0.6450685858726501\n",
      "data_sirius/002fa6432148de7dc14fb8f513b03211.jpg a yellow triangular shield badge 0.8620607256889343\n",
      "data_sirius/0030debb13b720cb1a2e79963d60c196.jpg a gray triangular shield badge 0.7811381816864014\n"
     ]
    },
    {
     "name": "stderr",
     "output_type": "stream",
     "text": [
      "Processing dataset items:   0%|          | 23/30079 [00:02<41:39, 12.02it/s]"
     ]
    },
    {
     "name": "stdout",
     "output_type": "stream",
     "text": [
      "data_sirius/003309fb8d666540546c4d8d14cb73cf.jpg no triangle shield on the photo 0.7086960077285767\n",
      "data_sirius/00361f3fd541731c10c5aa133a63081d.jpg a white triangular shield badge 0.3818987011909485\n",
      "data_sirius/0039ff8df22476bee9e8c97c3ab90e80.jpg no triangle shield on the photo 0.6727965474128723\n"
     ]
    },
    {
     "name": "stderr",
     "output_type": "stream",
     "text": [
      "Processing dataset items:   0%|          | 27/30079 [00:02<40:20, 12.42it/s]"
     ]
    },
    {
     "name": "stdout",
     "output_type": "stream",
     "text": [
      "data_sirius/003a26e187b68813f5cd96f40108bef2.jpg a yellow triangular shield badge 0.9797790050506592\n",
      "data_sirius/003ff95342066e8b4cab04fb7195328d.jpg a yellow triangular shield badge 0.9099127054214478\n",
      "data_sirius/0045fdff4b081b1d6e9357c28c1f0760.jpg a gray triangular shield badge 0.7942109107971191\n"
     ]
    },
    {
     "name": "stderr",
     "output_type": "stream",
     "text": [
      "Processing dataset items:   0%|          | 29/30079 [00:02<40:25, 12.39it/s]"
     ]
    },
    {
     "name": "stdout",
     "output_type": "stream",
     "text": [
      "data_sirius/004b8143fbc5186d0446dab295b0c7ee.jpg no triangle shield on the photo 0.851102352142334\n",
      "data_sirius/004bd8819cf018bb6ab32311770fa9bd.jpg a white triangular shield badge 0.7863770723342896\n",
      "data_sirius/004d06a2e5a0e59c6a61b5b36568182a.jpg no triangle shield on the photo 0.985032856464386\n"
     ]
    },
    {
     "name": "stderr",
     "output_type": "stream",
     "text": [
      "Processing dataset items:   0%|          | 33/30079 [00:02<37:52, 13.22it/s]"
     ]
    },
    {
     "name": "stdout",
     "output_type": "stream",
     "text": [
      "data_sirius/004d40dd5e3223f1f6ed36e883cd76c1.jpg a white triangular shield badge 0.7092406153678894\n",
      "data_sirius/004ed33829c64205d1b7a5d57013ac7c.jpg no triangle shield on the photo 0.9635124206542969\n",
      "data_sirius/0050d55b184c43a39f3804789b72eb13.jpg a gray triangular shield badge 0.5223894715309143\n"
     ]
    },
    {
     "name": "stderr",
     "output_type": "stream",
     "text": [
      "Processing dataset items:   0%|          | 35/30079 [00:03<38:21, 13.06it/s]"
     ]
    },
    {
     "name": "stdout",
     "output_type": "stream",
     "text": [
      "data_sirius/00512b8e14c55019d61b42145d4410d2.jpg no triangle shield on the photo 0.9729719161987305\n",
      "data_sirius/00521135b21d91138a602095edfceb1b.jpg no triangle shield on the photo 0.9904086589813232\n",
      "data_sirius/0053f42aac663ea811e349990115b201.jpg a yellow triangular shield badge 0.9975032210350037\n"
     ]
    },
    {
     "name": "stderr",
     "output_type": "stream",
     "text": [
      "Processing dataset items:   0%|          | 39/30079 [00:03<37:26, 13.37it/s]"
     ]
    },
    {
     "name": "stdout",
     "output_type": "stream",
     "text": [
      "data_sirius/00547383f0ded27a1ce27bcce7f190bb.jpg a yellow triangular shield badge 0.884709358215332\n",
      "data_sirius/00554ee33c3ff98963cf58fe1084c1d8.jpg a white triangular shield badge 0.776465892791748\n",
      "data_sirius/0058fb40f9a6b3eb66fc8e554ea285fa.jpg no triangle shield on the photo 0.9909472465515137\n"
     ]
    },
    {
     "name": "stderr",
     "output_type": "stream",
     "text": [
      "Processing dataset items:   0%|          | 41/30079 [00:03<37:12, 13.45it/s]"
     ]
    },
    {
     "name": "stdout",
     "output_type": "stream",
     "text": [
      "data_sirius/005ceafa07ff34ab2174bc676073dbe8.jpg a yellow triangular shield badge 0.7624150514602661\n",
      "data_sirius/005d3a618545e823543050306b9024f9.jpg a white triangular shield badge 0.9158859848976135\n",
      "data_sirius/005e4e20903043cd9235f130ee9a6eb5.jpg a yellow triangular shield badge 0.49572834372520447\n"
     ]
    },
    {
     "name": "stderr",
     "output_type": "stream",
     "text": [
      "Processing dataset items:   0%|          | 45/30079 [00:03<40:25, 12.38it/s]"
     ]
    },
    {
     "name": "stdout",
     "output_type": "stream",
     "text": [
      "data_sirius/005e63f5b890758f0ef08fff9a5d79ae.jpg a white triangular shield badge 0.5159302949905396\n",
      "data_sirius/00611ffb70f09bcf9e134b49ec405d40.jpg a white triangular shield badge 0.8673903346061707\n",
      "data_sirius/0061b8cf0ffd30e6d5b447f15ffbb45a.jpg a white triangular shield badge 0.8029599189758301\n"
     ]
    },
    {
     "name": "stderr",
     "output_type": "stream",
     "text": [
      "Processing dataset items:   0%|          | 47/30079 [00:03<41:24, 12.09it/s]"
     ]
    },
    {
     "name": "stdout",
     "output_type": "stream",
     "text": [
      "data_sirius/0061c0ad5b7cef89a7fac1e9ac2d39b0.jpg no triangle shield on the photo 0.998769223690033\n",
      "data_sirius/0063766edc564bfd39ad60ba63fd4071.jpg a white triangular shield badge 0.34688112139701843\n",
      "data_sirius/006385756d4500345e2d01dcb830d85b.jpg a yellow triangular shield badge 0.9999148845672607\n"
     ]
    },
    {
     "name": "stderr",
     "output_type": "stream",
     "text": [
      "Processing dataset items:   0%|          | 51/30079 [00:04<40:02, 12.50it/s]"
     ]
    },
    {
     "name": "stdout",
     "output_type": "stream",
     "text": [
      "data_sirius/0065db60be693e02033aaab573c94133.jpg a gray triangular shield badge 0.8026054501533508\n",
      "data_sirius/006853b3c33ce9dc3369af882a1c2ad4.jpg no triangle shield on the photo 0.5524047017097473\n",
      "data_sirius/0068f3964949317eb0d9cf6d77300a5a.jpg no triangle shield on the photo 0.9989275336265564\n"
     ]
    },
    {
     "name": "stderr",
     "output_type": "stream",
     "text": [
      "Processing dataset items:   0%|          | 53/30079 [00:04<39:01, 12.82it/s]"
     ]
    },
    {
     "name": "stdout",
     "output_type": "stream",
     "text": [
      "data_sirius/006cf230d7456b9a2ea2b82e00bbae02.jpg a yellow triangular shield badge 0.9645690321922302\n",
      "data_sirius/0071102d89b53614b01105301afdf93e.jpg no triangle shield on the photo 0.6106931567192078\n",
      "data_sirius/00732d26034046f6f36256e720f8e540.jpg a white triangular shield badge 0.5904934406280518\n"
     ]
    },
    {
     "name": "stderr",
     "output_type": "stream",
     "text": [
      "Processing dataset items:   0%|          | 57/30079 [00:04<37:23, 13.38it/s]"
     ]
    },
    {
     "name": "stdout",
     "output_type": "stream",
     "text": [
      "data_sirius/00741c06ee9e49b9026277ef038d3de4.jpg no triangle shield on the photo 0.5101044178009033\n",
      "data_sirius/0074fe4d33aaae3b5e98c29a470b6d48.jpg no triangle shield on the photo 0.9953004121780396\n",
      "data_sirius/0075971d3263430ef70352d715f55482.jpg no triangle shield on the photo 0.3089340031147003\n",
      "data_sirius/007758d88dec81adebe1163ebd7db566.jpg a black triangular shield badge 0.4628649652004242\n"
     ]
    },
    {
     "name": "stderr",
     "output_type": "stream",
     "text": [
      "Processing dataset items:   0%|          | 61/30079 [00:05<38:20, 13.05it/s]"
     ]
    },
    {
     "name": "stdout",
     "output_type": "stream",
     "text": [
      "data_sirius/0078b570c283fbcb7a58c6a5ca580b9e.jpg a black triangular shield badge 0.4827902019023895\n",
      "data_sirius/007ae5151b41a49b1fd742a34fabd946.jpg a black triangular shield badge 0.8799490332603455\n",
      "data_sirius/007e6ec15e22b29c1ca05965fb75a331.jpg a yellow triangular shield badge 0.9540015459060669\n"
     ]
    },
    {
     "name": "stderr",
     "output_type": "stream",
     "text": [
      "Processing dataset items:   0%|          | 63/30079 [00:05<38:28, 13.00it/s]"
     ]
    },
    {
     "name": "stdout",
     "output_type": "stream",
     "text": [
      "data_sirius/007eaa0d11bd2442e14d20505ef3c14b.jpg no triangle shield on the photo 0.7043856978416443\n",
      "data_sirius/0080087fafe2338eeb83581c25e9fe64.jpg a black triangular shield badge 0.992976725101471\n",
      "data_sirius/00805f54adf74eaf4bc6ebb58b745f87.jpg a yellow triangular shield badge 0.9453843235969543\n"
     ]
    },
    {
     "name": "stderr",
     "output_type": "stream",
     "text": [
      "Processing dataset items:   0%|          | 67/30079 [00:05<41:09, 12.15it/s]"
     ]
    },
    {
     "name": "stdout",
     "output_type": "stream",
     "text": [
      "data_sirius/0081b0d5718510d8137088eb9d2f65ff.jpg no triangle shield on the photo 0.9488391280174255\n",
      "data_sirius/008d058c1e4b88607d8fa445ee127531.jpg a yellow triangular shield badge 0.9466784596443176\n",
      "data_sirius/0090190a4cf9307bffa1eb9293a566e1.jpg a white triangular shield badge 0.85161292552948\n"
     ]
    },
    {
     "name": "stderr",
     "output_type": "stream",
     "text": [
      "Processing dataset items:   0%|          | 69/30079 [00:05<39:18, 12.72it/s]"
     ]
    },
    {
     "name": "stdout",
     "output_type": "stream",
     "text": [
      "data_sirius/0090e2275b585e8792157292ff62d12d.jpg a gray triangular shield badge 0.6246545910835266\n",
      "data_sirius/0092a8d5edf5360458191134d65fff66.jpg no triangle shield on the photo 0.9196475148200989\n",
      "data_sirius/00930cd69af4fe8e6ff5d22ec93d165e.jpg a yellow triangular shield badge 0.9766451120376587\n"
     ]
    },
    {
     "name": "stderr",
     "output_type": "stream",
     "text": [
      "Processing dataset items:   0%|          | 73/30079 [00:06<41:46, 11.97it/s]"
     ]
    },
    {
     "name": "stdout",
     "output_type": "stream",
     "text": [
      "data_sirius/009347725b255f56b6972f904167d8d0.jpg a white triangular shield badge 0.8234568238258362\n",
      "data_sirius/009382e55145430be0fbbe254bbff0df.jpg no triangle shield on the photo 0.9859715104103088\n",
      "data_sirius/0097369f4e347013c576f7d60bcfacd2.jpg a white triangular shield badge 0.3587930202484131\n"
     ]
    },
    {
     "name": "stderr",
     "output_type": "stream",
     "text": [
      "Processing dataset items:   0%|          | 75/30079 [00:06<41:10, 12.14it/s]"
     ]
    },
    {
     "name": "stdout",
     "output_type": "stream",
     "text": [
      "data_sirius/00991e740c390550dd9e102002df0ce7.jpg no triangle shield on the photo 0.5895527601242065\n",
      "data_sirius/009c4efd1998bde9307b70034477e4c7.jpg no triangle shield on the photo 0.3843458592891693\n",
      "data_sirius/00a2d2a83e5457f126624a6301195ac5.jpg a yellow triangular shield badge 0.9520248770713806\n"
     ]
    },
    {
     "name": "stderr",
     "output_type": "stream",
     "text": [
      "Processing dataset items:   0%|          | 77/30079 [00:06<42:52, 11.66it/s]"
     ]
    },
    {
     "name": "stdout",
     "output_type": "stream",
     "text": [
      "data_sirius/00a448e38fe94fa86dbee6af18044c2d.jpg no triangle shield on the photo 0.9779338240623474\n",
      "data_sirius/00afab8ada174e7a4a8a74b314e6487f.jpg no triangle shield on the photo 0.39901086688041687\n"
     ]
    },
    {
     "name": "stderr",
     "output_type": "stream",
     "text": [
      "Processing dataset items:   0%|          | 81/30079 [00:06<49:08, 10.18it/s]"
     ]
    },
    {
     "name": "stdout",
     "output_type": "stream",
     "text": [
      "data_sirius/00b3dd5aad9ec110080d1ac63cf2d0ab.jpg no triangle shield on the photo 0.7500423789024353\n",
      "data_sirius/00b7fef3bfd3bfaf30379f721e2bce77.jpg a yellow triangular shield badge 0.5513367056846619\n",
      "data_sirius/00b9158ae93900096c6294ec005979f7.jpg a white triangular shield badge 0.9772676825523376\n"
     ]
    },
    {
     "name": "stderr",
     "output_type": "stream",
     "text": [
      "Processing dataset items:   0%|          | 83/30079 [00:06<45:00, 11.11it/s]"
     ]
    },
    {
     "name": "stdout",
     "output_type": "stream",
     "text": [
      "data_sirius/00baaeeabfc5cf4c36162836520d2717.jpg no triangle shield on the photo 0.6096634864807129\n",
      "data_sirius/00baf9f28e2717e921b76abbd14213a5.jpg a yellow triangular shield badge 0.6167575120925903\n",
      "data_sirius/00bcf08d00279a3f4b31e3738933638f.jpg a yellow triangular shield badge 0.8782750368118286\n"
     ]
    },
    {
     "name": "stderr",
     "output_type": "stream",
     "text": [
      "Processing dataset items:   0%|          | 87/30079 [00:07<41:29, 12.05it/s]"
     ]
    },
    {
     "name": "stdout",
     "output_type": "stream",
     "text": [
      "data_sirius/00bfb4c589670c976fbe6fc1ce966dc8.jpg a white triangular shield badge 0.7759013772010803\n",
      "data_sirius/00c1124b8eeacd2e76b828a06972ce6f.jpg no triangle shield on the photo 0.9986158609390259\n",
      "data_sirius/00c16da4f77c0b9cd679dd8c06662d09.jpg no triangle shield on the photo 0.8686035871505737\n"
     ]
    },
    {
     "name": "stderr",
     "output_type": "stream",
     "text": [
      "Processing dataset items:   0%|          | 89/30079 [00:07<39:54, 12.53it/s]"
     ]
    },
    {
     "name": "stdout",
     "output_type": "stream",
     "text": [
      "data_sirius/00c4903deea140cd1be9f63d92fad279.jpg a black triangular shield badge 0.8254629373550415\n",
      "data_sirius/00c77d58ba71aa64bd43099025b546aa.jpg a white triangular shield badge 0.4560297429561615\n",
      "data_sirius/00c9d743ba6dfafd7e944bea63dc5d75.jpg a yellow triangular shield badge 0.49458882212638855\n"
     ]
    },
    {
     "name": "stderr",
     "output_type": "stream",
     "text": [
      "Processing dataset items:   0%|          | 93/30079 [00:07<41:47, 11.96it/s]"
     ]
    },
    {
     "name": "stdout",
     "output_type": "stream",
     "text": [
      "data_sirius/00d4814d8985b456dd796a116fc382c9.jpg a white triangular shield badge 0.442577987909317\n",
      "data_sirius/00d4be82c9d706bb48c36eed024f934d.jpg no triangle shield on the photo 0.9715313911437988\n",
      "data_sirius/00d8009578199c455596e170116d5576.jpg a yellow triangular shield badge 0.7433028817176819\n"
     ]
    },
    {
     "name": "stderr",
     "output_type": "stream",
     "text": [
      "Processing dataset items:   0%|          | 95/30079 [00:07<39:51, 12.54it/s]"
     ]
    },
    {
     "name": "stdout",
     "output_type": "stream",
     "text": [
      "data_sirius/00db3e218a4af6f0531da2546bca0c06.jpg a white triangular shield badge 0.450427383184433\n",
      "data_sirius/00dc744a263c02fccc1971ab0b8e320c.jpg no triangle shield on the photo 0.9740402698516846\n"
     ]
    },
    {
     "name": "stderr",
     "output_type": "stream",
     "text": [
      "Processing dataset items:   0%|          | 97/30079 [00:08<56:10,  8.89it/s]"
     ]
    },
    {
     "name": "stdout",
     "output_type": "stream",
     "text": [
      "data_sirius/00dd37606832d64a4f7e6a0d8649c092.jpg a white triangular shield badge 0.8930438160896301\n",
      "data_sirius/00e0a31f7e80b13b679b8ca1fc4bdc68.jpg a yellow triangular shield badge 0.702763020992279\n",
      "data_sirius/00e4405c9ae0f7ac468176d46797b19c.jpg a gray triangular shield badge 0.8325589895248413\n"
     ]
    },
    {
     "name": "stderr",
     "output_type": "stream",
     "text": [
      "Processing dataset items:   0%|          | 101/30079 [00:08<48:07, 10.38it/s]"
     ]
    },
    {
     "name": "stdout",
     "output_type": "stream",
     "text": [
      "data_sirius/00e7c966cf9b9385091cb22db6c43453.jpg no triangle shield on the photo 0.9236457347869873\n",
      "data_sirius/00ea00c48be316d27526c4eb33b64557.jpg no triangle shield on the photo 0.6255371570587158\n",
      "data_sirius/00eaa89301271b226f5d5c53495db318.jpg a yellow triangular shield badge 0.9731343388557434\n"
     ]
    },
    {
     "name": "stderr",
     "output_type": "stream",
     "text": [
      "Processing dataset items:   0%|          | 103/30079 [00:08<43:23, 11.51it/s]"
     ]
    },
    {
     "name": "stdout",
     "output_type": "stream",
     "text": [
      "data_sirius/00ee382df062344248f68cf291004b75.jpg a black triangular shield badge 0.6900804042816162\n",
      "data_sirius/00efe8220f4bfb4a994352c8976a8334.jpg a white triangular shield badge 0.636521577835083\n",
      "data_sirius/00f0243fa51921aff68826634aaae5c7.jpg no triangle shield on the photo 0.9166359901428223\n"
     ]
    },
    {
     "name": "stderr",
     "output_type": "stream",
     "text": [
      "Processing dataset items:   0%|          | 107/30079 [00:09<41:09, 12.14it/s]"
     ]
    },
    {
     "name": "stdout",
     "output_type": "stream",
     "text": [
      "data_sirius/00f50b00eb34a87f3688d2d3c33c186e.jpg a black triangular shield badge 0.4502384066581726\n",
      "data_sirius/00f8d838c972bb12a5b2fc33a75a6db1.jpg no triangle shield on the photo 0.9934618473052979\n",
      "data_sirius/00f9a0147e843e4612c1e3a640fb223e.jpg no triangle shield on the photo 0.9972124695777893\n",
      "data_sirius/00fb3030bdc51e730013232104149b64.jpg a gray triangular shield badge 0.9648043513298035\n"
     ]
    },
    {
     "name": "stderr",
     "output_type": "stream",
     "text": [
      "Processing dataset items:   0%|          | 111/30079 [00:09<48:06, 10.38it/s]"
     ]
    },
    {
     "name": "stdout",
     "output_type": "stream",
     "text": [
      "data_sirius/00fdfdcb677f734046478224c0f4f56b.jpg a white triangular shield badge 0.39092952013015747\n",
      "data_sirius/00ffe9e2e4a94eb9a0bdd656eed2a7aa.jpg a yellow triangular shield badge 0.8445443511009216\n",
      "data_sirius/0100bf4787349445f559a10739e4c978.jpg a white triangular shield badge 0.9274159669876099\n"
     ]
    },
    {
     "name": "stderr",
     "output_type": "stream",
     "text": [
      "Processing dataset items:   0%|          | 113/30079 [00:09<43:48, 11.40it/s]"
     ]
    },
    {
     "name": "stdout",
     "output_type": "stream",
     "text": [
      "data_sirius/01029ecc615ad91ea57209d27cee8d1b.jpg a white triangular shield badge 0.3927437365055084\n",
      "data_sirius/0103c13a16e47c5095cdbfdccc52a4a8.jpg no triangle shield on the photo 0.9932140111923218\n",
      "data_sirius/0109cd854b2549c07e3591bd74a5e5c2.jpg no triangle shield on the photo 0.9022935032844543\n",
      "data_sirius/010a777ab78b1dba2c20326a078d9716.jpg a white triangular shield badge 0.7036691308021545\n"
     ]
    },
    {
     "name": "stderr",
     "output_type": "stream",
     "text": [
      "Processing dataset items:   0%|          | 117/30079 [00:09<39:38, 12.60it/s]"
     ]
    },
    {
     "name": "stdout",
     "output_type": "stream",
     "text": [
      "data_sirius/010d249fc4aa1c751e3ad61e695a2a82.jpg no triangle shield on the photo 0.7985241413116455\n",
      "data_sirius/0111a8f88862ae535f3cf06d53a77c1c.jpg no triangle shield on the photo 0.7007352113723755\n",
      "data_sirius/01151c43898430ea68022510e2b060c6.jpg a yellow triangular shield badge 0.9061902165412903\n"
     ]
    },
    {
     "name": "stderr",
     "output_type": "stream",
     "text": [
      "Processing dataset items:   0%|          | 121/30079 [00:10<39:38, 12.59it/s]"
     ]
    },
    {
     "name": "stdout",
     "output_type": "stream",
     "text": [
      "data_sirius/01191e26bfabc74ff36383b3873f5a6b.jpg a gray triangular shield badge 0.5854320526123047\n",
      "data_sirius/011e444cf36f175fa85e35b544dc6ab9.jpg a gray triangular shield badge 0.5896533131599426\n",
      "data_sirius/011f0cbdff7ee1fe6f666f4a5bd4bd02.jpg a gray triangular shield badge 0.50579434633255\n"
     ]
    },
    {
     "name": "stderr",
     "output_type": "stream",
     "text": [
      "Processing dataset items:   0%|          | 123/30079 [00:10<37:54, 13.17it/s]"
     ]
    },
    {
     "name": "stdout",
     "output_type": "stream",
     "text": [
      "data_sirius/012103dd128c848afbbb2ebbd54b7cd5.jpg a gray triangular shield badge 0.7829326391220093\n",
      "data_sirius/0123846934c302abe47c98178ddf6a74.jpg a white triangular shield badge 0.5769745707511902\n",
      "data_sirius/0123d184274a71f26495a4639b84c93a.jpg a yellow triangular shield badge 0.8324099779129028\n",
      "data_sirius/012a38ca4e620e1e1f22f3e7742d0ed4.jpg no triangle shield on the photo 0.9809584021568298\n"
     ]
    },
    {
     "name": "stderr",
     "output_type": "stream",
     "text": [
      "Processing dataset items:   0%|          | 127/30079 [00:10<35:19, 14.13it/s]"
     ]
    },
    {
     "name": "stdout",
     "output_type": "stream",
     "text": [
      "data_sirius/012a688e902c687fa2d8a116a4e861f8.jpg a yellow triangular shield badge 0.9789507985115051\n",
      "data_sirius/013775a11f37e21c61407d4f13c8bf2a.jpg no triangle shield on the photo 0.5206337571144104\n",
      "data_sirius/0139c62303d9863a154b67966712369b.jpg a yellow triangular shield badge 0.926800012588501\n"
     ]
    },
    {
     "name": "stderr",
     "output_type": "stream",
     "text": [
      "Processing dataset items:   0%|          | 131/30079 [00:10<38:33, 12.94it/s]"
     ]
    },
    {
     "name": "stdout",
     "output_type": "stream",
     "text": [
      "data_sirius/013b1d90e086525a17983715e1d31873.jpg a black triangular shield badge 0.6750165224075317\n",
      "data_sirius/013dcfd2cec71a554b9ab04e89b1b26b.jpg no triangle shield on the photo 0.9932443499565125\n",
      "data_sirius/01403e2d849f2d88783e0ef94355739d.jpg a gray triangular shield badge 0.40993380546569824\n"
     ]
    },
    {
     "name": "stderr",
     "output_type": "stream",
     "text": [
      "Processing dataset items:   0%|          | 135/30079 [00:11<37:11, 13.42it/s]"
     ]
    },
    {
     "name": "stdout",
     "output_type": "stream",
     "text": [
      "data_sirius/0147c99bada377c4ea9d0c4e3d1a23eb.jpg a gray triangular shield badge 0.452962189912796\n",
      "data_sirius/014833cd1203d7e0727396393b268afb.jpg a white triangular shield badge 0.7800461053848267\n",
      "data_sirius/014a4cb22e3ebac48be38b57f776a89a.jpg no triangle shield on the photo 0.7714598774909973\n",
      "data_sirius/014cc4d1136778a10b42aa0beab3ab47.jpg no triangle shield on the photo 0.7876300811767578\n"
     ]
    },
    {
     "name": "stderr",
     "output_type": "stream",
     "text": [
      "Processing dataset items:   0%|          | 137/30079 [00:11<36:54, 13.52it/s]"
     ]
    },
    {
     "name": "stdout",
     "output_type": "stream",
     "text": [
      "data_sirius/014e11544f8ac5e17436f53f0fe09f52.jpg a yellow triangular shield badge 0.9591641426086426\n",
      "data_sirius/014e1bbd5217878f84d226c3eb59c993.jpg a yellow triangular shield badge 0.8418838977813721\n",
      "data_sirius/014e727276a97d424cd2cc9585d2c12c.jpg no triangle shield on the photo 0.6597313284873962\n"
     ]
    },
    {
     "name": "stderr",
     "output_type": "stream",
     "text": [
      "Processing dataset items:   0%|          | 141/30079 [00:11<37:22, 13.35it/s]"
     ]
    },
    {
     "name": "stdout",
     "output_type": "stream",
     "text": [
      "data_sirius/015877255cba8943768637005b79a9c3.jpg no triangle shield on the photo 0.6848776340484619\n",
      "data_sirius/015cd9340e6d3e77866788a3f59f86f8.jpg a white triangular shield badge 0.8164353370666504\n",
      "data_sirius/015d04d623553f351f105ed5a1eb6908.jpg no triangle shield on the photo 0.39138591289520264\n",
      "data_sirius/015e2176148a2dbe23753869f0000777.jpg no triangle shield on the photo 0.8946778774261475\n"
     ]
    },
    {
     "name": "stderr",
     "output_type": "stream",
     "text": [
      "Processing dataset items:   0%|          | 145/30079 [00:12<36:17, 13.75it/s]"
     ]
    },
    {
     "name": "stdout",
     "output_type": "stream",
     "text": [
      "data_sirius/015e83f76861c9dd5a50ce09171d7c1c.jpg a yellow triangular shield badge 0.9705464839935303\n",
      "data_sirius/0164de7a9e5cb6c59479f0afdb460c6c.jpg a gray triangular shield badge 0.4917979836463928\n",
      "data_sirius/01672d1ad2319f5101f9a50f53d62899.jpg a gray triangular shield badge 0.5139724612236023\n"
     ]
    },
    {
     "name": "stderr",
     "output_type": "stream",
     "text": [
      "Processing dataset items:   0%|          | 147/30079 [00:12<37:51, 13.18it/s]"
     ]
    },
    {
     "name": "stdout",
     "output_type": "stream",
     "text": [
      "data_sirius/0168e461e5cc6171cf5e5f8bea0b0ea0.jpg a yellow triangular shield badge 0.7186998724937439\n",
      "data_sirius/0169de1c221085e87ce9be99e8316ec5.jpg a yellow triangular shield badge 0.6872126460075378\n",
      "data_sirius/016f80aa90169ae633b506e5887a4458.jpg no triangle shield on the photo 0.6598250269889832\n"
     ]
    },
    {
     "name": "stderr",
     "output_type": "stream",
     "text": [
      "Processing dataset items:   1%|          | 151/30079 [00:12<38:16, 13.03it/s]"
     ]
    },
    {
     "name": "stdout",
     "output_type": "stream",
     "text": [
      "data_sirius/0170d3b70c8835665384e4bcd1797398.jpg a black triangular shield badge 0.6600745916366577\n",
      "data_sirius/0172357dbd2b842fafaf1acf42cfde94.jpg no triangle shield on the photo 0.9068422317504883\n",
      "data_sirius/017390a6b9dd423cffe6f85e7398c939.jpg a white triangular shield badge 0.9458838701248169\n"
     ]
    },
    {
     "name": "stderr",
     "output_type": "stream",
     "text": [
      "Processing dataset items:   1%|          | 153/30079 [00:12<37:12, 13.40it/s]"
     ]
    },
    {
     "name": "stdout",
     "output_type": "stream",
     "text": [
      "data_sirius/01739638e87e1cad69482770eddb1bf7.jpg no triangle shield on the photo 0.9513453841209412\n",
      "data_sirius/0179e8e4b66bdf0930ab34feb5b39534.jpg no triangle shield on the photo 0.5551795363426208\n",
      "data_sirius/017afd3852f0388cbd8495aef70fd176.jpg no triangle shield on the photo 0.9979459643363953\n"
     ]
    },
    {
     "name": "stderr",
     "output_type": "stream",
     "text": [
      "Processing dataset items:   1%|          | 157/30079 [00:12<39:06, 12.75it/s]"
     ]
    },
    {
     "name": "stdout",
     "output_type": "stream",
     "text": [
      "data_sirius/017c3c2a8e219bfd9fd21cd812949adf.jpg no triangle shield on the photo 0.3467644453048706\n",
      "data_sirius/017c557edb606c7b8c2cddc76da8ae36.jpg a gray triangular shield badge 0.5382882952690125\n",
      "data_sirius/017f6c760a639d6511d26c9021e7f341.jpg no triangle shield on the photo 0.757423460483551\n"
     ]
    },
    {
     "name": "stderr",
     "output_type": "stream",
     "text": [
      "Processing dataset items:   1%|          | 159/30079 [00:13<38:30, 12.95it/s]"
     ]
    },
    {
     "name": "stdout",
     "output_type": "stream",
     "text": [
      "data_sirius/0180dd3fce2225f29f9a92363f31b359.jpg a yellow triangular shield badge 0.8855903148651123\n",
      "data_sirius/018132ccfe3c25f02380caab34a8e84f.jpg a yellow triangular shield badge 0.38767537474632263\n",
      "data_sirius/0183407952006c9274d73940aded438f.jpg a white triangular shield badge 0.6835945844650269\n"
     ]
    },
    {
     "name": "stderr",
     "output_type": "stream",
     "text": [
      "Processing dataset items:   1%|          | 163/30079 [00:13<38:25, 12.98it/s]"
     ]
    },
    {
     "name": "stdout",
     "output_type": "stream",
     "text": [
      "data_sirius/0183cb61a2d95e9bb5b86e695f64342b.jpg a yellow triangular shield badge 0.9923283457756042\n",
      "data_sirius/0185e19c62e6dfe7d0a81f4d971bdf37.jpg no triangle shield on the photo 0.5459750294685364\n",
      "data_sirius/018b29072b0cb4bb08cd617938e68968.jpg no triangle shield on the photo 0.9274527430534363\n"
     ]
    },
    {
     "name": "stderr",
     "output_type": "stream",
     "text": [
      "Processing dataset items:   1%|          | 165/30079 [00:13<39:14, 12.70it/s]"
     ]
    },
    {
     "name": "stdout",
     "output_type": "stream",
     "text": [
      "data_sirius/018be475168290a3d22b08842c962a39.jpg no triangle shield on the photo 0.4698277413845062\n",
      "data_sirius/018c8b12b68f010e75195a718b448379.jpg a black triangular shield badge 0.7920995354652405\n",
      "data_sirius/018ea2554fa3cd41d1dedc997ddeb5b4.jpg a white triangular shield badge 0.677081286907196\n"
     ]
    },
    {
     "name": "stderr",
     "output_type": "stream",
     "text": [
      "Processing dataset items:   1%|          | 169/30079 [00:13<37:51, 13.17it/s]"
     ]
    },
    {
     "name": "stdout",
     "output_type": "stream",
     "text": [
      "data_sirius/018f35ce397dd4186c4ec3d278a2e964.jpg a yellow triangular shield badge 0.6686863899230957\n",
      "data_sirius/01916956375eedc5711cae6723510891.jpg a yellow triangular shield badge 0.9935057163238525\n",
      "data_sirius/019558b98f20c1a41ac41c2153319be9.jpg no triangle shield on the photo 0.9995436072349548\n"
     ]
    },
    {
     "name": "stderr",
     "output_type": "stream",
     "text": [
      "Processing dataset items:   1%|          | 171/30079 [00:14<39:22, 12.66it/s]"
     ]
    },
    {
     "name": "stdout",
     "output_type": "stream",
     "text": [
      "data_sirius/0195e1ae042ba4b47c48c2eb2b31ea23.jpg no triangle shield on the photo 0.3542194962501526\n",
      "data_sirius/0195f32db7fe104d46ad0de87fa85186.jpg no triangle shield on the photo 0.9946580529212952\n",
      "data_sirius/0198652adf7645fb9330a7fec11593af.jpg a white triangular shield badge 0.9333197474479675\n"
     ]
    },
    {
     "name": "stderr",
     "output_type": "stream",
     "text": [
      "Processing dataset items:   1%|          | 175/30079 [00:14<39:43, 12.55it/s]"
     ]
    },
    {
     "name": "stdout",
     "output_type": "stream",
     "text": [
      "data_sirius/0199d39662dbb9c9661a9f32c6460cc5.jpg a black triangular shield badge 0.4341743588447571\n",
      "data_sirius/0199d3b721950430b2a2e07c1be57e0d.jpg a yellow triangular shield badge 0.9719401001930237\n",
      "data_sirius/019b75b22d6114ef658174801a0fea72.jpg no triangle shield on the photo 0.40820327401161194\n"
     ]
    },
    {
     "name": "stderr",
     "output_type": "stream",
     "text": [
      "Processing dataset items:   1%|          | 177/30079 [00:14<39:07, 12.74it/s]"
     ]
    },
    {
     "name": "stdout",
     "output_type": "stream",
     "text": [
      "data_sirius/019b9876a3c5b5f66e58376f6c3a5b29.jpg no triangle shield on the photo 0.964011013507843\n",
      "data_sirius/019e6abb71a903a59503efd1d3b0db47.jpg a yellow triangular shield badge 0.8754147887229919\n",
      "data_sirius/01a0008bf7ca01b036d1f93677c99c4d.jpg a white triangular shield badge 0.611625611782074\n"
     ]
    },
    {
     "name": "stderr",
     "output_type": "stream",
     "text": [
      "Processing dataset items:   1%|          | 181/30079 [00:14<38:11, 13.05it/s]"
     ]
    },
    {
     "name": "stdout",
     "output_type": "stream",
     "text": [
      "data_sirius/01a2f25da6d8dc9100c5f6c2df4fa261.jpg no triangle shield on the photo 0.9789329767227173\n",
      "data_sirius/01a432b9c18e711c63f3626feccf93b0.jpg a yellow triangular shield badge 0.5237820744514465\n",
      "data_sirius/01a44a2ef77322e7ba81278600e35dba.jpg a black triangular shield badge 0.936955988407135\n"
     ]
    },
    {
     "name": "stderr",
     "output_type": "stream",
     "text": [
      "Processing dataset items:   1%|          | 183/30079 [00:14<37:10, 13.40it/s]"
     ]
    },
    {
     "name": "stdout",
     "output_type": "stream",
     "text": [
      "data_sirius/01a6c8ea7d37eedaa28cdd1df2f25188.jpg no triangle shield on the photo 0.7155316472053528\n",
      "data_sirius/01a7d1a95b0dacdf5cee3c21a7b4cb60.jpg a yellow triangular shield badge 0.42403241991996765\n",
      "data_sirius/01a937af199c598e137d310e5ae80951.jpg a yellow triangular shield badge 0.9963359832763672\n",
      "data_sirius/01aa8f7b301bede05c35c2607b303050.jpg a yellow triangular shield badge 0.6806858777999878\n"
     ]
    },
    {
     "name": "stderr",
     "output_type": "stream",
     "text": [
      "Processing dataset items:   1%|          | 187/30079 [00:15<36:30, 13.65it/s]"
     ]
    },
    {
     "name": "stdout",
     "output_type": "stream",
     "text": [
      "data_sirius/01acfab7d33eff8848969ff230cae46f.jpg a yellow triangular shield badge 0.780099630355835\n",
      "data_sirius/01ad14346973061fc374ada661ea6a36.jpg no triangle shield on the photo 0.9675268530845642\n",
      "data_sirius/01ad6c0320676e3dac51b6afc164abb4.jpg a gray triangular shield badge 0.7318038940429688\n"
     ]
    },
    {
     "name": "stderr",
     "output_type": "stream",
     "text": [
      "Processing dataset items:   1%|          | 191/30079 [00:15<37:36, 13.25it/s]"
     ]
    },
    {
     "name": "stdout",
     "output_type": "stream",
     "text": [
      "data_sirius/01b10cfa3dde86022109cb62153ca5ae.jpg a gray triangular shield badge 0.5719642043113708\n",
      "data_sirius/01b1f69965a31a1eb10ee06d777457ce.jpg no triangle shield on the photo 0.9985652565956116\n",
      "data_sirius/01b2c41dc851c5f79001289d0ab832c9.jpg a yellow triangular shield badge 0.939007580280304\n"
     ]
    },
    {
     "name": "stderr",
     "output_type": "stream",
     "text": [
      "Processing dataset items:   1%|          | 193/30079 [00:15<37:38, 13.23it/s]"
     ]
    },
    {
     "name": "stdout",
     "output_type": "stream",
     "text": [
      "data_sirius/01b2ffecf323d487afe6a26ed7fb7f85.jpg no triangle shield on the photo 0.898298442363739\n",
      "data_sirius/01b3c373e8d6a42c510c42606a5a7ac6.jpg a yellow triangular shield badge 0.8924475312232971\n",
      "data_sirius/01b73bb1707fcde4313d78651235db70.jpg no triangle shield on the photo 0.734494149684906\n"
     ]
    },
    {
     "name": "stderr",
     "output_type": "stream",
     "text": [
      "Processing dataset items:   1%|          | 197/30079 [00:16<38:44, 12.86it/s]"
     ]
    },
    {
     "name": "stdout",
     "output_type": "stream",
     "text": [
      "data_sirius/01b7fab390e72f2f05b84a7cc866d733.jpg no triangle shield on the photo 0.7640987634658813\n",
      "data_sirius/01b9d54d76060c8ef89e9dd6530c63f5.jpg a white triangular shield badge 0.9099822640419006\n",
      "data_sirius/01b9f14582b137ca66cf26c021b83d6d.jpg a yellow triangular shield badge 0.4367915987968445\n"
     ]
    },
    {
     "name": "stderr",
     "output_type": "stream",
     "text": [
      "Processing dataset items:   1%|          | 199/30079 [00:16<39:36, 12.57it/s]"
     ]
    },
    {
     "name": "stdout",
     "output_type": "stream",
     "text": [
      "data_sirius/01b9fb6e4176f83ca257fda02f91b506.jpg a yellow triangular shield badge 0.9112914204597473\n",
      "data_sirius/01bc02651ca586778a1e3cb6eb119337.jpg no triangle shield on the photo 0.9049094915390015\n",
      "data_sirius/01c4c659fe324fa3d8ecba2ce4cda67b.jpg no triangle shield on the photo 0.4909655451774597\n"
     ]
    },
    {
     "name": "stderr",
     "output_type": "stream",
     "text": [
      "Processing dataset items:   1%|          | 203/30079 [00:16<39:11, 12.71it/s]"
     ]
    },
    {
     "name": "stdout",
     "output_type": "stream",
     "text": [
      "data_sirius/01c5b1615c8d6141443023180057d5fe.jpg a white triangular shield badge 0.8082562685012817\n",
      "data_sirius/01c7c2cdf953fafc64b7b13e1edf1d6a.jpg no triangle shield on the photo 0.9860836863517761\n",
      "data_sirius/01cabeda8ed1a3d5049d86e17842ef9a.jpg a yellow triangular shield badge 0.988673985004425\n"
     ]
    },
    {
     "name": "stderr",
     "output_type": "stream",
     "text": [
      "Processing dataset items:   1%|          | 205/30079 [00:16<40:03, 12.43it/s]"
     ]
    },
    {
     "name": "stdout",
     "output_type": "stream",
     "text": [
      "data_sirius/01cb9ecfc9537d17f6deede40842d4d4.jpg a gray triangular shield badge 0.6956402063369751\n",
      "data_sirius/01cc54eb6a5aa9803f6ba969af799960.jpg no triangle shield on the photo 0.9168259501457214\n",
      "data_sirius/01cd469bdb667b0fb58a81052f852fb3.jpg a yellow triangular shield badge 0.5941054224967957\n"
     ]
    },
    {
     "name": "stderr",
     "output_type": "stream",
     "text": [
      "Processing dataset items:   1%|          | 209/30079 [00:16<38:03, 13.08it/s]"
     ]
    },
    {
     "name": "stdout",
     "output_type": "stream",
     "text": [
      "data_sirius/01cdca8a572efe038bf608b986a7ead2.jpg a gray triangular shield badge 0.5094179511070251\n",
      "data_sirius/01d11aeeb6acc0c1bc602c27a4ab186e.jpg no triangle shield on the photo 0.9901946187019348\n",
      "data_sirius/01da864382232173013e18e36c555699.jpg no triangle shield on the photo 0.9799465537071228\n"
     ]
    },
    {
     "name": "stderr",
     "output_type": "stream",
     "text": [
      "Processing dataset items:   1%|          | 211/30079 [00:17<40:02, 12.43it/s]"
     ]
    },
    {
     "name": "stdout",
     "output_type": "stream",
     "text": [
      "data_sirius/01ddb880ebf87173d1091b3950e6e5d1.jpg a black triangular shield badge 0.4560493230819702\n",
      "data_sirius/01df83e34b7170ce1cc3ba096d6583ca.jpg a black triangular shield badge 0.5609501004219055\n",
      "data_sirius/01e21495e60bb209b7501ba8b86b8fd8.jpg a white triangular shield badge 0.39090603590011597\n"
     ]
    },
    {
     "name": "stderr",
     "output_type": "stream",
     "text": [
      "Processing dataset items:   1%|          | 215/30079 [00:17<44:10, 11.27it/s]"
     ]
    },
    {
     "name": "stdout",
     "output_type": "stream",
     "text": [
      "data_sirius/01e3b616581585d971ee7905f874406d.jpg a yellow triangular shield badge 0.8482524156570435\n",
      "data_sirius/01ec180ed6c7f3ce3943ce959b5a8112.jpg no triangle shield on the photo 0.6021681427955627\n",
      "data_sirius/01ec53a0677d8d7c84654c4750083041.jpg a yellow triangular shield badge 0.9493018388748169\n"
     ]
    },
    {
     "name": "stderr",
     "output_type": "stream",
     "text": [
      "Processing dataset items:   1%|          | 217/30079 [00:17<50:26,  9.87it/s]"
     ]
    },
    {
     "name": "stdout",
     "output_type": "stream",
     "text": [
      "data_sirius/01ed8bf0bbcb999364d7692b4fd48b8e.jpg a yellow triangular shield badge 0.9385716319084167\n",
      "data_sirius/01f11d85138747f5849ebe7f02c1dfac.jpg a white triangular shield badge 0.6927610635757446\n"
     ]
    },
    {
     "name": "stderr",
     "output_type": "stream",
     "text": [
      "Processing dataset items:   1%|          | 219/30079 [00:18<51:59,  9.57it/s]"
     ]
    },
    {
     "name": "stdout",
     "output_type": "stream",
     "text": [
      "data_sirius/01f183d52afdc037c0c87b9949fed2b8.jpg no triangle shield on the photo 0.6945955157279968\n",
      "data_sirius/01f21bdb6252664338df45b0cf46c493.jpg no triangle shield on the photo 0.9508064985275269\n"
     ]
    },
    {
     "name": "stderr",
     "output_type": "stream",
     "text": [
      "Processing dataset items:   1%|          | 221/30079 [00:18<56:53,  8.75it/s]"
     ]
    },
    {
     "name": "stdout",
     "output_type": "stream",
     "text": [
      "data_sirius/01f4340e513a5e85f74914acd5076470.jpg no triangle shield on the photo 0.5988869667053223\n",
      "data_sirius/01f71e047e92beb5577a8e9d54f7758c.jpg no triangle shield on the photo 0.6331251859664917\n"
     ]
    },
    {
     "name": "stderr",
     "output_type": "stream",
     "text": [
      "Processing dataset items:   1%|          | 223/30079 [00:18<54:24,  9.14it/s]"
     ]
    },
    {
     "name": "stdout",
     "output_type": "stream",
     "text": [
      "data_sirius/01f7ff8b426c5978ddce4253deb3ab77.jpg no triangle shield on the photo 0.38370561599731445\n",
      "data_sirius/01fd3f8273f521dfaa4147b5bee16680.jpg a yellow triangular shield badge 0.577921986579895\n",
      "data_sirius/0201e7220180678f586d9c6aa000d225.jpg no triangle shield on the photo 0.9913370609283447\n"
     ]
    },
    {
     "name": "stderr",
     "output_type": "stream",
     "text": [
      "Processing dataset items:   1%|          | 226/30079 [00:18<52:30,  9.48it/s]"
     ]
    },
    {
     "name": "stdout",
     "output_type": "stream",
     "text": [
      "data_sirius/0202b46c6bfd3717bdd5c3b12e5330db.jpg a black triangular shield badge 0.7923340201377869\n",
      "data_sirius/0204cbff29d406fc64bfa06205ba919c.jpg a black triangular shield badge 0.9963616728782654\n"
     ]
    },
    {
     "name": "stderr",
     "output_type": "stream",
     "text": [
      "Processing dataset items:   1%|          | 228/30079 [00:19<52:21,  9.50it/s]"
     ]
    },
    {
     "name": "stdout",
     "output_type": "stream",
     "text": [
      "data_sirius/0206387ed4708abfdace5db03cb23153.jpg a white triangular shield badge 0.5412376523017883\n",
      "data_sirius/0208c1c20f93dd220449aa6c34f2d30c.jpg no triangle shield on the photo 0.9899107813835144\n",
      "data_sirius/020afd148a491150b34660b57912ad6c.jpg a white triangular shield badge 0.42115533351898193\n"
     ]
    },
    {
     "name": "stderr",
     "output_type": "stream",
     "text": [
      "Processing dataset items:   1%|          | 232/30079 [00:19<48:47, 10.19it/s]"
     ]
    },
    {
     "name": "stdout",
     "output_type": "stream",
     "text": [
      "data_sirius/0216e0df27401e5ba04a3b4b46ebb354.jpg a yellow triangular shield badge 0.602471113204956\n",
      "data_sirius/02183f5b9e46960ab3319702fc6b16de.jpg a gray triangular shield badge 0.732231080532074\n",
      "data_sirius/021aa5b61f49fea61da44786eee4f17f.jpg a yellow triangular shield badge 0.9111371040344238\n"
     ]
    },
    {
     "name": "stderr",
     "output_type": "stream",
     "text": [
      "Processing dataset items:   1%|          | 234/30079 [00:19<46:25, 10.72it/s]"
     ]
    },
    {
     "name": "stdout",
     "output_type": "stream",
     "text": [
      "data_sirius/021aea18f49cf240a82d845460641382.jpg a white triangular shield badge 0.5479264259338379\n",
      "data_sirius/021b74688b8b8ae26a427d4e8986b863.jpg a gray triangular shield badge 0.4497315585613251\n",
      "data_sirius/021c8a279e9b7bfe58ade7c80342030f.jpg no triangle shield on the photo 0.9180189967155457\n"
     ]
    },
    {
     "name": "stderr",
     "output_type": "stream",
     "text": [
      "Processing dataset items:   1%|          | 238/30079 [00:19<45:48, 10.86it/s]"
     ]
    },
    {
     "name": "stdout",
     "output_type": "stream",
     "text": [
      "data_sirius/021eba9891237430e044a229c11fa9d8.jpg a yellow triangular shield badge 0.9924907088279724\n",
      "data_sirius/021f3034426270dfb65f38f277b18e76.jpg a black triangular shield badge 0.41654375195503235\n",
      "data_sirius/0221bc99b863757c24c614ffa96fd002.jpg a white triangular shield badge 0.9732656478881836\n"
     ]
    },
    {
     "name": "stderr",
     "output_type": "stream",
     "text": [
      "Processing dataset items:   1%|          | 240/30079 [00:20<43:11, 11.51it/s]"
     ]
    },
    {
     "name": "stdout",
     "output_type": "stream",
     "text": [
      "data_sirius/02221147182b22d7baf61586040927f2.jpg no triangle shield on the photo 0.5214251279830933\n",
      "data_sirius/022351fe7f9cde5026f452853dd63b7c.jpg no triangle shield on the photo 0.9955768585205078\n",
      "data_sirius/0225cd45ab89946a9852c6415c23f1a9.jpg a gray triangular shield badge 0.38161003589630127\n"
     ]
    },
    {
     "name": "stderr",
     "output_type": "stream",
     "text": [
      "Processing dataset items:   1%|          | 244/30079 [00:20<41:07, 12.09it/s]"
     ]
    },
    {
     "name": "stdout",
     "output_type": "stream",
     "text": [
      "data_sirius/0227009559f8abbbf1b2ad0e8c8a55ce.jpg a yellow triangular shield badge 0.9696301817893982\n",
      "data_sirius/022a213899ebd28137e1765346f57f9e.jpg a white triangular shield badge 0.4707781672477722\n",
      "data_sirius/022a3a15215160d304cfd0b0697aa7ad.jpg a white triangular shield badge 0.5179940462112427\n"
     ]
    },
    {
     "name": "stderr",
     "output_type": "stream",
     "text": [
      "Processing dataset items:   1%|          | 246/30079 [00:20<40:04, 12.41it/s]"
     ]
    },
    {
     "name": "stdout",
     "output_type": "stream",
     "text": [
      "data_sirius/022cb963859d72d38925d4fcdd71c627.jpg a yellow triangular shield badge 0.7208200097084045\n",
      "data_sirius/022fd92d61e87ea532c92984b0fff8f8.jpg no triangle shield on the photo 0.9805998206138611\n",
      "data_sirius/023594fa1c2966f7a96ed36c7a83974c.jpg a white triangular shield badge 0.7931939363479614\n"
     ]
    },
    {
     "name": "stderr",
     "output_type": "stream",
     "text": [
      "Processing dataset items:   1%|          | 250/30079 [00:20<40:15, 12.35it/s]"
     ]
    },
    {
     "name": "stdout",
     "output_type": "stream",
     "text": [
      "data_sirius/0238efd2b6bd2032c394ba95afff2948.jpg no triangle shield on the photo 0.8410954475402832\n",
      "data_sirius/0239af8f974c275cc543d2ff4b405db6.jpg no triangle shield on the photo 0.9831908345222473\n",
      "data_sirius/023c930ba7c3e0ce57ecee9e05447f43.jpg no triangle shield on the photo 0.987726628780365\n"
     ]
    },
    {
     "name": "stderr",
     "output_type": "stream",
     "text": [
      "Processing dataset items:   1%|          | 252/30079 [00:21<39:40, 12.53it/s]"
     ]
    },
    {
     "name": "stdout",
     "output_type": "stream",
     "text": [
      "data_sirius/023cba012d180521b606871a23cf7f2a.jpg no triangle shield on the photo 0.9999394416809082\n",
      "data_sirius/023e7bc2f333f7b3bba5e853fe656685.jpg a black triangular shield badge 0.5247349143028259\n",
      "data_sirius/024024a26761605e9ac51922384c730b.jpg a white triangular shield badge 0.7741577625274658\n"
     ]
    },
    {
     "name": "stderr",
     "output_type": "stream",
     "text": [
      "Processing dataset items:   1%|          | 256/30079 [00:21<39:36, 12.55it/s]"
     ]
    },
    {
     "name": "stdout",
     "output_type": "stream",
     "text": [
      "data_sirius/0241513fcbaeba90060f8efe75c7f01b.jpg a yellow triangular shield badge 0.947985827922821\n",
      "data_sirius/0242045c7e3ca5ff366af4f0bb767d2b.jpg a gray triangular shield badge 0.6621599197387695\n",
      "data_sirius/02430d3eb8486975cf72561530992871.jpg a yellow triangular shield badge 0.8870898485183716\n"
     ]
    },
    {
     "name": "stderr",
     "output_type": "stream",
     "text": [
      "Processing dataset items:   1%|          | 258/30079 [00:21<38:03, 13.06it/s]"
     ]
    },
    {
     "name": "stdout",
     "output_type": "stream",
     "text": [
      "data_sirius/0243110435c0c9590c682e70b881501e.jpg no triangle shield on the photo 0.4613911509513855\n",
      "data_sirius/024337036694b166285e463e0b7fdc11.jpg a black triangular shield badge 0.8786810636520386\n",
      "data_sirius/0244758ea5d6cf6ac1c8862fb4e5be9a.jpg no triangle shield on the photo 0.8094190955162048\n"
     ]
    },
    {
     "name": "stderr",
     "output_type": "stream",
     "text": [
      "Processing dataset items:   1%|          | 260/30079 [00:21<38:36, 12.87it/s]"
     ]
    },
    {
     "name": "stdout",
     "output_type": "stream",
     "text": [
      "data_sirius/0244e71032070aff4a548d7a17d70c3c.jpg no triangle shield on the photo 0.9872928857803345\n",
      "data_sirius/024593111ee43aefe03844e0bf1d2089.jpg a yellow triangular shield badge 0.9426112771034241\n"
     ]
    },
    {
     "name": "stderr",
     "output_type": "stream",
     "text": [
      "Processing dataset items:   1%|          | 264/30079 [00:21<41:41, 11.92it/s]"
     ]
    },
    {
     "name": "stdout",
     "output_type": "stream",
     "text": [
      "data_sirius/0247db72003368102d72c903a6afc5f3.jpg a white triangular shield badge 0.44391685724258423\n",
      "data_sirius/024a8e5e79020b9080b64d4468693a67.jpg a white triangular shield badge 0.4050164222717285\n",
      "data_sirius/0251ca5148266f302f335cdffe624813.jpg no triangle shield on the photo 0.575234055519104\n"
     ]
    },
    {
     "name": "stderr",
     "output_type": "stream",
     "text": [
      "Processing dataset items:   1%|          | 266/30079 [00:22<44:43, 11.11it/s]"
     ]
    },
    {
     "name": "stdout",
     "output_type": "stream",
     "text": [
      "data_sirius/0252571c0a4dbe7647fe0d7b4b5a9814.jpg no triangle shield on the photo 0.9715309143066406\n",
      "data_sirius/0252bdb8b34be9c7aee733a95500887c.jpg a yellow triangular shield badge 0.9797394871711731\n",
      "data_sirius/0253c2d9073d8950e25e8ce1e79c395a.jpg no triangle shield on the photo 0.9791828989982605\n"
     ]
    },
    {
     "name": "stderr",
     "output_type": "stream",
     "text": [
      "Processing dataset items:   1%|          | 270/30079 [00:22<41:10, 12.06it/s]"
     ]
    },
    {
     "name": "stdout",
     "output_type": "stream",
     "text": [
      "data_sirius/0255ebb09514b9ce350082bd60d21774.jpg no triangle shield on the photo 0.7347395420074463\n",
      "data_sirius/025b46786cecff178bbe0fb7fe3a49c4.jpg a white triangular shield badge 0.5207611322402954\n",
      "data_sirius/025f42b6e47b26f3de25b1f33524b77f.jpg a yellow triangular shield badge 0.9968135952949524\n"
     ]
    },
    {
     "name": "stderr",
     "output_type": "stream",
     "text": [
      "Processing dataset items:   1%|          | 272/30079 [00:22<42:17, 11.75it/s]"
     ]
    },
    {
     "name": "stdout",
     "output_type": "stream",
     "text": [
      "data_sirius/025fcfa4b0ad050f945e4192fd1695ca.jpg no triangle shield on the photo 0.5033477544784546\n",
      "data_sirius/026066b4e0ca47696245589256c62cb2.jpg a yellow triangular shield badge 0.667666494846344\n",
      "data_sirius/0260a28f9b4a1e3ed41c1f129e636bdd.jpg no triangle shield on the photo 0.46244123578071594\n"
     ]
    },
    {
     "name": "stderr",
     "output_type": "stream",
     "text": [
      "Processing dataset items:   1%|          | 276/30079 [00:22<39:49, 12.47it/s]"
     ]
    },
    {
     "name": "stdout",
     "output_type": "stream",
     "text": [
      "data_sirius/026222e441b98e504d0af338229caa50.jpg a black triangular shield badge 0.4281172752380371\n",
      "data_sirius/0269bfc74a5cfc55f1969b3387fed2c9.jpg a gray triangular shield badge 0.5824839472770691\n",
      "data_sirius/026b118c8bf334825843cde338b3aa0c.jpg a yellow triangular shield badge 0.7095714807510376\n"
     ]
    },
    {
     "name": "stderr",
     "output_type": "stream",
     "text": [
      "Processing dataset items:   1%|          | 278/30079 [00:23<45:22, 10.95it/s]"
     ]
    },
    {
     "name": "stdout",
     "output_type": "stream",
     "text": [
      "data_sirius/026c7b9b4cbea1dd3852e25ad3c81d3d.jpg no triangle shield on the photo 0.4698277413845062\n",
      "data_sirius/026d74b6febd355f1e3f800f792ff320.jpg a yellow triangular shield badge 0.8059448003768921\n",
      "data_sirius/02729bef47dcb9b0a5c1edad9a76f854.jpg a yellow triangular shield badge 0.7912411093711853\n"
     ]
    },
    {
     "name": "stderr",
     "output_type": "stream",
     "text": [
      "Processing dataset items:   1%|          | 282/30079 [00:23<41:55, 11.84it/s]"
     ]
    },
    {
     "name": "stdout",
     "output_type": "stream",
     "text": [
      "data_sirius/0272d272febb02eca137619d4d37d164.jpg a yellow triangular shield badge 0.7160400748252869\n",
      "data_sirius/027367888ebe5fea433a5286981ebe1d.jpg a black triangular shield badge 0.8801871538162231\n",
      "data_sirius/0275d97979ab6fc5fa51aea10c3e10bd.jpg no triangle shield on the photo 0.9749426245689392\n"
     ]
    },
    {
     "name": "stderr",
     "output_type": "stream",
     "text": [
      "Processing dataset items:   1%|          | 284/30079 [00:23<41:38, 11.92it/s]"
     ]
    },
    {
     "name": "stdout",
     "output_type": "stream",
     "text": [
      "data_sirius/02774d079c5994791281a529548df519.jpg no triangle shield on the photo 0.5491222143173218\n",
      "data_sirius/02786cb7f0ea45fee985b6cea3036e2b.jpg a white triangular shield badge 0.682344913482666\n",
      "data_sirius/027a748a18ea2cce0ebf0f9f501bf7fb.jpg a yellow triangular shield badge 0.9499543309211731\n"
     ]
    },
    {
     "name": "stderr",
     "output_type": "stream",
     "text": [
      "Processing dataset items:   1%|          | 288/30079 [00:24<40:06, 12.38it/s]"
     ]
    },
    {
     "name": "stdout",
     "output_type": "stream",
     "text": [
      "data_sirius/027aca1e096bac2b172d97b1aaf06fde.jpg no triangle shield on the photo 0.777203381061554\n",
      "data_sirius/027e192645b9ed6e2e2733fbf3cda4ef.jpg a gray triangular shield badge 0.8052666187286377\n",
      "data_sirius/027e3555cef1de472a6f1f7daa716a38.jpg no triangle shield on the photo 0.41366568207740784\n"
     ]
    },
    {
     "name": "stderr",
     "output_type": "stream",
     "text": [
      "Processing dataset items:   1%|          | 290/30079 [00:24<39:18, 12.63it/s]"
     ]
    },
    {
     "name": "stdout",
     "output_type": "stream",
     "text": [
      "data_sirius/027eb4bfcff24302203c15143da047da.jpg no triangle shield on the photo 0.5930715203285217\n",
      "data_sirius/027f9ada5d9cf8ffcff0bd6bb99e6282.jpg no triangle shield on the photo 0.6693896651268005\n",
      "data_sirius/02817c59268cfa0c80bccb2355f912b9.jpg no triangle shield on the photo 0.797652006149292\n",
      "data_sirius/02837338ce4f6c205c60e088906b61e8.jpg a yellow triangular shield badge 0.7788612246513367\n"
     ]
    },
    {
     "name": "stderr",
     "output_type": "stream",
     "text": [
      "Processing dataset items:   1%|          | 294/30079 [00:24<40:04, 12.39it/s]"
     ]
    },
    {
     "name": "stdout",
     "output_type": "stream",
     "text": [
      "data_sirius/028d06995fe437c5cf3a3f7c875b77ad.jpg no triangle shield on the photo 0.7639977335929871\n",
      "data_sirius/02900cb6a1538b4653e00dfeb7b5b68d.jpg no triangle shield on the photo 0.5971862077713013\n",
      "data_sirius/02978f0122b91f0130b2f88a22115828.jpg a white triangular shield badge 0.7435402274131775\n"
     ]
    },
    {
     "name": "stderr",
     "output_type": "stream",
     "text": [
      "Processing dataset items:   1%|          | 298/30079 [00:24<39:14, 12.65it/s]"
     ]
    },
    {
     "name": "stdout",
     "output_type": "stream",
     "text": [
      "data_sirius/029899e62bc06a1f1eb696e602d642ce.jpg no triangle shield on the photo 0.7097457051277161\n",
      "data_sirius/02997b1474ad324439c884c0bfead2ff.jpg a white triangular shield badge 0.709639310836792\n",
      "data_sirius/029b1c75f86d9311b8e49d5a992bf6b4.jpg a white triangular shield badge 0.8423954248428345\n"
     ]
    },
    {
     "name": "stderr",
     "output_type": "stream",
     "text": [
      "Processing dataset items:   1%|          | 300/30079 [00:24<37:46, 13.14it/s]"
     ]
    },
    {
     "name": "stdout",
     "output_type": "stream",
     "text": [
      "data_sirius/029c2355e9cf972acb23dd268f457742.jpg no triangle shield on the photo 0.5169254541397095\n",
      "data_sirius/029d04620ac0a15709d85b7a84133b75.jpg a yellow triangular shield badge 0.7501283288002014\n",
      "data_sirius/029d0a836d3abfbe17c83355a08a6480.jpg no triangle shield on the photo 0.6932137608528137\n"
     ]
    },
    {
     "name": "stderr",
     "output_type": "stream",
     "text": [
      "Processing dataset items:   1%|          | 304/30079 [00:25<40:23, 12.29it/s]"
     ]
    },
    {
     "name": "stdout",
     "output_type": "stream",
     "text": [
      "data_sirius/029fba3d508fd3e2ee4317b4d5c5e762.jpg no triangle shield on the photo 0.9371709823608398\n",
      "data_sirius/02aa679429ae7b45962be011581b8804.jpg a white triangular shield badge 0.7676886916160583\n",
      "data_sirius/02aaf80e89b0ddcb0050fc931c838e68.jpg no triangle shield on the photo 0.6913459897041321\n"
     ]
    },
    {
     "name": "stderr",
     "output_type": "stream",
     "text": [
      "Processing dataset items:   1%|          | 306/30079 [00:25<39:18, 12.62it/s]"
     ]
    },
    {
     "name": "stdout",
     "output_type": "stream",
     "text": [
      "data_sirius/02ae3c2c6632459bee0fa154d80c8827.jpg a white triangular shield badge 0.5050466060638428\n",
      "data_sirius/02b31194a7b73135581dd227a18e4982.jpg a white triangular shield badge 0.381059467792511\n",
      "data_sirius/02b46cfaa536c4db5286d470de0e928f.jpg a yellow triangular shield badge 0.9683054089546204\n",
      "data_sirius/02b5acf0e6f50a56068020e7ad1ed4d9.jpg no triangle shield on the photo 0.8913236856460571\n"
     ]
    },
    {
     "name": "stderr",
     "output_type": "stream",
     "text": [
      "Processing dataset items:   1%|          | 310/30079 [00:25<39:12, 12.65it/s]"
     ]
    },
    {
     "name": "stdout",
     "output_type": "stream",
     "text": [
      "data_sirius/02b71032437fbcf851455bcf8b8fd1b7.jpg no triangle shield on the photo 0.8168967366218567\n",
      "data_sirius/02c6ae987459d6553acb20d6e2716303.jpg a yellow triangular shield badge 0.5461354851722717\n",
      "data_sirius/02c9d04136a4571f0324d900bc723aeb.jpg a black triangular shield badge 0.5481386184692383\n"
     ]
    },
    {
     "name": "stderr",
     "output_type": "stream",
     "text": [
      "Processing dataset items:   1%|          | 314/30079 [00:26<36:25, 13.62it/s]"
     ]
    },
    {
     "name": "stdout",
     "output_type": "stream",
     "text": [
      "data_sirius/02ca7877f9ac1b655ef6457365a867aa.jpg no triangle shield on the photo 0.9993256330490112\n",
      "data_sirius/02cd02cf5e86dbac9675598ca3410628.jpg a yellow triangular shield badge 0.9101096391677856\n",
      "data_sirius/02cd576957f0e3ea3ef4f0fca969c4fe.jpg no triangle shield on the photo 0.9930232763290405\n",
      "data_sirius/02cd7296312dca187ba7eade060f4dff.jpg a gray triangular shield badge 0.482371985912323\n"
     ]
    },
    {
     "name": "stderr",
     "output_type": "stream",
     "text": [
      "Processing dataset items:   1%|          | 318/30079 [00:26<35:58, 13.79it/s]"
     ]
    },
    {
     "name": "stdout",
     "output_type": "stream",
     "text": [
      "data_sirius/02cde95ec974a5e5946668a47863bae7.jpg a white triangular shield badge 0.4718196392059326\n",
      "data_sirius/02d60c27098cde1281c52f9f3a96c523.jpg a white triangular shield badge 0.5460874438285828\n",
      "data_sirius/02d7be6bd0df9391b9f647b5d438ff52.jpg a black triangular shield badge 0.9523680210113525\n"
     ]
    },
    {
     "name": "stderr",
     "output_type": "stream",
     "text": [
      "Processing dataset items:   1%|          | 320/30079 [00:26<37:55, 13.08it/s]"
     ]
    },
    {
     "name": "stdout",
     "output_type": "stream",
     "text": [
      "data_sirius/02d8bee884598648648ad70e95c07831.jpg a yellow triangular shield badge 0.8619451522827148\n",
      "data_sirius/02d903406d9efc7b4c2b8d5ec12d70ed.jpg no triangle shield on the photo 0.6764887571334839\n",
      "data_sirius/02dbb4d557c5688ab67cce2939e4d2d2.jpg a white triangular shield badge 0.6381528973579407\n"
     ]
    },
    {
     "name": "stderr",
     "output_type": "stream",
     "text": [
      "Processing dataset items:   1%|          | 324/30079 [00:26<35:10, 14.10it/s]"
     ]
    },
    {
     "name": "stdout",
     "output_type": "stream",
     "text": [
      "data_sirius/02dcfae54d2b38a5e3bf156813f69229.jpg a black triangular shield badge 0.9506607055664062\n",
      "data_sirius/02deafafd63b0db3a6c3ef5e97ed78f5.jpg a yellow triangular shield badge 0.36091360449790955\n",
      "data_sirius/02e4bc31ce10c25512d86781b78df928.jpg a gray triangular shield badge 0.43295031785964966\n",
      "data_sirius/02ed5bae4543a2d0aee5cdab40bad50f.jpg a yellow triangular shield badge 0.9717819094657898\n"
     ]
    },
    {
     "name": "stderr",
     "output_type": "stream",
     "text": [
      "Processing dataset items:   1%|          | 328/30079 [00:27<35:49, 13.84it/s]"
     ]
    },
    {
     "name": "stdout",
     "output_type": "stream",
     "text": [
      "data_sirius/02f1bad05a721ba91a2b78caf006e522.jpg a yellow triangular shield badge 0.9879879951477051\n",
      "data_sirius/02f255ed59c9a33da376dcfeb8e153ff.jpg a white triangular shield badge 0.9646924734115601\n",
      "data_sirius/02f358739984f0d4b06e38cd35a7b4f0.jpg no triangle shield on the photo 0.46910908818244934\n"
     ]
    },
    {
     "name": "stderr",
     "output_type": "stream",
     "text": [
      "Processing dataset items:   1%|          | 330/30079 [00:27<36:52, 13.44it/s]"
     ]
    },
    {
     "name": "stdout",
     "output_type": "stream",
     "text": [
      "data_sirius/02f36e24f28f433ee221103c037b1ca3.jpg a yellow triangular shield badge 0.9680318832397461\n",
      "data_sirius/02f50cd93db333e6857599441d25d2ae.jpg a black triangular shield badge 0.9036195874214172\n",
      "data_sirius/02f5c6994d3cfaa111cd13fcc09928e0.jpg no triangle shield on the photo 0.9944934844970703\n"
     ]
    },
    {
     "name": "stderr",
     "output_type": "stream",
     "text": [
      "Processing dataset items:   1%|          | 334/30079 [00:27<36:20, 13.64it/s]"
     ]
    },
    {
     "name": "stdout",
     "output_type": "stream",
     "text": [
      "data_sirius/02f681962ad88f6b53ab0fd21f1d7d64.jpg a yellow triangular shield badge 0.47223320603370667\n",
      "data_sirius/02fbb5ecfd67019764cdc4b743848f56.jpg a black triangular shield badge 0.45478373765945435\n",
      "data_sirius/02fd24bb5a30f39f5831b8e975d5bee7.jpg no triangle shield on the photo 0.4418419599533081\n",
      "data_sirius/02fe073d3d9e17f1d0798c1e9508da4c.jpg a yellow triangular shield badge 0.9226800799369812\n"
     ]
    },
    {
     "name": "stderr",
     "output_type": "stream",
     "text": [
      "Processing dataset items:   1%|          | 338/30079 [00:27<45:11, 10.97it/s]"
     ]
    },
    {
     "name": "stdout",
     "output_type": "stream",
     "text": [
      "data_sirius/02febe2be5d75e0de9eb70b1ffa814a2.jpg no triangle shield on the photo 0.8125424385070801\n",
      "data_sirius/0305cf381ca3742fe2d72eb37afa2f6a.jpg a black triangular shield badge 0.8741347789764404\n",
      "data_sirius/03064af0ff2c4dd127d63d7c5a99ab4c.jpg a yellow triangular shield badge 0.3436843156814575\n"
     ]
    },
    {
     "name": "stderr",
     "output_type": "stream",
     "text": [
      "Processing dataset items:   1%|          | 340/30079 [00:28<43:50, 11.30it/s]"
     ]
    },
    {
     "name": "stdout",
     "output_type": "stream",
     "text": [
      "data_sirius/030877093449d90d32a41d6862fd847b.jpg no triangle shield on the photo 0.9735800623893738\n",
      "data_sirius/0308807ee7a2d748548453ad2a248990.jpg no triangle shield on the photo 0.99483722448349\n",
      "data_sirius/030e3d422c665c773e1d7f9995e3beff.jpg no triangle shield on the photo 0.9982730150222778\n"
     ]
    },
    {
     "name": "stderr",
     "output_type": "stream",
     "text": [
      "Processing dataset items:   1%|          | 344/30079 [00:28<45:39, 10.85it/s]"
     ]
    },
    {
     "name": "stdout",
     "output_type": "stream",
     "text": [
      "data_sirius/030e7b143afd5a1264d5b39f8d97afd1.jpg no triangle shield on the photo 0.8694049715995789\n",
      "data_sirius/0310493715474a412fed3eee3ed33d2d.jpg a yellow triangular shield badge 0.8329625725746155\n",
      "data_sirius/0317b188ed18a52c01c1ade4ea66cd1f.jpg no triangle shield on the photo 0.9373564124107361\n"
     ]
    },
    {
     "name": "stderr",
     "output_type": "stream",
     "text": [
      "Processing dataset items:   1%|          | 346/30079 [00:28<43:35, 11.37it/s]"
     ]
    },
    {
     "name": "stdout",
     "output_type": "stream",
     "text": [
      "data_sirius/0317bfd528a016bbba5d6a0f64370f86.jpg no triangle shield on the photo 0.4516516327857971\n",
      "data_sirius/031d9ea64610bb62a1b250283eea15a2.jpg a yellow triangular shield badge 0.8634431958198547\n"
     ]
    },
    {
     "name": "stderr",
     "output_type": "stream",
     "text": [
      "Processing dataset items:   1%|          | 348/30079 [00:28<49:30, 10.01it/s]"
     ]
    },
    {
     "name": "stdout",
     "output_type": "stream",
     "text": [
      "data_sirius/031f06a1110696e2e329e1de509e7f85.jpg no triangle shield on the photo 0.7546148300170898\n",
      "data_sirius/0321cc10b6ab65a52da27ec895cfea65.jpg a white triangular shield badge 0.7919040322303772\n",
      "data_sirius/03264bd7224b16dc9718755d997982ec.jpg a gray triangular shield badge 0.8755250573158264\n"
     ]
    },
    {
     "name": "stderr",
     "output_type": "stream",
     "text": [
      "Processing dataset items:   1%|          | 352/30079 [00:29<42:27, 11.67it/s]"
     ]
    },
    {
     "name": "stdout",
     "output_type": "stream",
     "text": [
      "data_sirius/032a3863e2123dbf605a55776cf3663e.jpg a black triangular shield badge 0.6117104291915894\n",
      "data_sirius/032af5816bd6eebb84191023d33fa779.jpg a white triangular shield badge 0.3559240400791168\n",
      "data_sirius/032c785339cdffb4c8eb3b5d64517552.jpg no triangle shield on the photo 0.7765477299690247\n",
      "data_sirius/0331490ee903f1d9c822baa42e497a05.jpg a white triangular shield badge 0.46619606018066406\n"
     ]
    },
    {
     "name": "stderr",
     "output_type": "stream",
     "text": [
      "Processing dataset items:   1%|          | 356/30079 [00:29<44:21, 11.17it/s]"
     ]
    },
    {
     "name": "stdout",
     "output_type": "stream",
     "text": [
      "data_sirius/03316e3315a5f00a4b137cf0d34ea0bb.jpg a yellow triangular shield badge 0.630342960357666\n",
      "data_sirius/03341be732291b27b7dfbdfde45c9b02.jpg a white triangular shield badge 0.4509370028972626\n",
      "data_sirius/0338689da3ca661f0de055e4ecf7831d.jpg no triangle shield on the photo 0.9999911785125732\n",
      "data_sirius/03391db0a31570dd13f7270eff6c48c3.jpg a white triangular shield badge 0.8943333625793457\n"
     ]
    },
    {
     "name": "stderr",
     "output_type": "stream",
     "text": [
      "Processing dataset items:   1%|          | 360/30079 [00:29<41:32, 11.92it/s]"
     ]
    },
    {
     "name": "stdout",
     "output_type": "stream",
     "text": [
      "data_sirius/033df57b94a71cf62f53a88fc4176861.jpg a white triangular shield badge 0.6711521744728088\n",
      "data_sirius/033ed41ca568d32bd77393a463c7eaeb.jpg a gray triangular shield badge 0.5285407900810242\n",
      "data_sirius/03402953f82d6b0a1f28e61a2e5c01e6.jpg a yellow triangular shield badge 0.5971539616584778\n"
     ]
    },
    {
     "name": "stderr",
     "output_type": "stream",
     "text": [
      "Processing dataset items:   1%|          | 362/30079 [00:30<43:09, 11.48it/s]"
     ]
    },
    {
     "name": "stdout",
     "output_type": "stream",
     "text": [
      "data_sirius/0342684900f19234395840b4145978ee.jpg no triangle shield on the photo 0.9999518394470215\n",
      "data_sirius/03446f2bac9906711f8c10e0ef08fe86.jpg no triangle shield on the photo 0.9544228911399841\n",
      "data_sirius/0346d26d2917efa70a579a67e7996f0b.jpg no triangle shield on the photo 0.3851902186870575\n"
     ]
    },
    {
     "name": "stderr",
     "output_type": "stream",
     "text": [
      "Processing dataset items:   1%|          | 366/30079 [00:30<43:04, 11.49it/s]"
     ]
    },
    {
     "name": "stdout",
     "output_type": "stream",
     "text": [
      "data_sirius/0347a82af8d293eafe5d866e273261ed.jpg a white triangular shield badge 0.4288749694824219\n",
      "data_sirius/0347eef9ab32d0683c41ad0d7a8f8f35.jpg a yellow triangular shield badge 0.689259946346283\n",
      "data_sirius/034cf21bee00e5a7c9209b869a5e96fa.jpg a yellow triangular shield badge 0.9166789650917053\n"
     ]
    },
    {
     "name": "stderr",
     "output_type": "stream",
     "text": [
      "Processing dataset items:   1%|          | 368/30079 [00:30<42:23, 11.68it/s]"
     ]
    },
    {
     "name": "stdout",
     "output_type": "stream",
     "text": [
      "data_sirius/034d399ad84522fa264810a323fb452d.jpg no triangle shield on the photo 0.9771453142166138\n",
      "data_sirius/034e1da52cb660f3a764c1db960b3101.jpg a yellow triangular shield badge 0.5107479095458984\n",
      "data_sirius/034e2321c5df20010e6c47e858833ada.jpg no triangle shield on the photo 0.9502245783805847\n"
     ]
    },
    {
     "name": "stderr",
     "output_type": "stream",
     "text": [
      "Processing dataset items:   1%|          | 372/30079 [00:30<41:37, 11.89it/s]"
     ]
    },
    {
     "name": "stdout",
     "output_type": "stream",
     "text": [
      "data_sirius/0356147b59ab213f4dbdead2575147c0.jpg no triangle shield on the photo 0.9564788937568665\n",
      "data_sirius/0356863df4b6d12ae653b27db6c0e5c9.jpg no triangle shield on the photo 0.8898176550865173\n",
      "data_sirius/035a2decf6a571e044dc8cf130bdc44d.jpg no triangle shield on the photo 0.7303610444068909\n"
     ]
    },
    {
     "name": "stderr",
     "output_type": "stream",
     "text": [
      "Processing dataset items:   1%|          | 374/30079 [00:31<40:10, 12.32it/s]"
     ]
    },
    {
     "name": "stdout",
     "output_type": "stream",
     "text": [
      "data_sirius/035f82276105543c296bf5ab1be32d01.jpg no triangle shield on the photo 0.6926227807998657\n",
      "data_sirius/0360a5fec4db4af6645a8624f94ce58f.jpg a white triangular shield badge 0.4731456935405731\n",
      "data_sirius/03610485265592c9bee11d4088d20ba0.jpg no triangle shield on the photo 0.9743054509162903\n",
      "data_sirius/0363ee67fe25a39be3bcb7f9c903f399.jpg a yellow triangular shield badge 0.7912154793739319\n"
     ]
    },
    {
     "name": "stderr",
     "output_type": "stream",
     "text": [
      "Processing dataset items:   1%|▏         | 378/30079 [00:31<39:22, 12.57it/s]"
     ]
    },
    {
     "name": "stdout",
     "output_type": "stream",
     "text": [
      "data_sirius/0365142b23ff0b25955640e7631a81b1.jpg a white triangular shield badge 0.515218198299408\n",
      "data_sirius/03684eb6b1ddf47222cde3b911f1a2ab.jpg no triangle shield on the photo 0.8271341323852539\n",
      "data_sirius/0369d457b653824a4d05ee2b57fcdbf7.jpg a black triangular shield badge 0.7361994385719299\n"
     ]
    },
    {
     "name": "stderr",
     "output_type": "stream",
     "text": [
      "Processing dataset items:   1%|▏         | 382/30079 [00:31<37:56, 13.05it/s]"
     ]
    },
    {
     "name": "stdout",
     "output_type": "stream",
     "text": [
      "data_sirius/036cbc6e38ea6fbea53edf77a2fe91dd.jpg a white triangular shield badge 0.7591886520385742\n",
      "data_sirius/036d95ec1ab395acaa7112d4c0e37bdf.jpg a yellow triangular shield badge 0.6909448504447937\n",
      "data_sirius/036eb0a09e94f7c16a20e38e93631783.jpg a yellow triangular shield badge 0.9147635698318481\n"
     ]
    },
    {
     "name": "stderr",
     "output_type": "stream",
     "text": [
      "Processing dataset items:   1%|▏         | 384/30079 [00:31<36:27, 13.58it/s]"
     ]
    },
    {
     "name": "stdout",
     "output_type": "stream",
     "text": [
      "data_sirius/03707f49c50fe9f4a6e3e1421f55e177.jpg a gray triangular shield badge 0.4553767442703247\n",
      "data_sirius/0370e6763ead2c8d451d5a0d97451b5f.jpg a yellow triangular shield badge 0.9855954647064209\n",
      "data_sirius/03713ac861bde757ff9a236ff9680517.jpg no triangle shield on the photo 0.49518778920173645\n"
     ]
    },
    {
     "name": "stderr",
     "output_type": "stream",
     "text": [
      "Processing dataset items:   1%|▏         | 388/30079 [00:32<39:04, 12.66it/s]"
     ]
    },
    {
     "name": "stdout",
     "output_type": "stream",
     "text": [
      "data_sirius/03722b2fb97525e093104b31a36a15df.jpg no triangle shield on the photo 0.4698277413845062\n",
      "data_sirius/03727107b4245188369713facd29d0af.jpg no triangle shield on the photo 0.9987488985061646\n",
      "data_sirius/03757c4f7772c89fefd79c17b804fd73.jpg no triangle shield on the photo 0.6451823711395264\n",
      "data_sirius/03788bd7bd83eb7a5dbd1dea94fe1625.jpg no triangle shield on the photo 0.4613012373447418\n"
     ]
    },
    {
     "name": "stderr",
     "output_type": "stream",
     "text": [
      "Processing dataset items:   1%|▏         | 392/30079 [00:32<46:04, 10.74it/s]"
     ]
    },
    {
     "name": "stdout",
     "output_type": "stream",
     "text": [
      "data_sirius/037e641047ef97279ca92a960a516c0b.jpg a gray triangular shield badge 0.8981868624687195\n",
      "data_sirius/03800d0ea2b71166308d034353dc691b.jpg no triangle shield on the photo 0.9997521042823792\n",
      "data_sirius/0380db80114c210afc7f194c610776cc.jpg no triangle shield on the photo 0.8265482187271118\n"
     ]
    },
    {
     "name": "stderr",
     "output_type": "stream",
     "text": [
      "Processing dataset items:   1%|▏         | 394/30079 [00:32<44:04, 11.23it/s]"
     ]
    },
    {
     "name": "stdout",
     "output_type": "stream",
     "text": [
      "data_sirius/03811f55d257cf06b7c561a51c0c2f9d.jpg no triangle shield on the photo 0.8697928190231323\n",
      "data_sirius/0386fccfc720b3f9247f03992dfaeb96.jpg a white triangular shield badge 0.3855062425136566\n",
      "data_sirius/038727f60633875f2ba3d58b0d45ece9.jpg a yellow triangular shield badge 0.9983252882957458\n"
     ]
    },
    {
     "name": "stderr",
     "output_type": "stream",
     "text": [
      "Processing dataset items:   1%|▏         | 398/30079 [00:33<40:36, 12.18it/s]"
     ]
    },
    {
     "name": "stdout",
     "output_type": "stream",
     "text": [
      "data_sirius/03888215519703098015e4e152bbfbb6.jpg a gray triangular shield badge 0.41579464077949524\n",
      "data_sirius/0390f4b10bbce6c38dcb2415c366f119.jpg a yellow triangular shield badge 0.9735966324806213\n",
      "data_sirius/039601d7b14ec173ef1dc02f50552db5.jpg a yellow triangular shield badge 0.6625401973724365\n"
     ]
    },
    {
     "name": "stderr",
     "output_type": "stream",
     "text": [
      "Processing dataset items:   1%|▏         | 402/30079 [00:33<38:26, 12.86it/s]"
     ]
    },
    {
     "name": "stdout",
     "output_type": "stream",
     "text": [
      "data_sirius/039a2fe91544456ee27a404344729178.jpg a white triangular shield badge 0.5491060614585876\n",
      "data_sirius/039b2af2e1780333d7f6a24cdea1d646.jpg no triangle shield on the photo 0.9968603849411011\n",
      "data_sirius/039c7060fa15ae35b6c5ee49a0882a1d.jpg a black triangular shield badge 0.8519814610481262\n",
      "data_sirius/039ffbb65bbd7f37ed0f19ece91ec58a.jpg a yellow triangular shield badge 0.9632172584533691\n"
     ]
    },
    {
     "name": "stderr",
     "output_type": "stream",
     "text": [
      "Processing dataset items:   1%|▏         | 404/30079 [00:33<37:44, 13.10it/s]"
     ]
    },
    {
     "name": "stdout",
     "output_type": "stream",
     "text": [
      "data_sirius/03a088f74e537c3bef4470fe82b3aa47.jpg no triangle shield on the photo 0.9779698848724365\n",
      "data_sirius/03a0eca0b2c494728e81ac8c2bf68200.jpg a gray triangular shield badge 0.5350065231323242\n",
      "data_sirius/03a180c8e91f5e437cb3da71d8791d66.jpg no triangle shield on the photo 0.9654586911201477\n",
      "data_sirius/03a345ca6b152f7aed0f3708967d291a.jpg a yellow triangular shield badge 0.3592408001422882\n"
     ]
    },
    {
     "name": "stderr",
     "output_type": "stream",
     "text": [
      "Processing dataset items:   1%|▏         | 408/30079 [00:33<37:22, 13.23it/s]"
     ]
    },
    {
     "name": "stdout",
     "output_type": "stream",
     "text": [
      "data_sirius/03a5652878c74b14fe499c160efe34e2.jpg a white triangular shield badge 0.5661745667457581\n",
      "data_sirius/03a803c96f0cf412c45f528c61c753c4.jpg a gray triangular shield badge 0.5644500851631165\n",
      "data_sirius/03aa291bc6ed067ec2dd6971e8b4afe5.jpg no triangle shield on the photo 0.999584972858429\n"
     ]
    },
    {
     "name": "stderr",
     "output_type": "stream",
     "text": [
      "Processing dataset items:   1%|▏         | 412/30079 [00:34<36:34, 13.52it/s]"
     ]
    },
    {
     "name": "stdout",
     "output_type": "stream",
     "text": [
      "data_sirius/03aa9835fc0060431b147890edb99101.jpg a white triangular shield badge 0.8052023649215698\n",
      "data_sirius/03af2b5cfe4bf8901dc10e512171e481.jpg a black triangular shield badge 0.9739319086074829\n",
      "data_sirius/03b55fdde168e97489304204ce029bdb.jpg no triangle shield on the photo 0.5206022262573242\n"
     ]
    },
    {
     "name": "stderr",
     "output_type": "stream",
     "text": [
      "Processing dataset items:   1%|▏         | 414/30079 [00:34<37:32, 13.17it/s]"
     ]
    },
    {
     "name": "stdout",
     "output_type": "stream",
     "text": [
      "data_sirius/03b8a64cc6b6e1d102f7c146904af832.jpg no triangle shield on the photo 0.9055432081222534\n",
      "data_sirius/03bae3de31aad7aeb58f1fdea4688af1.jpg no triangle shield on the photo 0.7383745908737183\n",
      "data_sirius/03bb6c0fc8fb307f6548f97282d2bb47.jpg a white triangular shield badge 0.725459098815918\n"
     ]
    },
    {
     "name": "stderr",
     "output_type": "stream",
     "text": [
      "Processing dataset items:   1%|▏         | 418/30079 [00:34<38:47, 12.74it/s]"
     ]
    },
    {
     "name": "stdout",
     "output_type": "stream",
     "text": [
      "data_sirius/03bdf3417a79194c08d9c79b3a32671c.jpg no triangle shield on the photo 0.821595311164856\n",
      "data_sirius/03be2354b3f88ef692ccf4f71defe102.jpg a black triangular shield badge 0.46456122398376465\n",
      "data_sirius/03bec65a7f651d04f927d386d340051d.jpg a black triangular shield badge 0.7092678546905518\n"
     ]
    },
    {
     "name": "stderr",
     "output_type": "stream",
     "text": [
      "Processing dataset items:   1%|▏         | 420/30079 [00:34<37:40, 13.12it/s]"
     ]
    },
    {
     "name": "stdout",
     "output_type": "stream",
     "text": [
      "data_sirius/03c1ac490b6f50662d2be147eb609d6b.jpg a black triangular shield badge 0.9568890333175659\n",
      "data_sirius/03c3fe2601896dd73674d83efe07bb67.jpg no triangle shield on the photo 0.9505930542945862\n",
      "data_sirius/03c7af1c808f5961762d608f6b6bbc29.jpg a yellow triangular shield badge 0.697632372379303\n"
     ]
    },
    {
     "name": "stderr",
     "output_type": "stream",
     "text": [
      "Processing dataset items:   1%|▏         | 424/30079 [00:35<36:04, 13.70it/s]"
     ]
    },
    {
     "name": "stdout",
     "output_type": "stream",
     "text": [
      "data_sirius/03cce8b3be3aea061798ce2aa152de35.jpg a white triangular shield badge 0.5991523861885071\n",
      "data_sirius/03cd389fb48314ff1ecfa163346943c5.jpg no triangle shield on the photo 0.6865559220314026\n",
      "data_sirius/03cde441e80e8d17f6d198fb22dad69a.jpg no triangle shield on the photo 0.8176794648170471\n",
      "data_sirius/03d06d91b77f1da0cac568421b3b89a1.jpg a gray triangular shield badge 0.4977785646915436\n"
     ]
    },
    {
     "name": "stderr",
     "output_type": "stream",
     "text": [
      "Processing dataset items:   1%|▏         | 426/30079 [00:35<36:44, 13.45it/s]"
     ]
    },
    {
     "name": "stdout",
     "output_type": "stream",
     "text": [
      "data_sirius/03d6f3daa4505c23713d0fbd931a7bb7.jpg no triangle shield on the photo 0.48735252022743225\n",
      "data_sirius/03d73082b47edae035f60ca2add1c6d4.jpg a white triangular shield badge 0.5269155502319336\n"
     ]
    },
    {
     "name": "stderr",
     "output_type": "stream",
     "text": [
      "Processing dataset items:   1%|▏         | 430/30079 [00:35<40:00, 12.35it/s]"
     ]
    },
    {
     "name": "stdout",
     "output_type": "stream",
     "text": [
      "data_sirius/03d8645ee8981a179cb818fbd304903e.jpg a white triangular shield badge 0.6842149496078491\n",
      "data_sirius/03d938db484f1ae2586494d3fe8f5fc9.jpg a white triangular shield badge 0.45111918449401855\n",
      "data_sirius/03db368d2b3b3beeacc7c988f1a884fb.jpg no triangle shield on the photo 0.9746420979499817\n",
      "data_sirius/03db76b569c43e9a3a1d68017219d25e.jpg a black triangular shield badge 0.4396500289440155\n"
     ]
    },
    {
     "name": "stderr",
     "output_type": "stream",
     "text": [
      "Processing dataset items:   1%|▏         | 434/30079 [00:35<37:40, 13.11it/s]"
     ]
    },
    {
     "name": "stdout",
     "output_type": "stream",
     "text": [
      "data_sirius/03dcc4b536cd536d3af9161b97bdd432.jpg a white triangular shield badge 0.6676768660545349\n",
      "data_sirius/03e01c239ca150f547cc39f51174910f.jpg no triangle shield on the photo 0.9975408315658569\n",
      "data_sirius/03ec9bf3ec2db2d78168caa5b814faa0.jpg a yellow triangular shield badge 0.4770193099975586\n",
      "data_sirius/03ecc7963c475c2b04e9a05ac327b867.jpg a white triangular shield badge 0.6367227435112\n"
     ]
    },
    {
     "name": "stderr",
     "output_type": "stream",
     "text": [
      "Processing dataset items:   1%|▏         | 438/30079 [00:36<36:05, 13.69it/s]"
     ]
    },
    {
     "name": "stdout",
     "output_type": "stream",
     "text": [
      "data_sirius/03ee581d974f75e952a905d0bee521ca.jpg a white triangular shield badge 0.4681309461593628\n",
      "data_sirius/03ef39d7c4ea303ff71abef4a781530f.jpg a black triangular shield badge 0.5062476992607117\n",
      "data_sirius/03f42bc4515fbe010ccaaebba96b90be.jpg a white triangular shield badge 0.5312179327011108\n"
     ]
    },
    {
     "name": "stderr",
     "output_type": "stream",
     "text": [
      "Processing dataset items:   1%|▏         | 440/30079 [00:36<35:00, 14.11it/s]"
     ]
    },
    {
     "name": "stdout",
     "output_type": "stream",
     "text": [
      "data_sirius/03f6d4a32498399c8da891170220af88.jpg a white triangular shield badge 0.8934100270271301\n",
      "data_sirius/03f7d6d04a9068b2602f0de0f033d918.jpg no triangle shield on the photo 0.9318197965621948\n",
      "data_sirius/03f81a40cad03bf89a4a0f29356b74f2.jpg no triangle shield on the photo 0.8125588297843933\n"
     ]
    },
    {
     "name": "stderr",
     "output_type": "stream",
     "text": [
      "Processing dataset items:   1%|▏         | 444/30079 [00:36<36:31, 13.52it/s]"
     ]
    },
    {
     "name": "stdout",
     "output_type": "stream",
     "text": [
      "data_sirius/03faf91fa096884136772bd29a01216d.jpg no triangle shield on the photo 0.9975062012672424\n",
      "data_sirius/03fb8518db114310b05ff53a06b9a4e4.jpg no triangle shield on the photo 0.6994398832321167\n",
      "data_sirius/03fcb7a71ed8fc0ebc40aa741edc1615.jpg no triangle shield on the photo 0.9620347023010254\n"
     ]
    },
    {
     "name": "stderr",
     "output_type": "stream",
     "text": [
      "Processing dataset items:   1%|▏         | 446/30079 [00:36<36:05, 13.68it/s]"
     ]
    },
    {
     "name": "stdout",
     "output_type": "stream",
     "text": [
      "data_sirius/04010000f8f3f240818485fc65615929.jpg a black triangular shield badge 0.4684179723262787\n",
      "data_sirius/0403e2c70f3b314e783c17ca67ec26ae.jpg a yellow triangular shield badge 0.9613162279129028\n",
      "data_sirius/04040584de98eb4fcedcd32f306bbc68.jpg no triangle shield on the photo 0.9245073199272156\n",
      "data_sirius/04046005643cac8d5847439236509020.jpg a black triangular shield badge 0.7784785628318787\n"
     ]
    },
    {
     "name": "stderr",
     "output_type": "stream",
     "text": [
      "Processing dataset items:   1%|▏         | 450/30079 [00:36<37:20, 13.22it/s]"
     ]
    },
    {
     "name": "stdout",
     "output_type": "stream",
     "text": [
      "data_sirius/04077dbed1f77a0f83a90fc8e85d3ea9.jpg a black triangular shield badge 0.5610240697860718\n",
      "data_sirius/040b16e33ba08bc368019c9f24a60703.jpg a yellow triangular shield badge 0.6088863611221313\n",
      "data_sirius/040c8a9e0844b0816774ea49f96fc47e.jpg no triangle shield on the photo 0.9307089447975159\n"
     ]
    },
    {
     "name": "stderr",
     "output_type": "stream",
     "text": [
      "Processing dataset items:   2%|▏         | 454/30079 [00:37<37:51, 13.04it/s]"
     ]
    },
    {
     "name": "stdout",
     "output_type": "stream",
     "text": [
      "data_sirius/040cb09153c22449b504668cd530a5a4.jpg no triangle shield on the photo 0.921901524066925\n",
      "data_sirius/040dfe9bb15b54302350e6460c651816.jpg no triangle shield on the photo 0.9917349815368652\n",
      "data_sirius/040e16c61b4622a8b6fe6b23034e74e0.jpg a white triangular shield badge 0.4780029058456421\n"
     ]
    },
    {
     "name": "stderr",
     "output_type": "stream",
     "text": [
      "Processing dataset items:   2%|▏         | 456/30079 [00:37<37:29, 13.17it/s]"
     ]
    },
    {
     "name": "stdout",
     "output_type": "stream",
     "text": [
      "data_sirius/040f324310c880fd80b6b7385a4b207f.jpg a gray triangular shield badge 0.5901849269866943\n",
      "data_sirius/04141361e7f964456ed0134304ec4d91.jpg a white triangular shield badge 0.5836043953895569\n",
      "data_sirius/0414b85ba097b4f7b99740f4a9261389.jpg no triangle shield on the photo 0.9891848564147949\n"
     ]
    },
    {
     "name": "stderr",
     "output_type": "stream",
     "text": [
      "Processing dataset items:   2%|▏         | 460/30079 [00:37<36:49, 13.40it/s]"
     ]
    },
    {
     "name": "stdout",
     "output_type": "stream",
     "text": [
      "data_sirius/0418305ff2c181f4a983f5bedc379f77.jpg a yellow triangular shield badge 0.9433888792991638\n",
      "data_sirius/041ead61af44baa7648170b17a9c0b6f.jpg a gray triangular shield badge 0.6978808045387268\n",
      "data_sirius/041eae87f9c09fa4db0883e1a86b358b.jpg no triangle shield on the photo 0.9936036467552185\n"
     ]
    },
    {
     "name": "stderr",
     "output_type": "stream",
     "text": [
      "Processing dataset items:   2%|▏         | 462/30079 [00:37<35:42, 13.83it/s]"
     ]
    },
    {
     "name": "stdout",
     "output_type": "stream",
     "text": [
      "data_sirius/0420604958776a02c5d2857bd889395b.jpg a white triangular shield badge 0.7621882557868958\n",
      "data_sirius/04242e61bd611b30f09ca735e74be3ed.jpg a gray triangular shield badge 0.34439241886138916\n",
      "data_sirius/04246e7646e1eba1485ee25cb1576c1a.jpg a gray triangular shield badge 0.43803706765174866\n"
     ]
    },
    {
     "name": "stderr",
     "output_type": "stream",
     "text": [
      "Processing dataset items:   2%|▏         | 466/30079 [00:38<38:47, 12.72it/s]"
     ]
    },
    {
     "name": "stdout",
     "output_type": "stream",
     "text": [
      "data_sirius/042534354363b20c6815b9186a49d545.jpg a black triangular shield badge 0.43558040261268616\n",
      "data_sirius/0425458098797236115c052d41bd516d.jpg no triangle shield on the photo 0.9698404669761658\n",
      "data_sirius/0426334689dc47d7300cf06b6f5b44bf.jpg a white triangular shield badge 0.7730587124824524\n"
     ]
    },
    {
     "name": "stderr",
     "output_type": "stream",
     "text": [
      "Processing dataset items:   2%|▏         | 468/30079 [00:38<37:53, 13.03it/s]"
     ]
    },
    {
     "name": "stdout",
     "output_type": "stream",
     "text": [
      "data_sirius/042771ac64ee15ccd0bb71acf1625bb8.jpg a yellow triangular shield badge 0.8476008176803589\n",
      "data_sirius/0429077b8250803699fe6671121f267d.jpg a black triangular shield badge 0.72782301902771\n",
      "data_sirius/042b4b6eabc9e697d572c837fbdd8aa7.jpg a yellow triangular shield badge 0.8443260192871094\n",
      "data_sirius/042b51360707646d035eb03cbf56cff5.jpg a gray triangular shield badge 0.4487161636352539\n"
     ]
    },
    {
     "name": "stderr",
     "output_type": "stream",
     "text": [
      "Processing dataset items:   2%|▏         | 472/30079 [00:38<35:37, 13.85it/s]"
     ]
    },
    {
     "name": "stdout",
     "output_type": "stream",
     "text": [
      "data_sirius/042d4b8f3de96770a3ba0a631908f823.jpg no triangle shield on the photo 0.4787403345108032\n",
      "data_sirius/043144def317278c925f0a3c56799187.jpg a yellow triangular shield badge 0.885455310344696\n",
      "data_sirius/0431dac488a4e1addde04f5b37fd131d.jpg a white triangular shield badge 0.8019479513168335\n"
     ]
    },
    {
     "name": "stderr",
     "output_type": "stream",
     "text": [
      "Processing dataset items:   2%|▏         | 476/30079 [00:38<36:19, 13.58it/s]"
     ]
    },
    {
     "name": "stdout",
     "output_type": "stream",
     "text": [
      "data_sirius/0432fdcadd76e9d0433515510f6318fc.jpg no triangle shield on the photo 0.7761064171791077\n",
      "data_sirius/043671d0a30a4b5a4ddfca8a37aea6de.jpg a gray triangular shield badge 0.4416404068470001\n",
      "data_sirius/043870dc275779d5f18a0e648c1b4624.jpg no triangle shield on the photo 0.9389449954032898\n"
     ]
    },
    {
     "name": "stderr",
     "output_type": "stream",
     "text": [
      "Processing dataset items:   2%|▏         | 478/30079 [00:39<35:26, 13.92it/s]"
     ]
    },
    {
     "name": "stdout",
     "output_type": "stream",
     "text": [
      "data_sirius/043b13625f36910b6b33572ac18352ac.jpg a white triangular shield badge 0.6315390467643738\n",
      "data_sirius/043b2ba8c20b6c572e333fb5d84a6eca.jpg a yellow triangular shield badge 0.9604857563972473\n",
      "data_sirius/0442d1e918d22116640ebc1698f61587.jpg a yellow triangular shield badge 0.8350523114204407\n",
      "data_sirius/0446faaf9ce1e02b3f1aedcff765a0d8.jpg no triangle shield on the photo 0.5282844305038452\n"
     ]
    },
    {
     "name": "stderr",
     "output_type": "stream",
     "text": [
      "Processing dataset items:   2%|▏         | 482/30079 [00:39<35:07, 14.05it/s]"
     ]
    },
    {
     "name": "stdout",
     "output_type": "stream",
     "text": [
      "data_sirius/044a7c3480acab31edee7acfeab8b55b.jpg a yellow triangular shield badge 0.9754771590232849\n",
      "data_sirius/044b1ad6340f52fcb602f5e905e3b78b.jpg no triangle shield on the photo 0.8574908375740051\n",
      "data_sirius/044d4c4916783594939d219373c27afa.jpg a black triangular shield badge 0.7443371415138245\n"
     ]
    },
    {
     "name": "stderr",
     "output_type": "stream",
     "text": [
      "Processing dataset items:   2%|▏         | 486/30079 [00:39<39:45, 12.41it/s]"
     ]
    },
    {
     "name": "stdout",
     "output_type": "stream",
     "text": [
      "data_sirius/044d4e978a74e78c7039b37e20057834.jpg a gray triangular shield badge 0.34545886516571045\n",
      "data_sirius/044f05678aebc215687c2e7cd7c9c88f.jpg a gray triangular shield badge 0.3745921552181244\n",
      "data_sirius/04598e57ed3c86f3248b1957799b6bdd.jpg a black triangular shield badge 0.7704199552536011\n"
     ]
    },
    {
     "name": "stderr",
     "output_type": "stream",
     "text": [
      "Processing dataset items:   2%|▏         | 488/30079 [00:39<37:28, 13.16it/s]"
     ]
    },
    {
     "name": "stdout",
     "output_type": "stream",
     "text": [
      "data_sirius/0459db1249effd6aa6ba663c5f7adadc.jpg a black triangular shield badge 0.43787556886672974\n",
      "data_sirius/045c0c14c5bf6a4100eb27710ec12423.jpg a black triangular shield badge 0.488146036863327\n"
     ]
    },
    {
     "name": "stderr",
     "output_type": "stream",
     "text": [
      "Processing dataset items:   2%|▏         | 490/30079 [00:40<43:11, 11.42it/s]"
     ]
    },
    {
     "name": "stdout",
     "output_type": "stream",
     "text": [
      "data_sirius/045d1b57d47a1c6b1a883230c50cfc5e.jpg no triangle shield on the photo 0.9988197684288025\n",
      "data_sirius/045e1116be450091b00be2231215047e.jpg no triangle shield on the photo 0.9769585728645325\n",
      "data_sirius/0462a1d7287fbdcaab7179f874492df4.jpg a white triangular shield badge 0.6983799338340759\n"
     ]
    },
    {
     "name": "stderr",
     "output_type": "stream",
     "text": [
      "Processing dataset items:   2%|▏         | 494/30079 [00:40<41:10, 11.98it/s]"
     ]
    },
    {
     "name": "stdout",
     "output_type": "stream",
     "text": [
      "data_sirius/04631c91ce5742e51316fc4a2d413e23.jpg a gray triangular shield badge 0.42011526226997375\n",
      "data_sirius/0465caa0589061c108346b9c1cc27d9d.jpg no triangle shield on the photo 0.5090281367301941\n",
      "data_sirius/0467384813e22330806a935fd09346f1.jpg no triangle shield on the photo 0.4111422598361969\n"
     ]
    },
    {
     "name": "stderr",
     "output_type": "stream",
     "text": [
      "Processing dataset items:   2%|▏         | 496/30079 [00:40<39:31, 12.47it/s]"
     ]
    },
    {
     "name": "stdout",
     "output_type": "stream",
     "text": [
      "data_sirius/046975d877e91ed5007387bae81a2ed8.jpg a yellow triangular shield badge 0.9606553912162781\n",
      "data_sirius/046e7eb0d11435a091d93fc8b1569326.jpg a white triangular shield badge 0.3860843777656555\n",
      "data_sirius/0470e8b84bf36af92ff9f1a17a0e0400.jpg no triangle shield on the photo 0.9818675518035889\n"
     ]
    },
    {
     "name": "stderr",
     "output_type": "stream",
     "text": [
      "Processing dataset items:   2%|▏         | 500/30079 [00:40<37:31, 13.14it/s]"
     ]
    },
    {
     "name": "stdout",
     "output_type": "stream",
     "text": [
      "data_sirius/04769bff344c091db57c8b6fe17916e3.jpg no triangle shield on the photo 0.9772663116455078\n",
      "data_sirius/0479b6c5c9301a2f766d4183aae30511.jpg no triangle shield on the photo 0.733344554901123\n",
      "data_sirius/047b50efc459da0df792a6e245f1a0b9.jpg no triangle shield on the photo 0.39356163144111633\n"
     ]
    },
    {
     "name": "stderr",
     "output_type": "stream",
     "text": [
      "Processing dataset items:   2%|▏         | 502/30079 [00:40<37:15, 13.23it/s]"
     ]
    },
    {
     "name": "stdout",
     "output_type": "stream",
     "text": [
      "data_sirius/047c71554e74086aa400a4e6d9bd92f9.jpg a yellow triangular shield badge 0.7498122453689575\n",
      "data_sirius/047e2b84e731ddb5abf4ca33f11e4df2.jpg a yellow triangular shield badge 0.4651166796684265\n",
      "data_sirius/047eefdf11ab007b419f3a32f4da973c.jpg a yellow triangular shield badge 0.9890943169593811\n"
     ]
    },
    {
     "name": "stderr",
     "output_type": "stream",
     "text": [
      "Processing dataset items:   2%|▏         | 506/30079 [00:41<38:43, 12.73it/s]"
     ]
    },
    {
     "name": "stdout",
     "output_type": "stream",
     "text": [
      "data_sirius/0485347a46a1141fa792cdbed496e62b.jpg a yellow triangular shield badge 0.998508632183075\n",
      "data_sirius/0485f3d580052825db5d8d27cecc6a31.jpg no triangle shield on the photo 0.7125115990638733\n",
      "data_sirius/04878fc4542da151092218d6fe5e49fb.jpg a gray triangular shield badge 0.4728791117668152\n"
     ]
    },
    {
     "name": "stderr",
     "output_type": "stream",
     "text": [
      "Processing dataset items:   2%|▏         | 508/30079 [00:41<37:50, 13.02it/s]"
     ]
    },
    {
     "name": "stdout",
     "output_type": "stream",
     "text": [
      "data_sirius/0487d16b5a1315749865499f60de286e.jpg a yellow triangular shield badge 0.9421956539154053\n",
      "data_sirius/048b32e231ecd9796892f92bea2d00c7.jpg a gray triangular shield badge 0.7889149188995361\n",
      "data_sirius/049152b2689eede3d8eaf4b55f7a556c.jpg a gray triangular shield badge 0.33519428968429565\n"
     ]
    },
    {
     "name": "stderr",
     "output_type": "stream",
     "text": [
      "Processing dataset items:   2%|▏         | 512/30079 [00:41<39:59, 12.32it/s]"
     ]
    },
    {
     "name": "stdout",
     "output_type": "stream",
     "text": [
      "data_sirius/0491caa6add16245506d23e9c11f4c50.jpg a black triangular shield badge 0.9456663131713867\n",
      "data_sirius/049246c416124967dfc66a57a34011a3.jpg a black triangular shield badge 0.8733656406402588\n",
      "data_sirius/049a65149600cd5de38ead7da8e64d81.jpg a white triangular shield badge 0.5208733081817627\n"
     ]
    },
    {
     "name": "stderr",
     "output_type": "stream",
     "text": [
      "Processing dataset items:   2%|▏         | 514/30079 [00:41<37:42, 13.06it/s]"
     ]
    },
    {
     "name": "stdout",
     "output_type": "stream",
     "text": [
      "data_sirius/049b2a2c904d14abe12631212c80e3f9.jpg a white triangular shield badge 0.47480523586273193\n",
      "data_sirius/04a821686f6cd8636778b94dca90cb33.jpg a white triangular shield badge 0.6792371869087219\n",
      "data_sirius/04a8b4163267096a387ef83edef29ffd.jpg a yellow triangular shield badge 0.8876845240592957\n"
     ]
    },
    {
     "name": "stderr",
     "output_type": "stream",
     "text": [
      "Processing dataset items:   2%|▏         | 518/30079 [00:42<38:46, 12.71it/s]"
     ]
    },
    {
     "name": "stdout",
     "output_type": "stream",
     "text": [
      "data_sirius/04ab1afa5fb8de758fcfb637bf41af2e.jpg a black triangular shield badge 0.6110594272613525\n",
      "data_sirius/04ae77de1e2abfb5e77a8cd3833e04e3.jpg no triangle shield on the photo 0.8784978985786438\n",
      "data_sirius/04b42c47f880938a54fa7d433b69455c.jpg no triangle shield on the photo 0.4857122004032135\n"
     ]
    },
    {
     "name": "stderr",
     "output_type": "stream",
     "text": [
      "Processing dataset items:   2%|▏         | 520/30079 [00:42<37:47, 13.04it/s]"
     ]
    },
    {
     "name": "stdout",
     "output_type": "stream",
     "text": [
      "data_sirius/04b52d766f6ddcb4c0bb3caefb87547e.jpg no triangle shield on the photo 0.9588229656219482\n",
      "data_sirius/04b666746b68185ed3f4b0f9048e5183.jpg no triangle shield on the photo 0.9989258646965027\n",
      "data_sirius/04b68acf564c2b813c32c7db6b35c2ad.jpg a gray triangular shield badge 0.8531782627105713\n",
      "data_sirius/04b95f1a3b4f7199168f167380c4b6a4.jpg no triangle shield on the photo 0.4645020663738251\n"
     ]
    },
    {
     "name": "stderr",
     "output_type": "stream",
     "text": [
      "Processing dataset items:   2%|▏         | 524/30079 [00:42<36:35, 13.46it/s]"
     ]
    },
    {
     "name": "stdout",
     "output_type": "stream",
     "text": [
      "data_sirius/04baf3752bb3f6db39ca2ad02943682b.jpg a black triangular shield badge 0.4936887323856354\n",
      "data_sirius/04bc870bc5d2b0952f5d4b5fd4d93b90.jpg a yellow triangular shield badge 0.9160336852073669\n",
      "data_sirius/04bf83b6786f7ac044afad9be7fe6be3.jpg no triangle shield on the photo 0.9998766183853149\n"
     ]
    },
    {
     "name": "stderr",
     "output_type": "stream",
     "text": [
      "Processing dataset items:   2%|▏         | 526/30079 [00:42<35:58, 13.69it/s]"
     ]
    },
    {
     "name": "stdout",
     "output_type": "stream",
     "text": [
      "data_sirius/04c2823f303e873f720b4032949e9ad5.jpg a yellow triangular shield badge 0.7043384909629822\n",
      "data_sirius/04c2dfb8213814a13589f2cb0433149f.jpg no triangle shield on the photo 0.9987732768058777\n"
     ]
    },
    {
     "name": "stderr",
     "output_type": "stream",
     "text": [
      "Processing dataset items:   2%|▏         | 530/30079 [00:43<40:48, 12.07it/s]"
     ]
    },
    {
     "name": "stdout",
     "output_type": "stream",
     "text": [
      "data_sirius/04c5efd3da07121de9b5e58b4438c950.jpg no triangle shield on the photo 0.652036726474762\n",
      "data_sirius/04c69612e03eba6af395a09462c40f08.jpg a yellow triangular shield badge 0.9852449297904968\n",
      "data_sirius/04cd5d6d28ac150e17cf3155aac9e8e9.jpg no triangle shield on the photo 0.5068082213401794\n"
     ]
    },
    {
     "name": "stderr",
     "output_type": "stream",
     "text": [
      "Processing dataset items:   2%|▏         | 532/30079 [00:43<39:05, 12.60it/s]"
     ]
    },
    {
     "name": "stdout",
     "output_type": "stream",
     "text": [
      "data_sirius/04ce0a646b78565d2183cb7721ee47d3.jpg no triangle shield on the photo 0.7907798290252686\n",
      "data_sirius/04cef5654127a8e887de3331633262d7.jpg a yellow triangular shield badge 0.9137813448905945\n",
      "data_sirius/04d46199cd5245f63da2a3a7584f790a.jpg a gray triangular shield badge 0.46647822856903076\n"
     ]
    },
    {
     "name": "stderr",
     "output_type": "stream",
     "text": [
      "Processing dataset items:   2%|▏         | 536/30079 [00:43<37:22, 13.18it/s]"
     ]
    },
    {
     "name": "stdout",
     "output_type": "stream",
     "text": [
      "data_sirius/04d9b4e2866d4f7d6df55f2066b9afaa.jpg a white triangular shield badge 0.4155254662036896\n",
      "data_sirius/04db971924dec190e87ab59fbac21860.jpg no triangle shield on the photo 0.9983204007148743\n",
      "data_sirius/04dc33156fa0bf1a2d0547184eb1175b.jpg a black triangular shield badge 0.797145664691925\n",
      "data_sirius/04dc97eb837c37aa5a30743c9d366bd3.jpg no triangle shield on the photo 0.9998471736907959\n"
     ]
    },
    {
     "name": "stderr",
     "output_type": "stream",
     "text": [
      "Processing dataset items:   2%|▏         | 540/30079 [00:43<37:23, 13.17it/s]"
     ]
    },
    {
     "name": "stdout",
     "output_type": "stream",
     "text": [
      "data_sirius/04dd0e5d7c00219962c338ac9ff82e39.jpg a black triangular shield badge 0.5471664071083069\n",
      "data_sirius/04e3f71e6658bb73e85e4c5fde945f32.jpg no triangle shield on the photo 0.9802111983299255\n",
      "data_sirius/04e50702a598d5a860197ceb82d06f6d.jpg a black triangular shield badge 0.6197305917739868\n"
     ]
    },
    {
     "name": "stderr",
     "output_type": "stream",
     "text": [
      "Processing dataset items:   2%|▏         | 542/30079 [00:44<36:54, 13.34it/s]"
     ]
    },
    {
     "name": "stdout",
     "output_type": "stream",
     "text": [
      "data_sirius/04e737cc596cc1eb72b3333ec9bbc92a.jpg a yellow triangular shield badge 0.9728320240974426\n",
      "data_sirius/04e8ffe1b9ed2e727b2e9e54b65573f1.jpg no triangle shield on the photo 0.5979989171028137\n",
      "data_sirius/04eacda1f33236e7fcb1d13558f6db99.jpg no triangle shield on the photo 0.5268415808677673\n"
     ]
    },
    {
     "name": "stderr",
     "output_type": "stream",
     "text": [
      "Processing dataset items:   2%|▏         | 546/30079 [00:44<37:06, 13.26it/s]"
     ]
    },
    {
     "name": "stdout",
     "output_type": "stream",
     "text": [
      "data_sirius/04ed5b5e1ae0a22451ba6424b98267bd.jpg a white triangular shield badge 0.7942407727241516\n",
      "data_sirius/04edc6e404d080d72b3f21fe09ad3734.jpg a white triangular shield badge 0.5952081084251404\n",
      "data_sirius/04ef1428a6efd59cac37b3b69b1def1a.jpg a gray triangular shield badge 0.7598832249641418\n"
     ]
    },
    {
     "name": "stderr",
     "output_type": "stream",
     "text": [
      "Processing dataset items:   2%|▏         | 548/30079 [00:44<39:04, 12.59it/s]"
     ]
    },
    {
     "name": "stdout",
     "output_type": "stream",
     "text": [
      "data_sirius/04f2d1dcab28fb17b5e8edd4bf2fba07.jpg a gray triangular shield badge 0.7973949909210205\n",
      "data_sirius/04f61b126cc23d985e9c9a8f2350fcc4.jpg no triangle shield on the photo 0.9464557766914368\n",
      "data_sirius/04f8e5aeb3bc1319bea2f726a2cf5db3.jpg a black triangular shield badge 0.728329062461853\n"
     ]
    },
    {
     "name": "stderr",
     "output_type": "stream",
     "text": [
      "Processing dataset items:   2%|▏         | 552/30079 [00:44<41:19, 11.91it/s]"
     ]
    },
    {
     "name": "stdout",
     "output_type": "stream",
     "text": [
      "data_sirius/04fabf34dbdcd0c86ca48f561dd3dd7b.jpg a white triangular shield badge 0.5073683261871338\n",
      "data_sirius/04fbbb18c9ea4d90e2ac19e1e0f221e3.jpg a black triangular shield badge 0.9366676211357117\n",
      "data_sirius/04fbbdff4627359115703bebdf2e2e45.jpg no triangle shield on the photo 0.6279481053352356\n"
     ]
    },
    {
     "name": "stderr",
     "output_type": "stream",
     "text": [
      "Processing dataset items:   2%|▏         | 554/30079 [00:45<40:23, 12.18it/s]"
     ]
    },
    {
     "name": "stdout",
     "output_type": "stream",
     "text": [
      "data_sirius/04fbbe119b92e519169572e4e9a380e3.jpg no triangle shield on the photo 0.7889571785926819\n",
      "data_sirius/04fd966819b5b32bfca1b80a33fa1190.jpg no triangle shield on the photo 0.8049482703208923\n",
      "data_sirius/04fe56d71234d66566900bc8d1f3878b.jpg no triangle shield on the photo 0.766851544380188\n",
      "data_sirius/04ff23bfc1e30404c18c61a94818c1d4.jpg a yellow triangular shield badge 0.8139413595199585\n"
     ]
    },
    {
     "name": "stderr",
     "output_type": "stream",
     "text": [
      "Processing dataset items:   2%|▏         | 558/30079 [00:45<37:44, 13.04it/s]"
     ]
    },
    {
     "name": "stdout",
     "output_type": "stream",
     "text": [
      "data_sirius/04ffef37a67c139fb49600cb49d12780.jpg a yellow triangular shield badge 0.7905598282814026\n",
      "data_sirius/05007bcc0197d99a3f4fa0711746d69a.jpg no triangle shield on the photo 0.4443323016166687\n",
      "data_sirius/05010ae98a4ae727520625abd3e8e9e6.jpg a black triangular shield badge 0.41921302676200867\n",
      "data_sirius/05018157517176236f5f16bd75156429.jpg no triangle shield on the photo 0.960048258304596\n"
     ]
    },
    {
     "name": "stderr",
     "output_type": "stream",
     "text": [
      "Processing dataset items:   2%|▏         | 562/30079 [00:45<36:05, 13.63it/s]"
     ]
    },
    {
     "name": "stdout",
     "output_type": "stream",
     "text": [
      "data_sirius/0501de1715f4c5523503a75b0f6ad921.jpg a yellow triangular shield badge 0.9639317393302917\n",
      "data_sirius/0502334f6b231da899aedb551c8233d3.jpg a yellow triangular shield badge 0.9211314916610718\n",
      "data_sirius/0504f51d8aef20ffce38693f1b6074ac.jpg no triangle shield on the photo 0.9922304749488831\n"
     ]
    },
    {
     "name": "stderr",
     "output_type": "stream",
     "text": [
      "Processing dataset items:   2%|▏         | 566/30079 [00:45<37:42, 13.04it/s]"
     ]
    },
    {
     "name": "stdout",
     "output_type": "stream",
     "text": [
      "data_sirius/05074350fab5bd4a4f273845e4191dab.jpg a gray triangular shield badge 0.5602116584777832\n",
      "data_sirius/05076cacce7d9d311c4a0318f8cd634b.jpg a yellow triangular shield badge 0.7197519540786743\n",
      "data_sirius/050cb6fe6ec9774f5847df1234863023.jpg a yellow triangular shield badge 0.9503572583198547\n"
     ]
    },
    {
     "name": "stderr",
     "output_type": "stream",
     "text": [
      "Processing dataset items:   2%|▏         | 568/30079 [00:46<36:59, 13.30it/s]"
     ]
    },
    {
     "name": "stdout",
     "output_type": "stream",
     "text": [
      "data_sirius/050d09a32391935963056d1311314d2e.jpg no triangle shield on the photo 0.9714287519454956\n",
      "data_sirius/050fa7d00d9d14af4887d829113c525d.jpg a gray triangular shield badge 0.501658022403717\n",
      "data_sirius/051207afea447b71d8831ab18f4fade6.jpg a yellow triangular shield badge 0.6061969995498657\n"
     ]
    },
    {
     "name": "stderr",
     "output_type": "stream",
     "text": [
      "Processing dataset items:   2%|▏         | 572/30079 [00:46<36:29, 13.47it/s]"
     ]
    },
    {
     "name": "stdout",
     "output_type": "stream",
     "text": [
      "data_sirius/05129d8ee60e90143e571d9be9a08bf1.jpg a black triangular shield badge 0.6884000897407532\n",
      "data_sirius/0516210e91cb1c53874059d64c677014.jpg a white triangular shield badge 0.4370182454586029\n",
      "data_sirius/0516973f3a9321c757a208d2c18c80ef.jpg a gray triangular shield badge 0.6201143264770508\n",
      "data_sirius/0516eeba9225b8c76efe049f474757d3.jpg no triangle shield on the photo 0.9934553503990173\n"
     ]
    },
    {
     "name": "stderr",
     "output_type": "stream",
     "text": [
      "Processing dataset items:   2%|▏         | 576/30079 [00:46<35:36, 13.81it/s]"
     ]
    },
    {
     "name": "stdout",
     "output_type": "stream",
     "text": [
      "data_sirius/051b43be9d467f5aa4bedf42f66b2ec9.jpg a yellow triangular shield badge 0.9192442297935486\n",
      "data_sirius/05218165f6d50655b357e2d223e50943.jpg no triangle shield on the photo 0.7896944880485535\n",
      "data_sirius/0523123545c01a6c115e989f7c4083ae.jpg a yellow triangular shield badge 0.9723389148712158\n"
     ]
    },
    {
     "name": "stderr",
     "output_type": "stream",
     "text": [
      "Processing dataset items:   2%|▏         | 578/30079 [00:46<37:20, 13.16it/s]"
     ]
    },
    {
     "name": "stdout",
     "output_type": "stream",
     "text": [
      "data_sirius/05277362b1639076765b84058c6dba08.jpg a white triangular shield badge 0.489985853433609\n",
      "data_sirius/0528228c412fd3faf66c42cc84d8d083.jpg no triangle shield on the photo 0.8444740176200867\n",
      "data_sirius/0528fa10ffccefeda0c61200708fe595.jpg no triangle shield on the photo 0.6198134422302246\n"
     ]
    },
    {
     "name": "stderr",
     "output_type": "stream",
     "text": [
      "Processing dataset items:   2%|▏         | 582/30079 [00:47<40:24, 12.17it/s]"
     ]
    },
    {
     "name": "stdout",
     "output_type": "stream",
     "text": [
      "data_sirius/052cbbbeae009277d79a4562acf2d89f.jpg no triangle shield on the photo 0.9952816367149353\n",
      "data_sirius/052d2a3024e2238dcc1d7aa0eaab4593.jpg no triangle shield on the photo 0.8600289225578308\n",
      "data_sirius/052dbff5d4be1ab1a9d305fb24f21aa0.jpg no triangle shield on the photo 0.9979580640792847\n"
     ]
    },
    {
     "name": "stderr",
     "output_type": "stream",
     "text": [
      "Processing dataset items:   2%|▏         | 584/30079 [00:47<39:24, 12.48it/s]"
     ]
    },
    {
     "name": "stdout",
     "output_type": "stream",
     "text": [
      "data_sirius/053089ca13461c5f6245374caf3d7f3d.jpg a yellow triangular shield badge 0.9392897486686707\n",
      "data_sirius/053bfb3f12700896214650fb01643712.jpg a yellow triangular shield badge 0.9712812900543213\n",
      "data_sirius/053ec28b380085c9765ca69d73141e95.jpg a yellow triangular shield badge 0.38610196113586426\n"
     ]
    },
    {
     "name": "stderr",
     "output_type": "stream",
     "text": [
      "Processing dataset items:   2%|▏         | 588/30079 [00:47<39:24, 12.47it/s]"
     ]
    },
    {
     "name": "stdout",
     "output_type": "stream",
     "text": [
      "data_sirius/05403670a9dd9e7be2e5c120544afd94.jpg no triangle shield on the photo 0.8660616278648376\n",
      "data_sirius/0541bd7376fa283495b89fb659c41336.jpg a yellow triangular shield badge 0.9489343166351318\n",
      "data_sirius/0542f7c96105b27d4d6e091bbd6f0c7e.jpg a yellow triangular shield badge 0.9960148334503174\n"
     ]
    },
    {
     "name": "stderr",
     "output_type": "stream",
     "text": [
      "Processing dataset items:   2%|▏         | 590/30079 [00:47<41:26, 11.86it/s]"
     ]
    },
    {
     "name": "stdout",
     "output_type": "stream",
     "text": [
      "data_sirius/0543a4e95e68f231f9aa8f70c9d2d7d9.jpg a yellow triangular shield badge 0.6236642003059387\n",
      "data_sirius/05460c6a5c3a02e5647f5fdbfdd7d7ac.jpg a gray triangular shield badge 0.45798033475875854\n",
      "data_sirius/054e9798e39c8587f9aaa5123911d724.jpg a gray triangular shield badge 0.49065691232681274\n"
     ]
    },
    {
     "name": "stderr",
     "output_type": "stream",
     "text": [
      "Processing dataset items:   2%|▏         | 592/30079 [00:48<39:59, 12.29it/s]"
     ]
    },
    {
     "name": "stdout",
     "output_type": "stream",
     "text": [
      "data_sirius/0552493b22bd27ed4b10de7523401e3d.jpg a yellow triangular shield badge 0.9050927758216858\n"
     ]
    },
    {
     "name": "stderr",
     "output_type": "stream",
     "text": [
      "Processing dataset items:   2%|▏         | 594/30079 [00:48<58:47,  8.36it/s]"
     ]
    },
    {
     "name": "stdout",
     "output_type": "stream",
     "text": [
      "data_sirius/05551bd97843f53248ae16b7c717ec63.jpg a gray triangular shield badge 0.6674901843070984\n",
      "data_sirius/0555fd58004696333a052ae0393969fd.jpg a gray triangular shield badge 0.5373638272285461\n"
     ]
    },
    {
     "name": "stderr",
     "output_type": "stream",
     "text": [
      "Processing dataset items:   2%|▏         | 596/30079 [00:48<52:09,  9.42it/s]"
     ]
    },
    {
     "name": "stdout",
     "output_type": "stream",
     "text": [
      "data_sirius/055931204942dfa13ade1cce5e0b48c9.jpg no triangle shield on the photo 0.9952895641326904\n",
      "data_sirius/05603f75c82362681b179265ee4cfc4b.jpg a white triangular shield badge 0.8528091907501221\n",
      "data_sirius/056117772dd8bec38a7fe99d748a6369.jpg no triangle shield on the photo 0.6558343768119812\n"
     ]
    },
    {
     "name": "stderr",
     "output_type": "stream",
     "text": [
      "Processing dataset items:   2%|▏         | 600/30079 [00:48<48:03, 10.22it/s]"
     ]
    },
    {
     "name": "stdout",
     "output_type": "stream",
     "text": [
      "data_sirius/05649c60c877e7959820864f3a286b4e.jpg a yellow triangular shield badge 0.9161602854728699\n",
      "data_sirius/0565c9c6650bd7f14395d5e603bae071.jpg a white triangular shield badge 0.6475934982299805\n",
      "data_sirius/05695c731ff7066f3ffc8907d0d83bb9.jpg a white triangular shield badge 0.910879373550415\n"
     ]
    },
    {
     "name": "stderr",
     "output_type": "stream",
     "text": [
      "Processing dataset items:   2%|▏         | 602/30079 [00:49<44:01, 11.16it/s]"
     ]
    },
    {
     "name": "stdout",
     "output_type": "stream",
     "text": [
      "data_sirius/056ad7902e53a8fe384506ab78241a77.jpg a white triangular shield badge 0.31520572304725647\n",
      "data_sirius/056af15d88c3a8b93f00ac1d30774ae9.jpg no triangle shield on the photo 0.9458038806915283\n",
      "data_sirius/056b43c67084af21d57ba93a69eadc2a.jpg no triangle shield on the photo 0.7129138708114624\n"
     ]
    },
    {
     "name": "stderr",
     "output_type": "stream",
     "text": [
      "Processing dataset items:   2%|▏         | 606/30079 [00:49<41:37, 11.80it/s]"
     ]
    },
    {
     "name": "stdout",
     "output_type": "stream",
     "text": [
      "data_sirius/056c7ea3280aa081686887fe297b88f5.jpg a yellow triangular shield badge 0.9794408082962036\n",
      "data_sirius/05702b7bbcbed884db487d76caf251e9.jpg no triangle shield on the photo 0.6636911034584045\n",
      "data_sirius/05712f0c005189f39d302ba18ca35341.jpg a yellow triangular shield badge 0.9789507985115051\n"
     ]
    },
    {
     "name": "stderr",
     "output_type": "stream",
     "text": [
      "Processing dataset items:   2%|▏         | 610/30079 [00:49<37:02, 13.26it/s]"
     ]
    },
    {
     "name": "stdout",
     "output_type": "stream",
     "text": [
      "data_sirius/0572fcebe039352bee5eda5c3dbf5359.jpg no triangle shield on the photo 0.5785959362983704\n",
      "data_sirius/0577adf3444697760e38581b935a71f9.jpg no triangle shield on the photo 0.986554741859436\n",
      "data_sirius/057a4ffaabb2e5c82d2f33b2a4e230dc.jpg a yellow triangular shield badge 0.9870872497558594\n",
      "data_sirius/057a559068afe764e94a7b659d0fadc7.jpg a yellow triangular shield badge 0.7570072412490845\n"
     ]
    },
    {
     "name": "stderr",
     "output_type": "stream",
     "text": [
      "Processing dataset items:   2%|▏         | 612/30079 [00:49<37:49, 12.98it/s]"
     ]
    },
    {
     "name": "stdout",
     "output_type": "stream",
     "text": [
      "data_sirius/057af43bbc7773900e19dc5a1ea1a3e2.jpg no triangle shield on the photo 0.9065212607383728\n",
      "data_sirius/057bf03fc5624c221cebce800e2c4e3e.jpg a yellow triangular shield badge 0.9604566097259521\n",
      "data_sirius/057c28ef31e5ccf9667d8d85e818e917.jpg no triangle shield on the photo 0.620728611946106\n",
      "data_sirius/057c5c85b4086af574178adfccc3763a.jpg no triangle shield on the photo 0.9339512586593628\n"
     ]
    },
    {
     "name": "stderr",
     "output_type": "stream",
     "text": [
      "Processing dataset items:   2%|▏         | 616/30079 [00:50<36:22, 13.50it/s]"
     ]
    },
    {
     "name": "stdout",
     "output_type": "stream",
     "text": [
      "data_sirius/057d0d43815606fcf30bea25c446cf94.jpg a white triangular shield badge 0.4203953742980957\n",
      "data_sirius/0580678ade81ce3716daea655f822327.jpg a gray triangular shield badge 0.5572119355201721\n",
      "data_sirius/0582a4e09079c16d7fd555bdbd18be30.jpg a gray triangular shield badge 0.4730338454246521\n"
     ]
    },
    {
     "name": "stderr",
     "output_type": "stream",
     "text": [
      "Processing dataset items:   2%|▏         | 620/30079 [00:50<39:40, 12.37it/s]"
     ]
    },
    {
     "name": "stdout",
     "output_type": "stream",
     "text": [
      "data_sirius/0582f4055329026a347afe11b3139a4c.jpg a black triangular shield badge 0.8610551953315735\n",
      "data_sirius/0583613718f53cb462eec8e14fdc2d97.jpg no triangle shield on the photo 0.5536125302314758\n",
      "data_sirius/05837ff862cc66d9cf24873cc9e37bcc.jpg a gray triangular shield badge 0.8622938990592957\n"
     ]
    },
    {
     "name": "stderr",
     "output_type": "stream",
     "text": [
      "Processing dataset items:   2%|▏         | 622/30079 [00:50<40:23, 12.15it/s]"
     ]
    },
    {
     "name": "stdout",
     "output_type": "stream",
     "text": [
      "data_sirius/05839990ff40b06cdc4e16f53841b18c.jpg a black triangular shield badge 0.7999136447906494\n",
      "data_sirius/0583caf42553cbf314441300fbfabcc4.jpg a white triangular shield badge 0.9219261407852173\n",
      "data_sirius/0585174ac6d39fae29f6934e6dfa3a25.jpg a black triangular shield badge 0.541686475276947\n"
     ]
    },
    {
     "name": "stderr",
     "output_type": "stream",
     "text": [
      "Processing dataset items:   2%|▏         | 626/30079 [00:50<42:23, 11.58it/s]"
     ]
    },
    {
     "name": "stdout",
     "output_type": "stream",
     "text": [
      "data_sirius/0588d16f6545995b3ad7623287797d7d.jpg a black triangular shield badge 0.8233277201652527\n",
      "data_sirius/058c8d12b40f431e595234f7ee4569da.jpg a gray triangular shield badge 0.9015399813652039\n",
      "data_sirius/058cf828ef2cb7587fcf8438cafcaa8b.jpg a yellow triangular shield badge 0.9119255542755127\n"
     ]
    },
    {
     "name": "stderr",
     "output_type": "stream",
     "text": [
      "Processing dataset items:   2%|▏         | 628/30079 [00:51<40:02, 12.26it/s]"
     ]
    },
    {
     "name": "stdout",
     "output_type": "stream",
     "text": [
      "data_sirius/0591092ee949369f9e5298cded1ba5dc.jpg a yellow triangular shield badge 0.7205941081047058\n",
      "data_sirius/05923e1288b7fd7bf3963c3555f8b85e.jpg no triangle shield on the photo 0.3595625162124634\n",
      "data_sirius/0592b8ef74036bb34c3eb1ecee2f7b95.jpg a white triangular shield badge 0.48373860120773315\n"
     ]
    },
    {
     "name": "stderr",
     "output_type": "stream",
     "text": [
      "Processing dataset items:   2%|▏         | 632/30079 [00:51<39:03, 12.57it/s]"
     ]
    },
    {
     "name": "stdout",
     "output_type": "stream",
     "text": [
      "data_sirius/05930da853dada04271ab53e4754cd37.jpg a black triangular shield badge 0.6974932551383972\n",
      "data_sirius/0594746b35a2391d78f6641108e66028.jpg a gray triangular shield badge 0.7173364162445068\n",
      "data_sirius/05952ab6c0140c98b995e2a5c7649c22.jpg a yellow triangular shield badge 0.9293089509010315\n"
     ]
    },
    {
     "name": "stderr",
     "output_type": "stream",
     "text": [
      "Processing dataset items:   2%|▏         | 634/30079 [00:51<39:46, 12.34it/s]"
     ]
    },
    {
     "name": "stdout",
     "output_type": "stream",
     "text": [
      "data_sirius/0596bd187e8fa45ad73d624f85d1e311.jpg a white triangular shield badge 0.6457382440567017\n",
      "data_sirius/059b2104ba2510d2b8b05449d5b3e644.jpg a black triangular shield badge 0.5796411633491516\n",
      "data_sirius/059c0d4b0f4f2f3e84bb9bffb33eb3a6.jpg a white triangular shield badge 0.463186115026474\n"
     ]
    },
    {
     "name": "stderr",
     "output_type": "stream",
     "text": [
      "Processing dataset items:   2%|▏         | 636/30079 [00:51<38:37, 12.71it/s]"
     ]
    },
    {
     "name": "stdout",
     "output_type": "stream",
     "text": [
      "data_sirius/05a0427cae43b1e2ea9cbf5e1e9c19a8.jpg no triangle shield on the photo 0.999163031578064\n",
      "data_sirius/05a1a048f06798046487b4f39ca15a90.jpg a yellow triangular shield badge 0.9496506452560425\n",
      "data_sirius/05a4581b441259020fc4429e3bd2dc86.jpg no triangle shield on the photo 0.9621568918228149\n"
     ]
    },
    {
     "name": "stderr",
     "output_type": "stream",
     "text": [
      "Processing dataset items:   2%|▏         | 640/30079 [00:52<41:00, 11.97it/s]"
     ]
    },
    {
     "name": "stdout",
     "output_type": "stream",
     "text": [
      "data_sirius/05ac12d7823a508cfc9e61bf8fb43795.jpg no triangle shield on the photo 0.9940297603607178\n",
      "data_sirius/05ae05bb4662daaea9cfc6ecd1205d34.jpg no triangle shield on the photo 0.9673740267753601\n",
      "data_sirius/05af04e17a6e41253d4554f053366bfc.jpg a gray triangular shield badge 0.7148902416229248\n"
     ]
    },
    {
     "name": "stderr",
     "output_type": "stream",
     "text": [
      "Processing dataset items:   2%|▏         | 644/30079 [00:52<41:25, 11.84it/s]"
     ]
    },
    {
     "name": "stdout",
     "output_type": "stream",
     "text": [
      "data_sirius/05b34d326bff88f65c258234b3c41aac.jpg a yellow triangular shield badge 0.9943959712982178\n",
      "data_sirius/05b3d2bd727122679e37229baec4390a.jpg a gray triangular shield badge 0.4963967800140381\n",
      "data_sirius/05b4473fd69562671517fcd1a80a9cdb.jpg no triangle shield on the photo 0.4624437689781189\n"
     ]
    },
    {
     "name": "stderr",
     "output_type": "stream",
     "text": [
      "Processing dataset items:   2%|▏         | 646/30079 [00:52<41:35, 11.79it/s]"
     ]
    },
    {
     "name": "stdout",
     "output_type": "stream",
     "text": [
      "data_sirius/05b7bb88623518ba3d0cb4ad506ab6d6.jpg a white triangular shield badge 0.4651291072368622\n",
      "data_sirius/05b7c0fead660e7d57b152e09da158e0.jpg a white triangular shield badge 0.5587401986122131\n",
      "data_sirius/05be5f2ec01af8d3ea7bb008d1e04834.jpg a white triangular shield badge 0.5148199796676636\n"
     ]
    },
    {
     "name": "stderr",
     "output_type": "stream",
     "text": [
      "Processing dataset items:   2%|▏         | 650/30079 [00:52<42:52, 11.44it/s]"
     ]
    },
    {
     "name": "stdout",
     "output_type": "stream",
     "text": [
      "data_sirius/05c18fecc3cb0053c696fb23508cccb0.jpg a yellow triangular shield badge 0.9076981544494629\n",
      "data_sirius/05c1e8f74073446a49e9c1236e43437e.jpg a gray triangular shield badge 0.7654393911361694\n",
      "data_sirius/05c210885a77efd94c8c892383954384.jpg a black triangular shield badge 0.6511240601539612\n"
     ]
    },
    {
     "name": "stderr",
     "output_type": "stream",
     "text": [
      "Processing dataset items:   2%|▏         | 652/30079 [00:53<42:16, 11.60it/s]"
     ]
    },
    {
     "name": "stdout",
     "output_type": "stream",
     "text": [
      "data_sirius/05c3481955a18d1145e001b504fe4df5.jpg a yellow triangular shield badge 0.9315283894538879\n",
      "data_sirius/05c356d347a5ddccdae1049719f1a282.jpg a white triangular shield badge 0.6872059106826782\n",
      "data_sirius/05c6c66b67df4aad0566ae8d17f42a47.jpg no triangle shield on the photo 0.9415313005447388\n"
     ]
    },
    {
     "name": "stderr",
     "output_type": "stream",
     "text": [
      "Processing dataset items:   2%|▏         | 656/30079 [00:53<39:40, 12.36it/s]"
     ]
    },
    {
     "name": "stdout",
     "output_type": "stream",
     "text": [
      "data_sirius/05cc8a8b9f14cadffba35fded3e9ebf1.jpg no triangle shield on the photo 0.9749573469161987\n",
      "data_sirius/05d5b5d08b6186190cf2585044614cad.jpg no triangle shield on the photo 0.9312826991081238\n",
      "data_sirius/05dc2790f5b411ec6dd95fd17aecadd3.jpg a black triangular shield badge 0.9475637078285217\n"
     ]
    },
    {
     "name": "stderr",
     "output_type": "stream",
     "text": [
      "Processing dataset items:   2%|▏         | 658/30079 [00:53<38:50, 12.62it/s]"
     ]
    },
    {
     "name": "stdout",
     "output_type": "stream",
     "text": [
      "data_sirius/05e137fe979414dc1507d530b1dd2d0b.jpg a white triangular shield badge 0.5309126377105713\n",
      "data_sirius/05e1497a1c813f774e3607fbc58c7e47.jpg a yellow triangular shield badge 0.8803494572639465\n",
      "data_sirius/05e20d4162c176e845cc336999a8d334.jpg a white triangular shield badge 0.4068509340286255\n"
     ]
    },
    {
     "name": "stderr",
     "output_type": "stream",
     "text": [
      "Processing dataset items:   2%|▏         | 662/30079 [00:53<37:50, 12.95it/s]"
     ]
    },
    {
     "name": "stdout",
     "output_type": "stream",
     "text": [
      "data_sirius/05e2ce3c74a2800cf2adef20bf86dac5.jpg a yellow triangular shield badge 0.9922858476638794\n",
      "data_sirius/05e326a3f539882efb615a3527161ad4.jpg a gray triangular shield badge 0.5923247337341309\n",
      "data_sirius/05e3d4210beb4f677a5aa29ad3268476.jpg no triangle shield on the photo 0.999643087387085\n"
     ]
    },
    {
     "name": "stderr",
     "output_type": "stream",
     "text": [
      "Processing dataset items:   2%|▏         | 664/30079 [00:54<38:53, 12.61it/s]"
     ]
    },
    {
     "name": "stdout",
     "output_type": "stream",
     "text": [
      "data_sirius/05e51650a08b6fe9a23a4f42e7be6ec6.jpg a white triangular shield badge 0.40716665983200073\n",
      "data_sirius/05e553c49748a49b05e4df6bf0a6da46.jpg no triangle shield on the photo 0.6292805671691895\n",
      "data_sirius/05e556228bfcffe67ed94d8fdceb8944.jpg a yellow triangular shield badge 0.8631710410118103\n"
     ]
    },
    {
     "name": "stderr",
     "output_type": "stream",
     "text": [
      "Processing dataset items:   2%|▏         | 668/30079 [00:54<39:37, 12.37it/s]"
     ]
    },
    {
     "name": "stdout",
     "output_type": "stream",
     "text": [
      "data_sirius/05e942efab263e17cabb261b7568c8ab.jpg no triangle shield on the photo 0.9951134324073792\n",
      "data_sirius/05e9c8f1891899c3a8734ee184ba53fc.jpg no triangle shield on the photo 0.6101881861686707\n",
      "data_sirius/05ec279300712cda78a2e72cc501caff.jpg a yellow triangular shield badge 0.8584569692611694\n"
     ]
    },
    {
     "name": "stderr",
     "output_type": "stream",
     "text": [
      "Processing dataset items:   2%|▏         | 670/30079 [00:54<38:29, 12.73it/s]"
     ]
    },
    {
     "name": "stdout",
     "output_type": "stream",
     "text": [
      "data_sirius/05ecf995484d55e7e6bbd1e0ca27c45d.jpg a white triangular shield badge 0.9710108041763306\n",
      "data_sirius/05ed0c9e11dea27770143ed19a6103b4.jpg a black triangular shield badge 0.7722479104995728\n",
      "data_sirius/05ee55ff571d4cbc59f6dfe7d1b254c3.jpg a white triangular shield badge 0.7604444622993469\n"
     ]
    },
    {
     "name": "stderr",
     "output_type": "stream",
     "text": [
      "Processing dataset items:   2%|▏         | 674/30079 [00:54<38:28, 12.74it/s]"
     ]
    },
    {
     "name": "stdout",
     "output_type": "stream",
     "text": [
      "data_sirius/05eea745350a92a8aebaa1536850f459.jpg no triangle shield on the photo 0.5112029314041138\n",
      "data_sirius/05eebd46aa1863901d9ec9a9e2d0e225.jpg a gray triangular shield badge 0.5752518773078918\n",
      "data_sirius/05ef69bdb36d25500c164c7305147d43.jpg a yellow triangular shield badge 0.8541296720504761\n"
     ]
    },
    {
     "name": "stderr",
     "output_type": "stream",
     "text": [
      "Processing dataset items:   2%|▏         | 676/30079 [00:55<38:01, 12.89it/s]"
     ]
    },
    {
     "name": "stdout",
     "output_type": "stream",
     "text": [
      "data_sirius/05ef765efc8219c20c88850f9dfb578e.jpg a gray triangular shield badge 0.4320342540740967\n",
      "data_sirius/05f300476821e0cd4e84a7989159ff30.jpg a yellow triangular shield badge 0.6835826635360718\n",
      "data_sirius/05f88e72f7cd7798aa717a0b4e0d9451.jpg a white triangular shield badge 0.9400578141212463\n"
     ]
    },
    {
     "name": "stderr",
     "output_type": "stream",
     "text": [
      "Processing dataset items:   2%|▏         | 680/30079 [00:55<40:07, 12.21it/s]"
     ]
    },
    {
     "name": "stdout",
     "output_type": "stream",
     "text": [
      "data_sirius/05ff0be579a0262894569d8a32c6db93.jpg a yellow triangular shield badge 0.9957833290100098\n",
      "data_sirius/0603f1403f70352ff32ff834afc8f0f1.jpg a white triangular shield badge 0.5906707644462585\n",
      "data_sirius/060513886c2d0ac9315c6486dd02e207.jpg a black triangular shield badge 0.42218098044395447\n",
      "data_sirius/0605f8b7243ab642acb7ec18c8fab84c.jpg a yellow triangular shield badge 0.9734428524971008\n"
     ]
    },
    {
     "name": "stderr",
     "output_type": "stream",
     "text": [
      "Processing dataset items:   2%|▏         | 684/30079 [00:55<36:54, 13.28it/s]"
     ]
    },
    {
     "name": "stdout",
     "output_type": "stream",
     "text": [
      "data_sirius/060915af5f0b8967d5d76503c643eab4.jpg a black triangular shield badge 0.6866305470466614\n",
      "data_sirius/060b975e6438d5f6f2648839434d3e4d.jpg a yellow triangular shield badge 0.7576113343238831\n",
      "data_sirius/060cbe54ab0b25be1cbbbe71f2f85516.jpg no triangle shield on the photo 0.9431385397911072\n"
     ]
    },
    {
     "name": "stderr",
     "output_type": "stream",
     "text": [
      "Processing dataset items:   2%|▏         | 686/30079 [00:55<37:36, 13.02it/s]"
     ]
    },
    {
     "name": "stdout",
     "output_type": "stream",
     "text": [
      "data_sirius/060d319773449906c206cf3632b53304.jpg a white triangular shield badge 0.7825837731361389\n",
      "data_sirius/060e8433e7127c92b5542d3f7f951f0a.jpg a black triangular shield badge 0.968639612197876\n",
      "data_sirius/061310e110bff1feafa58c67fb28be7b.jpg a white triangular shield badge 0.8316632509231567\n"
     ]
    },
    {
     "name": "stderr",
     "output_type": "stream",
     "text": [
      "Processing dataset items:   2%|▏         | 690/30079 [00:56<37:05, 13.20it/s]"
     ]
    },
    {
     "name": "stdout",
     "output_type": "stream",
     "text": [
      "data_sirius/0615679431b9ddee261edb4c00c67924.jpg no triangle shield on the photo 0.49809399247169495\n",
      "data_sirius/0615e71ed265b46a19e5d5cc1d16fc55.jpg a white triangular shield badge 0.5097912549972534\n",
      "data_sirius/06175ef126b9ef2b777dc7514ea29c0f.jpg a yellow triangular shield badge 0.9987938404083252\n"
     ]
    },
    {
     "name": "stderr",
     "output_type": "stream",
     "text": [
      "Processing dataset items:   2%|▏         | 692/30079 [00:56<38:19, 12.78it/s]"
     ]
    },
    {
     "name": "stdout",
     "output_type": "stream",
     "text": [
      "data_sirius/06195e6b5bac2ba2aaed9a156d7599ab.jpg a gray triangular shield badge 0.38849544525146484\n",
      "data_sirius/061c052cd5e43c998c9133e449e72c7a.jpg a white triangular shield badge 0.6289435029029846\n",
      "data_sirius/061d3f74d61a9c40aa80fadfe7569086.jpg a black triangular shield badge 0.5496060252189636\n"
     ]
    },
    {
     "name": "stderr",
     "output_type": "stream",
     "text": [
      "Processing dataset items:   2%|▏         | 696/30079 [00:56<36:17, 13.49it/s]"
     ]
    },
    {
     "name": "stdout",
     "output_type": "stream",
     "text": [
      "data_sirius/061f755258dcb6e582539c4948b04de3.jpg no triangle shield on the photo 0.97756028175354\n",
      "data_sirius/06202f008f5c10b498ce8b6d6f1d9a57.jpg a yellow triangular shield badge 0.7332360148429871\n",
      "data_sirius/06216844c0281b2cce7c5ed0d57b455c.jpg no triangle shield on the photo 0.9945382475852966\n",
      "data_sirius/06233789fadc88db318192984decd517.jpg a white triangular shield badge 0.44514915347099304\n"
     ]
    },
    {
     "name": "stderr",
     "output_type": "stream",
     "text": [
      "Processing dataset items:   2%|▏         | 700/30079 [00:56<36:55, 13.26it/s]"
     ]
    },
    {
     "name": "stdout",
     "output_type": "stream",
     "text": [
      "data_sirius/062437aee32c93208171f00ecbc6ff07.jpg a yellow triangular shield badge 0.8987550735473633\n",
      "data_sirius/062981be3fc0bc6d84b25bb8078af30f.jpg a white triangular shield badge 0.6408445835113525\n",
      "data_sirius/0629940fc93c9d93f97d5f748b0afd28.jpg a white triangular shield badge 0.7981008291244507\n"
     ]
    },
    {
     "name": "stderr",
     "output_type": "stream",
     "text": [
      "Processing dataset items:   2%|▏         | 702/30079 [00:57<35:46, 13.68it/s]"
     ]
    },
    {
     "name": "stdout",
     "output_type": "stream",
     "text": [
      "data_sirius/062cd29d7e84d5a0b6371f648e7f3a66.jpg a yellow triangular shield badge 0.40782061219215393\n",
      "data_sirius/062d1f29ae000e3e2adebf9d7a6d823f.jpg a gray triangular shield badge 0.4321611225605011\n",
      "data_sirius/0635e43875b9adefd8fba227afef36e6.jpg no triangle shield on the photo 0.7545065879821777\n",
      "data_sirius/0637663eb24090701bb73c2d689df55e.jpg no triangle shield on the photo 0.89340740442276\n"
     ]
    },
    {
     "name": "stderr",
     "output_type": "stream",
     "text": [
      "Processing dataset items:   2%|▏         | 706/30079 [00:57<34:44, 14.09it/s]"
     ]
    },
    {
     "name": "stdout",
     "output_type": "stream",
     "text": [
      "data_sirius/063866095fa02e792247cbe30f36837e.jpg a white triangular shield badge 0.3977784514427185\n",
      "data_sirius/063a600f45ae7242e2c8ec9487f1e03c.jpg no triangle shield on the photo 0.8966177701950073\n",
      "data_sirius/063b3667aaca165dabe5719a47946e52.jpg no triangle shield on the photo 0.9622812867164612\n",
      "data_sirius/063e181dc3a44f89a4f355d5eb0cb6c0.jpg a gray triangular shield badge 0.4988422989845276\n"
     ]
    },
    {
     "name": "stderr",
     "output_type": "stream",
     "text": [
      "Processing dataset items:   2%|▏         | 712/30079 [00:57<33:43, 14.51it/s]"
     ]
    },
    {
     "name": "stdout",
     "output_type": "stream",
     "text": [
      "data_sirius/063f5c1643d1caa1af2bb90e9c520b8f.jpg no triangle shield on the photo 0.5558674335479736\n",
      "data_sirius/064094edcbf482d77cc16da2aefe4e30.jpg a black triangular shield badge 0.5785948038101196\n",
      "data_sirius/064414fe0a2eb8794095570b748a7c9a.jpg a yellow triangular shield badge 0.9311579465866089\n",
      "data_sirius/064596bd748fcee18df1cf1148e594db.jpg a black triangular shield badge 0.35609325766563416\n"
     ]
    },
    {
     "name": "stderr",
     "output_type": "stream",
     "text": [
      "Processing dataset items:   2%|▏         | 714/30079 [00:57<39:48, 12.29it/s]"
     ]
    },
    {
     "name": "stdout",
     "output_type": "stream",
     "text": [
      "data_sirius/06483ccf958f8c5ead1f439d5efce924.jpg a white triangular shield badge 0.6034636497497559\n",
      "data_sirius/06489e0f78db09cb2d5a00ae9af42e65.jpg a yellow triangular shield badge 0.39135944843292236\n",
      "data_sirius/0649c4eb1eeabf7bf85109cfb878d2fb.jpg no triangle shield on the photo 0.9985199570655823\n"
     ]
    },
    {
     "name": "stderr",
     "output_type": "stream",
     "text": [
      "Processing dataset items:   2%|▏         | 718/30079 [00:58<39:34, 12.37it/s]"
     ]
    },
    {
     "name": "stdout",
     "output_type": "stream",
     "text": [
      "data_sirius/064ad472e6a8ed2e67293d4b74d06729.jpg a yellow triangular shield badge 0.5113081336021423\n",
      "data_sirius/0652f33083b3711f94d48c8b90cfe677.jpg a white triangular shield badge 0.4526631534099579\n",
      "data_sirius/06543b572ff2c04035bbeba018ecd0ea.jpg a black triangular shield badge 0.6234058737754822\n"
     ]
    },
    {
     "name": "stderr",
     "output_type": "stream",
     "text": [
      "Processing dataset items:   2%|▏         | 720/30079 [00:58<40:27, 12.09it/s]"
     ]
    },
    {
     "name": "stdout",
     "output_type": "stream",
     "text": [
      "data_sirius/0657b6218f96af46366c09271a6c06a4.jpg a white triangular shield badge 0.56586754322052\n",
      "data_sirius/065935d0ab3a7fb84d790cf67091ddc4.jpg a white triangular shield badge 0.5217060446739197\n",
      "data_sirius/0659b821a2734043f2da5f7df8769399.jpg no triangle shield on the photo 0.8469865918159485\n"
     ]
    },
    {
     "name": "stderr",
     "output_type": "stream",
     "text": [
      "Processing dataset items:   2%|▏         | 724/30079 [00:58<37:12, 13.15it/s]"
     ]
    },
    {
     "name": "stdout",
     "output_type": "stream",
     "text": [
      "data_sirius/06644e447c2bba89e038de9d4cd44c06.jpg a yellow triangular shield badge 0.8638823628425598\n",
      "data_sirius/0664c5635b83c9966c643f7292bdbff5.jpg a yellow triangular shield badge 0.8643050789833069\n",
      "data_sirius/066650d726f2f238d75f58506ceaf084.jpg a yellow triangular shield badge 0.6194582581520081\n"
     ]
    },
    {
     "name": "stderr",
     "output_type": "stream",
     "text": [
      "Processing dataset items:   2%|▏         | 726/30079 [00:58<37:31, 13.04it/s]"
     ]
    },
    {
     "name": "stdout",
     "output_type": "stream",
     "text": [
      "data_sirius/0667d395975d5a23fbd4d050e6af63c9.jpg a white triangular shield badge 0.8794359564781189\n",
      "data_sirius/066e722a36f4631733423a05a57eccb6.jpg a yellow triangular shield badge 0.9630553722381592\n",
      "data_sirius/06737306c505e2fc1cbdc7c980226795.jpg a white triangular shield badge 0.7461103200912476\n"
     ]
    },
    {
     "name": "stderr",
     "output_type": "stream",
     "text": [
      "Processing dataset items:   2%|▏         | 730/30079 [00:59<36:02, 13.57it/s]"
     ]
    },
    {
     "name": "stdout",
     "output_type": "stream",
     "text": [
      "data_sirius/0676ff0805077dc2e9fbc5b4d89226f3.jpg a gray triangular shield badge 0.5223023891448975\n",
      "data_sirius/06790ed7c6dc5975a2205c6e37a56b2a.jpg a yellow triangular shield badge 0.8509334921836853\n",
      "data_sirius/0679f3252fe3b829330b126a7008a75f.jpg no triangle shield on the photo 0.9991298317909241\n"
     ]
    },
    {
     "name": "stderr",
     "output_type": "stream",
     "text": [
      "Processing dataset items:   2%|▏         | 732/30079 [00:59<35:55, 13.61it/s]"
     ]
    },
    {
     "name": "stdout",
     "output_type": "stream",
     "text": [
      "data_sirius/067a65ebc7a316966feb06a099c72ede.jpg a gray triangular shield badge 0.797386109828949\n",
      "data_sirius/0681578f4f5fd7fae9275cc1be9641d6.jpg a white triangular shield badge 0.5714994072914124\n",
      "data_sirius/06828c0dfee03f3334fd547b4ba0e73d.jpg a black triangular shield badge 0.961231529712677\n"
     ]
    },
    {
     "name": "stderr",
     "output_type": "stream",
     "text": [
      "Processing dataset items:   2%|▏         | 736/30079 [00:59<37:19, 13.10it/s]"
     ]
    },
    {
     "name": "stdout",
     "output_type": "stream",
     "text": [
      "data_sirius/0683efa304a36ac3110feed7d3739ff8.jpg no triangle shield on the photo 0.9987849593162537\n",
      "data_sirius/0683fd3a4da78ce84e9e120f2fa18ba5.jpg no triangle shield on the photo 0.5726464986801147\n",
      "data_sirius/0687b5e15bc8daceb37a59b38671485a.jpg a black triangular shield badge 0.4564629793167114\n"
     ]
    },
    {
     "name": "stderr",
     "output_type": "stream",
     "text": [
      "Processing dataset items:   2%|▏         | 738/30079 [00:59<36:08, 13.53it/s]"
     ]
    },
    {
     "name": "stdout",
     "output_type": "stream",
     "text": [
      "data_sirius/068b545c1d5ad59570ad0dedee995f40.jpg a white triangular shield badge 0.41919371485710144\n",
      "data_sirius/068bd4ddb5a6ce1e02474224e7e02811.jpg a yellow triangular shield badge 0.9913744330406189\n",
      "data_sirius/068c7a80ca0b0a94f7abd644f7a2afd7.jpg no triangle shield on the photo 0.8353173732757568\n",
      "data_sirius/068e52e26d68d67d5221ac2ff2f2d705.jpg a white triangular shield badge 0.2986835837364197\n"
     ]
    },
    {
     "name": "stderr",
     "output_type": "stream",
     "text": [
      "Processing dataset items:   2%|▏         | 742/30079 [01:00<36:10, 13.52it/s]"
     ]
    },
    {
     "name": "stdout",
     "output_type": "stream",
     "text": [
      "data_sirius/068e5fdefbc46a4116ef8501bb56f067.jpg a white triangular shield badge 0.4001893401145935\n",
      "data_sirius/069020bcd3267af6a9ad80abbee7de15.jpg a gray triangular shield badge 0.47919169068336487\n",
      "data_sirius/0691ecd456e9d06d12925df0d7eae00e.jpg a white triangular shield badge 0.5461804866790771\n",
      "data_sirius/06931f0670a4709d8222d791168a60eb.jpg a yellow triangular shield badge 0.8019956350326538\n"
     ]
    },
    {
     "name": "stderr",
     "output_type": "stream",
     "text": [
      "Processing dataset items:   2%|▏         | 746/30079 [01:00<35:21, 13.82it/s]"
     ]
    },
    {
     "name": "stdout",
     "output_type": "stream",
     "text": [
      "data_sirius/0693ae0da6f859cfecc6f56f95274571.jpg a black triangular shield badge 0.6952850222587585\n",
      "data_sirius/0695b7dc1c4f93860d26db9de754baa1.jpg a black triangular shield badge 0.9174795150756836\n",
      "data_sirius/0696bbf7c65519357ffcaf02c3dd1044.jpg a black triangular shield badge 0.4169941246509552\n"
     ]
    },
    {
     "name": "stderr",
     "output_type": "stream",
     "text": [
      "Processing dataset items:   2%|▏         | 750/30079 [01:00<34:15, 14.27it/s]"
     ]
    },
    {
     "name": "stdout",
     "output_type": "stream",
     "text": [
      "data_sirius/069fb42b7d48a4ef853aa4db35af0d65.jpg no triangle shield on the photo 0.9997215867042542\n",
      "data_sirius/069fc1f40bd12db136100bdc0493d79e.jpg a yellow triangular shield badge 0.9966121315956116\n",
      "data_sirius/06a28f7dcc0296cd1720381a981df778.jpg no triangle shield on the photo 0.5866904258728027\n",
      "data_sirius/06a46fc159760d21aaec020e92472d97.jpg a gray triangular shield badge 0.5183443427085876\n"
     ]
    },
    {
     "name": "stderr",
     "output_type": "stream",
     "text": [
      "Processing dataset items:   3%|▎         | 754/30079 [01:00<33:26, 14.61it/s]"
     ]
    },
    {
     "name": "stdout",
     "output_type": "stream",
     "text": [
      "data_sirius/06a58780a47c27d46263f63e2299037d.jpg a white triangular shield badge 0.8337201476097107\n",
      "data_sirius/06a63a17de6e57882b612c88f8c34e31.jpg a white triangular shield badge 0.43806424736976624\n",
      "data_sirius/06a8ca6437a5813b604c8bdf3336f336.jpg no triangle shield on the photo 0.7780928611755371\n",
      "data_sirius/06a96bb12aba957ade3c9bd86033c8a2.jpg no triangle shield on the photo 0.9999455213546753\n"
     ]
    },
    {
     "name": "stderr",
     "output_type": "stream",
     "text": [
      "Processing dataset items:   3%|▎         | 758/30079 [01:01<33:47, 14.46it/s]"
     ]
    },
    {
     "name": "stdout",
     "output_type": "stream",
     "text": [
      "data_sirius/06a9a633bc1c00d7bffbe067506a5c50.jpg a yellow triangular shield badge 0.6753255724906921\n",
      "data_sirius/06a9eeabcfa730dfc9c9eb38ae25e8dc.jpg a yellow triangular shield badge 0.9402807950973511\n",
      "data_sirius/06aa4d67f6c1fb868d371d5802b5f42a.jpg a black triangular shield badge 0.5490982532501221\n",
      "data_sirius/06ab972aa23c71b1fc54399848188c0b.jpg no triangle shield on the photo 0.9548219442367554\n"
     ]
    },
    {
     "name": "stderr",
     "output_type": "stream",
     "text": [
      "Processing dataset items:   3%|▎         | 762/30079 [01:01<33:54, 14.41it/s]"
     ]
    },
    {
     "name": "stdout",
     "output_type": "stream",
     "text": [
      "data_sirius/06ad1d636ce0d2ab670d54d4ea4f0355.jpg a black triangular shield badge 0.7447337508201599\n",
      "data_sirius/06af1601af02e0dea02b06c92f74ac70.jpg a black triangular shield badge 0.420522004365921\n",
      "data_sirius/06b11b9422ab8ec4c786aab3257017e2.jpg a white triangular shield badge 0.632169246673584\n"
     ]
    },
    {
     "name": "stderr",
     "output_type": "stream",
     "text": [
      "Processing dataset items:   3%|▎         | 764/30079 [01:01<37:00, 13.20it/s]"
     ]
    },
    {
     "name": "stdout",
     "output_type": "stream",
     "text": [
      "data_sirius/06b1813e9dfe3dce018d617e94622bfe.jpg no triangle shield on the photo 0.7434819936752319\n",
      "data_sirius/06b2ea7636d91b1aabe3da66c10552a6.jpg a white triangular shield badge 0.5416968464851379\n"
     ]
    },
    {
     "name": "stderr",
     "output_type": "stream",
     "text": [
      "Processing dataset items:   3%|▎         | 766/30079 [01:01<40:58, 11.92it/s]"
     ]
    },
    {
     "name": "stdout",
     "output_type": "stream",
     "text": [
      "data_sirius/06b5ee36cf551cad8db281690187f455.jpg a black triangular shield badge 0.9832422733306885\n",
      "data_sirius/06b89bab07ebe0e4ba570a6637ebf55e.jpg a yellow triangular shield badge 0.8844146132469177\n",
      "data_sirius/06bc7c39b0d58f8161103431b0debb9b.jpg a white triangular shield badge 0.7618628740310669\n"
     ]
    },
    {
     "name": "stderr",
     "output_type": "stream",
     "text": [
      "Processing dataset items:   3%|▎         | 770/30079 [01:02<38:45, 12.60it/s]"
     ]
    },
    {
     "name": "stdout",
     "output_type": "stream",
     "text": [
      "data_sirius/06bdf257a8dff3ef25e43f3272bf7819.jpg a yellow triangular shield badge 0.8598698377609253\n",
      "data_sirius/06bef4bad510abf6a08eb381c95a08a3.jpg no triangle shield on the photo 0.774151623249054\n",
      "data_sirius/06bfe5af72ef7e857226db90f076735a.jpg no triangle shield on the photo 0.9125524163246155\n"
     ]
    },
    {
     "name": "stderr",
     "output_type": "stream",
     "text": [
      "Processing dataset items:   3%|▎         | 772/30079 [01:02<38:50, 12.58it/s]"
     ]
    },
    {
     "name": "stdout",
     "output_type": "stream",
     "text": [
      "data_sirius/06c063bf1677050db32ade9d04b63a7d.jpg no triangle shield on the photo 0.8595471978187561\n",
      "data_sirius/06c1a87ba678abc730d76b2150fca8fd.jpg a white triangular shield badge 0.5046253800392151\n",
      "data_sirius/06c32d719141219e2f241b1d449fa344.jpg a gray triangular shield badge 0.4824412763118744\n"
     ]
    },
    {
     "name": "stderr",
     "output_type": "stream",
     "text": [
      "Processing dataset items:   3%|▎         | 776/30079 [01:02<39:36, 12.33it/s]"
     ]
    },
    {
     "name": "stdout",
     "output_type": "stream",
     "text": [
      "data_sirius/06c400c97ea743d43ca93d6349551069.jpg a black triangular shield badge 0.8214511275291443\n",
      "data_sirius/06c84e0f27edf82b4a48e959caac2c42.jpg a white triangular shield badge 0.6645528674125671\n",
      "data_sirius/06cc897412e7130c26a09f0fa67237d0.jpg a yellow triangular shield badge 0.864324152469635\n"
     ]
    },
    {
     "name": "stderr",
     "output_type": "stream",
     "text": [
      "Processing dataset items:   3%|▎         | 778/30079 [01:02<37:59, 12.85it/s]"
     ]
    },
    {
     "name": "stdout",
     "output_type": "stream",
     "text": [
      "data_sirius/06cd297c7731e8c3017ed96ec8456347.jpg a black triangular shield badge 0.5397691130638123\n",
      "data_sirius/06ce6a94da258bb6aa01b87353c4042a.jpg no triangle shield on the photo 0.37731245160102844\n",
      "data_sirius/06d3e45dc9c1a1a0ef629b402041e902.jpg no triangle shield on the photo 0.7745072841644287\n",
      "data_sirius/06d48ba45e29f217dc1b0c41d8b97ad1.jpg a gray triangular shield badge 0.3980735242366791\n"
     ]
    },
    {
     "name": "stderr",
     "output_type": "stream",
     "text": [
      "Processing dataset items:   3%|▎         | 782/30079 [01:02<35:46, 13.65it/s]"
     ]
    },
    {
     "name": "stdout",
     "output_type": "stream",
     "text": [
      "data_sirius/06d68df3fe59729f36ba12d0a7f878aa.jpg no triangle shield on the photo 0.7962787747383118\n",
      "data_sirius/06d89887f3c8b87b833f785871098248.jpg a black triangular shield badge 0.6482419967651367\n"
     ]
    },
    {
     "name": "stderr",
     "output_type": "stream",
     "text": [
      "Processing dataset items:   3%|▎         | 784/30079 [01:03<41:13, 11.84it/s]"
     ]
    },
    {
     "name": "stdout",
     "output_type": "stream",
     "text": [
      "data_sirius/06dc7b6df4c215a71f5544c39652f314.jpg a white triangular shield badge 0.44357508420944214\n",
      "data_sirius/06dc8d0db70d336bd2d90b01f3cde613.jpg a white triangular shield badge 0.4300033152103424\n",
      "data_sirius/06e3df16d87895bd9b739415c54019d0.jpg no triangle shield on the photo 0.9989039897918701\n",
      "data_sirius/06e4725a0f95be538b3848be3cf19df1.jpg a gray triangular shield badge 0.709678053855896\n"
     ]
    },
    {
     "name": "stderr",
     "output_type": "stream",
     "text": [
      "Processing dataset items:   3%|▎         | 788/30079 [01:03<38:04, 12.82it/s]"
     ]
    },
    {
     "name": "stdout",
     "output_type": "stream",
     "text": [
      "data_sirius/06e4781642a7d281ed15c32ee4a985af.jpg a gray triangular shield badge 0.9301953911781311\n",
      "data_sirius/06e4fce35c08d3b401ff010bf59f93b8.jpg no triangle shield on the photo 0.8575029969215393\n",
      "data_sirius/06e757e51fbaaf65e4f50a10758f3df9.jpg a black triangular shield badge 0.33935219049453735\n"
     ]
    },
    {
     "name": "stderr",
     "output_type": "stream",
     "text": [
      "Processing dataset items:   3%|▎         | 792/30079 [01:03<39:26, 12.38it/s]"
     ]
    },
    {
     "name": "stdout",
     "output_type": "stream",
     "text": [
      "data_sirius/06ea3592bedf0d1f9149239619f3feaf.jpg no triangle shield on the photo 0.989692747592926\n",
      "data_sirius/06ee09abb6d9d3b410efadbd3abd69d8.jpg a black triangular shield badge 0.46620532870292664\n",
      "data_sirius/06ee4df2be89de644687bf22c723de60.jpg no triangle shield on the photo 0.9274435043334961\n",
      "data_sirius/06f28ecd7451039ce62093975294b1e4.jpg a black triangular shield badge 0.5523691177368164\n"
     ]
    },
    {
     "name": "stderr",
     "output_type": "stream",
     "text": [
      "Processing dataset items:   3%|▎         | 796/30079 [01:04<59:09,  8.25it/s]  "
     ]
    },
    {
     "name": "stdout",
     "output_type": "stream",
     "text": [
      "data_sirius/06f2d44eeb5e687a77698b2cb48ebc71.jpg a black triangular shield badge 0.8604820370674133\n",
      "data_sirius/06f49a4e85dcdda83f337f5a7e1343d9.jpg a white triangular shield badge 0.7159395217895508\n",
      "data_sirius/06f5144d7aaec18410aa53ca8c24898e.jpg a gray triangular shield badge 0.2898472249507904\n"
     ]
    },
    {
     "name": "stderr",
     "output_type": "stream",
     "text": [
      "Processing dataset items:   3%|▎         | 800/30079 [01:04<46:05, 10.59it/s]"
     ]
    },
    {
     "name": "stdout",
     "output_type": "stream",
     "text": [
      "data_sirius/06f77d7ab027978ce5029dab3db09bce.jpg no triangle shield on the photo 0.9644501209259033\n",
      "data_sirius/06f8fff29ec467440de5c33310396a32.jpg no triangle shield on the photo 0.9900879263877869\n",
      "data_sirius/06fbe683861b485a870fa51901084bec.jpg a yellow triangular shield badge 0.9297530651092529\n",
      "data_sirius/07041d39c36a1801fd55abdef373b4d4.jpg a yellow triangular shield badge 0.916843056678772\n"
     ]
    },
    {
     "name": "stderr",
     "output_type": "stream",
     "text": [
      "Processing dataset items:   3%|▎         | 804/30079 [01:05<41:02, 11.89it/s]"
     ]
    },
    {
     "name": "stdout",
     "output_type": "stream",
     "text": [
      "data_sirius/070420ffcb2acccf5991d1d6b472fc15.jpg no triangle shield on the photo 0.6244080066680908\n",
      "data_sirius/0707f06ee4902f56fe191c45347aa638.jpg no triangle shield on the photo 0.9929914474487305\n",
      "data_sirius/070d21c371bbd8a66544a453d4106b81.jpg no triangle shield on the photo 0.8626179099082947\n",
      "data_sirius/070ef047b4345d65d37d865e6ea6c395.jpg no triangle shield on the photo 0.9723515510559082\n"
     ]
    },
    {
     "name": "stderr",
     "output_type": "stream",
     "text": [
      "Processing dataset items:   3%|▎         | 806/30079 [01:05<39:39, 12.30it/s]"
     ]
    },
    {
     "name": "stdout",
     "output_type": "stream",
     "text": [
      "data_sirius/071126f26bbf9df6966b7d18a67f7a29.jpg a yellow triangular shield badge 0.9748620390892029\n",
      "data_sirius/0711fb79485f4b05aac13cbe3ade33e3.jpg no triangle shield on the photo 0.8563088774681091\n",
      "data_sirius/0715028d62914fbd9137d29b83aed3cc.jpg a gray triangular shield badge 0.7427571415901184\n"
     ]
    },
    {
     "name": "stderr",
     "output_type": "stream",
     "text": [
      "Processing dataset items:   3%|▎         | 810/30079 [01:05<37:16, 13.08it/s]"
     ]
    },
    {
     "name": "stdout",
     "output_type": "stream",
     "text": [
      "data_sirius/07160f8a2d66ca3fdaca04a49bd33867.jpg a black triangular shield badge 0.9028130173683167\n",
      "data_sirius/071aa601b16ef14d8801bce44e4727b3.jpg a gray triangular shield badge 0.7817381024360657\n",
      "data_sirius/071fe09aae15e84a62e77245e86b579e.jpg a black triangular shield badge 0.7016400694847107\n"
     ]
    },
    {
     "name": "stderr",
     "output_type": "stream",
     "text": [
      "Processing dataset items:   3%|▎         | 812/30079 [01:05<48:58,  9.96it/s]"
     ]
    },
    {
     "name": "stdout",
     "output_type": "stream",
     "text": [
      "data_sirius/0720b39672735c87a29edeb1ce6a17dd.jpg a gray triangular shield badge 0.4156576097011566\n",
      "data_sirius/0720b70551358dcdd72d4823a80d9231.jpg a yellow triangular shield badge 0.3101659417152405\n",
      "data_sirius/072187433a978191bbc594fdd11ff3bf.jpg a gray triangular shield badge 0.38413867354393005\n"
     ]
    },
    {
     "name": "stderr",
     "output_type": "stream",
     "text": [
      "Processing dataset items:   3%|▎         | 816/30079 [01:06<44:57, 10.85it/s]"
     ]
    },
    {
     "name": "stdout",
     "output_type": "stream",
     "text": [
      "data_sirius/0722ef0bcadbd5b05ebf147afea097a1.jpg no triangle shield on the photo 0.44732752442359924\n",
      "data_sirius/0725280fee058bbb2876df478713d3e5.jpg a yellow triangular shield badge 0.9615513682365417\n",
      "data_sirius/0727f57713785ba2b53c87a11bca493d.jpg no triangle shield on the photo 0.8644008040428162\n"
     ]
    },
    {
     "name": "stderr",
     "output_type": "stream",
     "text": [
      "Processing dataset items:   3%|▎         | 818/30079 [01:06<41:36, 11.72it/s]"
     ]
    },
    {
     "name": "stdout",
     "output_type": "stream",
     "text": [
      "data_sirius/0727f6116a3d2b9cd0ff82a92947bdc5.jpg a yellow triangular shield badge 0.3464367389678955\n",
      "data_sirius/0729e5c8614bc84f0d6f335ed1cea33d.jpg a white triangular shield badge 0.5248164534568787\n",
      "data_sirius/072ae872d8aa3893ed94733cc83fe4ab.jpg no triangle shield on the photo 0.6892326474189758\n"
     ]
    },
    {
     "name": "stderr",
     "output_type": "stream",
     "text": [
      "Processing dataset items:   3%|▎         | 822/30079 [01:06<41:29, 11.75it/s]"
     ]
    },
    {
     "name": "stdout",
     "output_type": "stream",
     "text": [
      "data_sirius/072b54287200e165617e4c999d115285.jpg a white triangular shield badge 0.46627479791641235\n",
      "data_sirius/072dcffe9409d774464619e7c0140028.jpg no triangle shield on the photo 0.99493008852005\n",
      "data_sirius/0733db41f3241a7a225df0cbcdcdf5df.jpg no triangle shield on the photo 0.992709755897522\n"
     ]
    },
    {
     "name": "stderr",
     "output_type": "stream",
     "text": [
      "Processing dataset items:   3%|▎         | 824/30079 [01:06<40:24, 12.07it/s]"
     ]
    },
    {
     "name": "stdout",
     "output_type": "stream",
     "text": [
      "data_sirius/0736ff09c836385b043cd154920aa3f2.jpg a black triangular shield badge 0.9023749232292175\n",
      "data_sirius/07386ea192a50eec46d8dbf65959bb58.jpg a white triangular shield badge 0.49774831533432007\n",
      "data_sirius/073b7c107ad941d69b95775d46a6e9c9.jpg no triangle shield on the photo 0.7574582099914551\n"
     ]
    },
    {
     "name": "stderr",
     "output_type": "stream",
     "text": [
      "Processing dataset items:   3%|▎         | 828/30079 [01:07<41:25, 11.77it/s]"
     ]
    },
    {
     "name": "stdout",
     "output_type": "stream",
     "text": [
      "data_sirius/073ca8c494846b2e7c8c784d8360f182.jpg a white triangular shield badge 0.5871632695198059\n",
      "data_sirius/073d17ec789de76457419b8d6a93bd73.jpg a white triangular shield badge 0.4052495062351227\n",
      "data_sirius/073fbdcfea616ccab7da0c2179c37c73.jpg a white triangular shield badge 0.7270493507385254\n"
     ]
    },
    {
     "name": "stderr",
     "output_type": "stream",
     "text": [
      "Processing dataset items:   3%|▎         | 830/30079 [01:07<39:37, 12.30it/s]"
     ]
    },
    {
     "name": "stdout",
     "output_type": "stream",
     "text": [
      "data_sirius/073ff4106736084c7ebeffa4f8323bd4.jpg no triangle shield on the photo 0.5880623459815979\n",
      "data_sirius/0741cad4b8ebb44e63d0457b04eee8fd.jpg no triangle shield on the photo 0.5610604882240295\n",
      "data_sirius/0741e465ce1c02d6f526b5706550faa8.jpg a black triangular shield badge 0.9567887187004089\n"
     ]
    },
    {
     "name": "stderr",
     "output_type": "stream",
     "text": [
      "Processing dataset items:   3%|▎         | 834/30079 [01:07<39:37, 12.30it/s]"
     ]
    },
    {
     "name": "stdout",
     "output_type": "stream",
     "text": [
      "data_sirius/0741ebf582da36300bb6bdb7ad455748.jpg no triangle shield on the photo 0.9907323122024536\n",
      "data_sirius/0741f260b3115be4187cc9f904261d49.jpg a white triangular shield badge 0.7105723023414612\n",
      "data_sirius/0742374d0a59c9324ba3a31240adf7b8.jpg a white triangular shield badge 0.4970681667327881\n"
     ]
    },
    {
     "name": "stderr",
     "output_type": "stream",
     "text": [
      "Processing dataset items:   3%|▎         | 836/30079 [01:07<38:22, 12.70it/s]"
     ]
    },
    {
     "name": "stdout",
     "output_type": "stream",
     "text": [
      "data_sirius/0742983880d48369250236b22016ceb0.jpg a black triangular shield badge 0.6615510582923889\n",
      "data_sirius/07441299a65377c145588bd7c053f885.jpg no triangle shield on the photo 0.904386579990387\n",
      "data_sirius/07475094c2f3463749ef9b800f1b534d.jpg a yellow triangular shield badge 0.6622402667999268\n"
     ]
    },
    {
     "name": "stderr",
     "output_type": "stream",
     "text": [
      "Processing dataset items:   3%|▎         | 840/30079 [01:08<39:08, 12.45it/s]"
     ]
    },
    {
     "name": "stdout",
     "output_type": "stream",
     "text": [
      "data_sirius/074b2884d758a95ed14e7125a150321f.jpg no triangle shield on the photo 0.5773495435714722\n",
      "data_sirius/074d6c50c695dde4b4a065e921b0f121.jpg no triangle shield on the photo 0.8761853575706482\n",
      "data_sirius/074e702d6a73795fc6152fd2751e814e.jpg a black triangular shield badge 0.8330708146095276\n"
     ]
    },
    {
     "name": "stderr",
     "output_type": "stream",
     "text": [
      "Processing dataset items:   3%|▎         | 842/30079 [01:08<39:58, 12.19it/s]"
     ]
    },
    {
     "name": "stdout",
     "output_type": "stream",
     "text": [
      "data_sirius/075440fece49e9144da33725be64e459.jpg no triangle shield on the photo 0.7581773996353149\n",
      "data_sirius/0756fc89bd0293c0ab499a63a96c5253.jpg a black triangular shield badge 0.48311150074005127\n",
      "data_sirius/075dc89a5d00a768911d2ca209e431ad.jpg a white triangular shield badge 0.36739349365234375\n"
     ]
    },
    {
     "name": "stderr",
     "output_type": "stream",
     "text": [
      "Processing dataset items:   3%|▎         | 846/30079 [01:08<39:51, 12.22it/s]"
     ]
    },
    {
     "name": "stdout",
     "output_type": "stream",
     "text": [
      "data_sirius/075faf47f41ea1cdcd2c44626388f7b5.jpg no triangle shield on the photo 0.6104041337966919\n",
      "data_sirius/076349fcf912729eac02dde118a9a209.jpg no triangle shield on the photo 0.3843238353729248\n",
      "data_sirius/076496e8e68452cc47aa24df7e84c6ba.jpg no triangle shield on the photo 0.9479478001594543\n"
     ]
    },
    {
     "name": "stderr",
     "output_type": "stream",
     "text": [
      "Processing dataset items:   3%|▎         | 848/30079 [01:08<38:45, 12.57it/s]"
     ]
    },
    {
     "name": "stdout",
     "output_type": "stream",
     "text": [
      "data_sirius/076498b9cea3f2b6dc57ac4e274e2ff8.jpg a gray triangular shield badge 0.5162729620933533\n",
      "data_sirius/076505c9652ad979d32c3fb42edd5fb9.jpg a yellow triangular shield badge 0.6682751178741455\n",
      "data_sirius/07685ab2838b1f8aff9615731b90a55a.jpg a white triangular shield badge 0.32604295015335083\n"
     ]
    },
    {
     "name": "stderr",
     "output_type": "stream",
     "text": [
      "Processing dataset items:   3%|▎         | 852/30079 [01:09<40:35, 12.00it/s]"
     ]
    },
    {
     "name": "stdout",
     "output_type": "stream",
     "text": [
      "data_sirius/07687ce2050cd931fd90d365859c66a3.jpg a yellow triangular shield badge 0.9312648177146912\n",
      "data_sirius/076a7b2d260ea61d4bb67017fa786d4e.jpg a white triangular shield badge 0.7232790589332581\n",
      "data_sirius/076c8a107c8724d8b634ee5f75623f94.jpg a yellow triangular shield badge 0.3971978425979614\n"
     ]
    },
    {
     "name": "stderr",
     "output_type": "stream",
     "text": [
      "Processing dataset items:   3%|▎         | 854/30079 [01:09<39:47, 12.24it/s]"
     ]
    },
    {
     "name": "stdout",
     "output_type": "stream",
     "text": [
      "data_sirius/076f7ecda2f03568ff55d684a30f0afe.jpg no triangle shield on the photo 0.9253191947937012\n",
      "data_sirius/0773aef7aedcebb853da42e316aba735.jpg a yellow triangular shield badge 0.9683955311775208\n",
      "data_sirius/0774083341cc4d39453de982d5915fbe.jpg a white triangular shield badge 0.6120363473892212\n"
     ]
    },
    {
     "name": "stderr",
     "output_type": "stream",
     "text": [
      "Processing dataset items:   3%|▎         | 858/30079 [01:09<42:56, 11.34it/s]"
     ]
    },
    {
     "name": "stdout",
     "output_type": "stream",
     "text": [
      "data_sirius/07767f229009cb80d4870e04371006ea.jpg a yellow triangular shield badge 0.8208746314048767\n",
      "data_sirius/07775067b864a7d01936c312423d8f6e.jpg a white triangular shield badge 0.8132726550102234\n",
      "data_sirius/0778d816d05220508bf56a8fe7b22e99.jpg no triangle shield on the photo 0.6641037464141846\n"
     ]
    },
    {
     "name": "stderr",
     "output_type": "stream",
     "text": [
      "Processing dataset items:   3%|▎         | 860/30079 [01:09<46:17, 10.52it/s]"
     ]
    },
    {
     "name": "stdout",
     "output_type": "stream",
     "text": [
      "data_sirius/077989265cc8cf86d45aa45fec648a3f.jpg a yellow triangular shield badge 0.3729769289493561\n",
      "data_sirius/077a943aaed850685d66e959e885dfa2.jpg a white triangular shield badge 0.6674028635025024\n"
     ]
    },
    {
     "name": "stderr",
     "output_type": "stream",
     "text": [
      "Processing dataset items:   3%|▎         | 862/30079 [01:10<48:21, 10.07it/s]"
     ]
    },
    {
     "name": "stdout",
     "output_type": "stream",
     "text": [
      "data_sirius/077cde59cb6a4e1184687783bcbcddc9.jpg a black triangular shield badge 0.8585981726646423\n",
      "data_sirius/077e6ed226bd8d27821d13e6b2a2d992.jpg a white triangular shield badge 0.5390108227729797\n",
      "data_sirius/077eeae2b3e81d6269d683079b1ae050.jpg a yellow triangular shield badge 0.9160966277122498\n"
     ]
    },
    {
     "name": "stderr",
     "output_type": "stream",
     "text": [
      "Processing dataset items:   3%|▎         | 866/30079 [01:10<47:11, 10.32it/s]"
     ]
    },
    {
     "name": "stdout",
     "output_type": "stream",
     "text": [
      "data_sirius/077fb2234ba738c4a8cbe88af41cde24.jpg a gray triangular shield badge 0.7801409363746643\n",
      "data_sirius/078101e8cde73b13230b7e5a58debe76.jpg a black triangular shield badge 0.38847824931144714\n",
      "data_sirius/07821c7554b5e5524a8a957acb371675.jpg a yellow triangular shield badge 0.7359873652458191\n",
      "data_sirius/078a2bb52dcd99300ef0b41afcb17c99.jpg a black triangular shield badge 0.8982284069061279\n"
     ]
    },
    {
     "ename": "KeyboardInterrupt",
     "evalue": "",
     "output_type": "error",
     "traceback": [
      "\u001b[31m---------------------------------------------------------------------------\u001b[39m",
      "\u001b[31mKeyboardInterrupt\u001b[39m                         Traceback (most recent call last)",
      "\u001b[36mCell\u001b[39m\u001b[36m \u001b[39m\u001b[32mIn[5]\u001b[39m\u001b[32m, line 46\u001b[39m\n\u001b[32m     44\u001b[39m \u001b[38;5;28;01mwith\u001b[39;00m torch.no_grad():\n\u001b[32m     45\u001b[39m     img_features = label_classifier.encode_image(img_input)\n\u001b[32m---> \u001b[39m\u001b[32m46\u001b[39m     text_features = \u001b[43mlabel_classifier\u001b[49m\u001b[43m.\u001b[49m\u001b[43mencode_text\u001b[49m\u001b[43m(\u001b[49m\u001b[43mtext_tokens\u001b[49m\u001b[43m)\u001b[49m\n\u001b[32m     48\u001b[39m img_features /= img_features.norm(dim=-\u001b[32m1\u001b[39m, keepdim=\u001b[38;5;28;01mTrue\u001b[39;00m)\n\u001b[32m     49\u001b[39m text_features /= text_features.norm(dim=-\u001b[32m1\u001b[39m, keepdim=\u001b[38;5;28;01mTrue\u001b[39;00m)\n",
      "\u001b[36mFile \u001b[39m\u001b[32me:\\tbank-sirius-cv\\.venv\\Lib\\site-packages\\open_clip\\model.py:336\u001b[39m, in \u001b[36mCLIP.encode_text\u001b[39m\u001b[34m(self, text, normalize)\u001b[39m\n\u001b[32m    333\u001b[39m x = \u001b[38;5;28mself\u001b[39m.token_embedding(text).to(cast_dtype)  \u001b[38;5;66;03m# [batch_size, n_ctx, d_model]\u001b[39;00m\n\u001b[32m    335\u001b[39m x = x + \u001b[38;5;28mself\u001b[39m.positional_embedding.to(cast_dtype)\n\u001b[32m--> \u001b[39m\u001b[32m336\u001b[39m x = \u001b[38;5;28;43mself\u001b[39;49m\u001b[43m.\u001b[49m\u001b[43mtransformer\u001b[49m\u001b[43m(\u001b[49m\u001b[43mx\u001b[49m\u001b[43m,\u001b[49m\u001b[43m \u001b[49m\u001b[43mattn_mask\u001b[49m\u001b[43m=\u001b[49m\u001b[38;5;28;43mself\u001b[39;49m\u001b[43m.\u001b[49m\u001b[43mattn_mask\u001b[49m\u001b[43m)\u001b[49m\n\u001b[32m    337\u001b[39m x = \u001b[38;5;28mself\u001b[39m.ln_final(x)  \u001b[38;5;66;03m# [batch_size, n_ctx, transformer.width]\u001b[39;00m\n\u001b[32m    338\u001b[39m x = text_global_pool(x, text, \u001b[38;5;28mself\u001b[39m.text_pool_type, eos_token_id=\u001b[38;5;28mgetattr\u001b[39m(\u001b[38;5;28mself\u001b[39m, \u001b[33m\"\u001b[39m\u001b[33mtext_eos_id\u001b[39m\u001b[33m\"\u001b[39m, \u001b[38;5;28;01mNone\u001b[39;00m))\n",
      "\u001b[36mFile \u001b[39m\u001b[32me:\\tbank-sirius-cv\\.venv\\Lib\\site-packages\\torch\\nn\\modules\\module.py:1773\u001b[39m, in \u001b[36mModule._wrapped_call_impl\u001b[39m\u001b[34m(self, *args, **kwargs)\u001b[39m\n\u001b[32m   1771\u001b[39m     \u001b[38;5;28;01mreturn\u001b[39;00m \u001b[38;5;28mself\u001b[39m._compiled_call_impl(*args, **kwargs)  \u001b[38;5;66;03m# type: ignore[misc]\u001b[39;00m\n\u001b[32m   1772\u001b[39m \u001b[38;5;28;01melse\u001b[39;00m:\n\u001b[32m-> \u001b[39m\u001b[32m1773\u001b[39m     \u001b[38;5;28;01mreturn\u001b[39;00m \u001b[38;5;28;43mself\u001b[39;49m\u001b[43m.\u001b[49m\u001b[43m_call_impl\u001b[49m\u001b[43m(\u001b[49m\u001b[43m*\u001b[49m\u001b[43margs\u001b[49m\u001b[43m,\u001b[49m\u001b[43m \u001b[49m\u001b[43m*\u001b[49m\u001b[43m*\u001b[49m\u001b[43mkwargs\u001b[49m\u001b[43m)\u001b[49m\n",
      "\u001b[36mFile \u001b[39m\u001b[32me:\\tbank-sirius-cv\\.venv\\Lib\\site-packages\\torch\\nn\\modules\\module.py:1784\u001b[39m, in \u001b[36mModule._call_impl\u001b[39m\u001b[34m(self, *args, **kwargs)\u001b[39m\n\u001b[32m   1779\u001b[39m \u001b[38;5;66;03m# If we don't have any hooks, we want to skip the rest of the logic in\u001b[39;00m\n\u001b[32m   1780\u001b[39m \u001b[38;5;66;03m# this function, and just call forward.\u001b[39;00m\n\u001b[32m   1781\u001b[39m \u001b[38;5;28;01mif\u001b[39;00m \u001b[38;5;129;01mnot\u001b[39;00m (\u001b[38;5;28mself\u001b[39m._backward_hooks \u001b[38;5;129;01mor\u001b[39;00m \u001b[38;5;28mself\u001b[39m._backward_pre_hooks \u001b[38;5;129;01mor\u001b[39;00m \u001b[38;5;28mself\u001b[39m._forward_hooks \u001b[38;5;129;01mor\u001b[39;00m \u001b[38;5;28mself\u001b[39m._forward_pre_hooks\n\u001b[32m   1782\u001b[39m         \u001b[38;5;129;01mor\u001b[39;00m _global_backward_pre_hooks \u001b[38;5;129;01mor\u001b[39;00m _global_backward_hooks\n\u001b[32m   1783\u001b[39m         \u001b[38;5;129;01mor\u001b[39;00m _global_forward_hooks \u001b[38;5;129;01mor\u001b[39;00m _global_forward_pre_hooks):\n\u001b[32m-> \u001b[39m\u001b[32m1784\u001b[39m     \u001b[38;5;28;01mreturn\u001b[39;00m \u001b[43mforward_call\u001b[49m\u001b[43m(\u001b[49m\u001b[43m*\u001b[49m\u001b[43margs\u001b[49m\u001b[43m,\u001b[49m\u001b[43m \u001b[49m\u001b[43m*\u001b[49m\u001b[43m*\u001b[49m\u001b[43mkwargs\u001b[49m\u001b[43m)\u001b[49m\n\u001b[32m   1786\u001b[39m result = \u001b[38;5;28;01mNone\u001b[39;00m\n\u001b[32m   1787\u001b[39m called_always_called_hooks = \u001b[38;5;28mset\u001b[39m()\n",
      "\u001b[36mFile \u001b[39m\u001b[32me:\\tbank-sirius-cv\\.venv\\Lib\\site-packages\\open_clip\\transformer.py:572\u001b[39m, in \u001b[36mTransformer.forward\u001b[39m\u001b[34m(self, x, attn_mask)\u001b[39m\n\u001b[32m    570\u001b[39m         x = checkpoint(r, x, \u001b[38;5;28;01mNone\u001b[39;00m, \u001b[38;5;28;01mNone\u001b[39;00m, attn_mask, use_reentrant=\u001b[38;5;28;01mFalse\u001b[39;00m)\n\u001b[32m    571\u001b[39m     \u001b[38;5;28;01melse\u001b[39;00m:\n\u001b[32m--> \u001b[39m\u001b[32m572\u001b[39m         x = \u001b[43mr\u001b[49m\u001b[43m(\u001b[49m\u001b[43mx\u001b[49m\u001b[43m,\u001b[49m\u001b[43m \u001b[49m\u001b[43mattn_mask\u001b[49m\u001b[43m=\u001b[49m\u001b[43mattn_mask\u001b[49m\u001b[43m)\u001b[49m\n\u001b[32m    574\u001b[39m \u001b[38;5;28;01mif\u001b[39;00m \u001b[38;5;129;01mnot\u001b[39;00m \u001b[38;5;28mself\u001b[39m.batch_first:\n\u001b[32m    575\u001b[39m     x = x.transpose(\u001b[32m0\u001b[39m, \u001b[32m1\u001b[39m)    \u001b[38;5;66;03m# LND -> NLD\u001b[39;00m\n",
      "\u001b[36mFile \u001b[39m\u001b[32me:\\tbank-sirius-cv\\.venv\\Lib\\site-packages\\torch\\nn\\modules\\module.py:1773\u001b[39m, in \u001b[36mModule._wrapped_call_impl\u001b[39m\u001b[34m(self, *args, **kwargs)\u001b[39m\n\u001b[32m   1771\u001b[39m     \u001b[38;5;28;01mreturn\u001b[39;00m \u001b[38;5;28mself\u001b[39m._compiled_call_impl(*args, **kwargs)  \u001b[38;5;66;03m# type: ignore[misc]\u001b[39;00m\n\u001b[32m   1772\u001b[39m \u001b[38;5;28;01melse\u001b[39;00m:\n\u001b[32m-> \u001b[39m\u001b[32m1773\u001b[39m     \u001b[38;5;28;01mreturn\u001b[39;00m \u001b[38;5;28;43mself\u001b[39;49m\u001b[43m.\u001b[49m\u001b[43m_call_impl\u001b[49m\u001b[43m(\u001b[49m\u001b[43m*\u001b[49m\u001b[43margs\u001b[49m\u001b[43m,\u001b[49m\u001b[43m \u001b[49m\u001b[43m*\u001b[49m\u001b[43m*\u001b[49m\u001b[43mkwargs\u001b[49m\u001b[43m)\u001b[49m\n",
      "\u001b[36mFile \u001b[39m\u001b[32me:\\tbank-sirius-cv\\.venv\\Lib\\site-packages\\torch\\nn\\modules\\module.py:1784\u001b[39m, in \u001b[36mModule._call_impl\u001b[39m\u001b[34m(self, *args, **kwargs)\u001b[39m\n\u001b[32m   1779\u001b[39m \u001b[38;5;66;03m# If we don't have any hooks, we want to skip the rest of the logic in\u001b[39;00m\n\u001b[32m   1780\u001b[39m \u001b[38;5;66;03m# this function, and just call forward.\u001b[39;00m\n\u001b[32m   1781\u001b[39m \u001b[38;5;28;01mif\u001b[39;00m \u001b[38;5;129;01mnot\u001b[39;00m (\u001b[38;5;28mself\u001b[39m._backward_hooks \u001b[38;5;129;01mor\u001b[39;00m \u001b[38;5;28mself\u001b[39m._backward_pre_hooks \u001b[38;5;129;01mor\u001b[39;00m \u001b[38;5;28mself\u001b[39m._forward_hooks \u001b[38;5;129;01mor\u001b[39;00m \u001b[38;5;28mself\u001b[39m._forward_pre_hooks\n\u001b[32m   1782\u001b[39m         \u001b[38;5;129;01mor\u001b[39;00m _global_backward_pre_hooks \u001b[38;5;129;01mor\u001b[39;00m _global_backward_hooks\n\u001b[32m   1783\u001b[39m         \u001b[38;5;129;01mor\u001b[39;00m _global_forward_hooks \u001b[38;5;129;01mor\u001b[39;00m _global_forward_pre_hooks):\n\u001b[32m-> \u001b[39m\u001b[32m1784\u001b[39m     \u001b[38;5;28;01mreturn\u001b[39;00m \u001b[43mforward_call\u001b[49m\u001b[43m(\u001b[49m\u001b[43m*\u001b[49m\u001b[43margs\u001b[49m\u001b[43m,\u001b[49m\u001b[43m \u001b[49m\u001b[43m*\u001b[49m\u001b[43m*\u001b[49m\u001b[43mkwargs\u001b[49m\u001b[43m)\u001b[49m\n\u001b[32m   1786\u001b[39m result = \u001b[38;5;28;01mNone\u001b[39;00m\n\u001b[32m   1787\u001b[39m called_always_called_hooks = \u001b[38;5;28mset\u001b[39m()\n",
      "\u001b[36mFile \u001b[39m\u001b[32me:\\tbank-sirius-cv\\.venv\\Lib\\site-packages\\open_clip\\transformer.py:299\u001b[39m, in \u001b[36mResidualAttentionBlock.forward\u001b[39m\u001b[34m(self, q_x, k_x, v_x, attn_mask)\u001b[39m\n\u001b[32m    297\u001b[39m v_x = \u001b[38;5;28mself\u001b[39m.ln_1_kv(v_x) \u001b[38;5;28;01mif\u001b[39;00m \u001b[38;5;28mhasattr\u001b[39m(\u001b[38;5;28mself\u001b[39m, \u001b[33m\"\u001b[39m\u001b[33mln_1_kv\u001b[39m\u001b[33m\"\u001b[39m) \u001b[38;5;129;01mand\u001b[39;00m v_x \u001b[38;5;129;01mis\u001b[39;00m \u001b[38;5;129;01mnot\u001b[39;00m \u001b[38;5;28;01mNone\u001b[39;00m \u001b[38;5;28;01melse\u001b[39;00m \u001b[38;5;28;01mNone\u001b[39;00m\n\u001b[32m    298\u001b[39m x = q_x + \u001b[38;5;28mself\u001b[39m.ls_1(\u001b[38;5;28mself\u001b[39m.attention(q_x=\u001b[38;5;28mself\u001b[39m.ln_1(q_x), k_x=k_x, v_x=v_x, attn_mask=attn_mask))\n\u001b[32m--> \u001b[39m\u001b[32m299\u001b[39m x = x + \u001b[38;5;28mself\u001b[39m.ls_2(\u001b[38;5;28;43mself\u001b[39;49m\u001b[43m.\u001b[49m\u001b[43mmlp\u001b[49m\u001b[43m(\u001b[49m\u001b[38;5;28;43mself\u001b[39;49m\u001b[43m.\u001b[49m\u001b[43mln_2\u001b[49m\u001b[43m(\u001b[49m\u001b[43mx\u001b[49m\u001b[43m)\u001b[49m\u001b[43m)\u001b[49m)\n\u001b[32m    300\u001b[39m \u001b[38;5;28;01mreturn\u001b[39;00m x\n",
      "\u001b[36mFile \u001b[39m\u001b[32me:\\tbank-sirius-cv\\.venv\\Lib\\site-packages\\torch\\nn\\modules\\module.py:1773\u001b[39m, in \u001b[36mModule._wrapped_call_impl\u001b[39m\u001b[34m(self, *args, **kwargs)\u001b[39m\n\u001b[32m   1771\u001b[39m     \u001b[38;5;28;01mreturn\u001b[39;00m \u001b[38;5;28mself\u001b[39m._compiled_call_impl(*args, **kwargs)  \u001b[38;5;66;03m# type: ignore[misc]\u001b[39;00m\n\u001b[32m   1772\u001b[39m \u001b[38;5;28;01melse\u001b[39;00m:\n\u001b[32m-> \u001b[39m\u001b[32m1773\u001b[39m     \u001b[38;5;28;01mreturn\u001b[39;00m \u001b[38;5;28;43mself\u001b[39;49m\u001b[43m.\u001b[49m\u001b[43m_call_impl\u001b[49m\u001b[43m(\u001b[49m\u001b[43m*\u001b[49m\u001b[43margs\u001b[49m\u001b[43m,\u001b[49m\u001b[43m \u001b[49m\u001b[43m*\u001b[49m\u001b[43m*\u001b[49m\u001b[43mkwargs\u001b[49m\u001b[43m)\u001b[49m\n",
      "\u001b[36mFile \u001b[39m\u001b[32me:\\tbank-sirius-cv\\.venv\\Lib\\site-packages\\torch\\nn\\modules\\module.py:1784\u001b[39m, in \u001b[36mModule._call_impl\u001b[39m\u001b[34m(self, *args, **kwargs)\u001b[39m\n\u001b[32m   1779\u001b[39m \u001b[38;5;66;03m# If we don't have any hooks, we want to skip the rest of the logic in\u001b[39;00m\n\u001b[32m   1780\u001b[39m \u001b[38;5;66;03m# this function, and just call forward.\u001b[39;00m\n\u001b[32m   1781\u001b[39m \u001b[38;5;28;01mif\u001b[39;00m \u001b[38;5;129;01mnot\u001b[39;00m (\u001b[38;5;28mself\u001b[39m._backward_hooks \u001b[38;5;129;01mor\u001b[39;00m \u001b[38;5;28mself\u001b[39m._backward_pre_hooks \u001b[38;5;129;01mor\u001b[39;00m \u001b[38;5;28mself\u001b[39m._forward_hooks \u001b[38;5;129;01mor\u001b[39;00m \u001b[38;5;28mself\u001b[39m._forward_pre_hooks\n\u001b[32m   1782\u001b[39m         \u001b[38;5;129;01mor\u001b[39;00m _global_backward_pre_hooks \u001b[38;5;129;01mor\u001b[39;00m _global_backward_hooks\n\u001b[32m   1783\u001b[39m         \u001b[38;5;129;01mor\u001b[39;00m _global_forward_hooks \u001b[38;5;129;01mor\u001b[39;00m _global_forward_pre_hooks):\n\u001b[32m-> \u001b[39m\u001b[32m1784\u001b[39m     \u001b[38;5;28;01mreturn\u001b[39;00m \u001b[43mforward_call\u001b[49m\u001b[43m(\u001b[49m\u001b[43m*\u001b[49m\u001b[43margs\u001b[49m\u001b[43m,\u001b[49m\u001b[43m \u001b[49m\u001b[43m*\u001b[49m\u001b[43m*\u001b[49m\u001b[43mkwargs\u001b[49m\u001b[43m)\u001b[49m\n\u001b[32m   1786\u001b[39m result = \u001b[38;5;28;01mNone\u001b[39;00m\n\u001b[32m   1787\u001b[39m called_always_called_hooks = \u001b[38;5;28mset\u001b[39m()\n",
      "\u001b[36mFile \u001b[39m\u001b[32me:\\tbank-sirius-cv\\.venv\\Lib\\site-packages\\torch\\nn\\modules\\container.py:244\u001b[39m, in \u001b[36mSequential.forward\u001b[39m\u001b[34m(self, input)\u001b[39m\n\u001b[32m    242\u001b[39m \u001b[38;5;28;01mdef\u001b[39;00m\u001b[38;5;250m \u001b[39m\u001b[34mforward\u001b[39m(\u001b[38;5;28mself\u001b[39m, \u001b[38;5;28minput\u001b[39m):\n\u001b[32m    243\u001b[39m     \u001b[38;5;28;01mfor\u001b[39;00m module \u001b[38;5;129;01min\u001b[39;00m \u001b[38;5;28mself\u001b[39m:\n\u001b[32m--> \u001b[39m\u001b[32m244\u001b[39m         \u001b[38;5;28minput\u001b[39m = \u001b[43mmodule\u001b[49m\u001b[43m(\u001b[49m\u001b[38;5;28;43minput\u001b[39;49m\u001b[43m)\u001b[49m\n\u001b[32m    245\u001b[39m     \u001b[38;5;28;01mreturn\u001b[39;00m \u001b[38;5;28minput\u001b[39m\n",
      "\u001b[36mFile \u001b[39m\u001b[32me:\\tbank-sirius-cv\\.venv\\Lib\\site-packages\\torch\\nn\\modules\\module.py:1773\u001b[39m, in \u001b[36mModule._wrapped_call_impl\u001b[39m\u001b[34m(self, *args, **kwargs)\u001b[39m\n\u001b[32m   1771\u001b[39m     \u001b[38;5;28;01mreturn\u001b[39;00m \u001b[38;5;28mself\u001b[39m._compiled_call_impl(*args, **kwargs)  \u001b[38;5;66;03m# type: ignore[misc]\u001b[39;00m\n\u001b[32m   1772\u001b[39m \u001b[38;5;28;01melse\u001b[39;00m:\n\u001b[32m-> \u001b[39m\u001b[32m1773\u001b[39m     \u001b[38;5;28;01mreturn\u001b[39;00m \u001b[38;5;28;43mself\u001b[39;49m\u001b[43m.\u001b[49m\u001b[43m_call_impl\u001b[49m\u001b[43m(\u001b[49m\u001b[43m*\u001b[49m\u001b[43margs\u001b[49m\u001b[43m,\u001b[49m\u001b[43m \u001b[49m\u001b[43m*\u001b[49m\u001b[43m*\u001b[49m\u001b[43mkwargs\u001b[49m\u001b[43m)\u001b[49m\n",
      "\u001b[36mFile \u001b[39m\u001b[32me:\\tbank-sirius-cv\\.venv\\Lib\\site-packages\\torch\\nn\\modules\\module.py:1784\u001b[39m, in \u001b[36mModule._call_impl\u001b[39m\u001b[34m(self, *args, **kwargs)\u001b[39m\n\u001b[32m   1779\u001b[39m \u001b[38;5;66;03m# If we don't have any hooks, we want to skip the rest of the logic in\u001b[39;00m\n\u001b[32m   1780\u001b[39m \u001b[38;5;66;03m# this function, and just call forward.\u001b[39;00m\n\u001b[32m   1781\u001b[39m \u001b[38;5;28;01mif\u001b[39;00m \u001b[38;5;129;01mnot\u001b[39;00m (\u001b[38;5;28mself\u001b[39m._backward_hooks \u001b[38;5;129;01mor\u001b[39;00m \u001b[38;5;28mself\u001b[39m._backward_pre_hooks \u001b[38;5;129;01mor\u001b[39;00m \u001b[38;5;28mself\u001b[39m._forward_hooks \u001b[38;5;129;01mor\u001b[39;00m \u001b[38;5;28mself\u001b[39m._forward_pre_hooks\n\u001b[32m   1782\u001b[39m         \u001b[38;5;129;01mor\u001b[39;00m _global_backward_pre_hooks \u001b[38;5;129;01mor\u001b[39;00m _global_backward_hooks\n\u001b[32m   1783\u001b[39m         \u001b[38;5;129;01mor\u001b[39;00m _global_forward_hooks \u001b[38;5;129;01mor\u001b[39;00m _global_forward_pre_hooks):\n\u001b[32m-> \u001b[39m\u001b[32m1784\u001b[39m     \u001b[38;5;28;01mreturn\u001b[39;00m \u001b[43mforward_call\u001b[49m\u001b[43m(\u001b[49m\u001b[43m*\u001b[49m\u001b[43margs\u001b[49m\u001b[43m,\u001b[49m\u001b[43m \u001b[49m\u001b[43m*\u001b[49m\u001b[43m*\u001b[49m\u001b[43mkwargs\u001b[49m\u001b[43m)\u001b[49m\n\u001b[32m   1786\u001b[39m result = \u001b[38;5;28;01mNone\u001b[39;00m\n\u001b[32m   1787\u001b[39m called_always_called_hooks = \u001b[38;5;28mset\u001b[39m()\n",
      "\u001b[36mFile \u001b[39m\u001b[32me:\\tbank-sirius-cv\\.venv\\Lib\\site-packages\\torch\\nn\\modules\\linear.py:125\u001b[39m, in \u001b[36mLinear.forward\u001b[39m\u001b[34m(self, input)\u001b[39m\n\u001b[32m    124\u001b[39m \u001b[38;5;28;01mdef\u001b[39;00m\u001b[38;5;250m \u001b[39m\u001b[34mforward\u001b[39m(\u001b[38;5;28mself\u001b[39m, \u001b[38;5;28minput\u001b[39m: Tensor) -> Tensor:\n\u001b[32m--> \u001b[39m\u001b[32m125\u001b[39m     \u001b[38;5;28;01mreturn\u001b[39;00m \u001b[43mF\u001b[49m\u001b[43m.\u001b[49m\u001b[43mlinear\u001b[49m\u001b[43m(\u001b[49m\u001b[38;5;28;43minput\u001b[39;49m\u001b[43m,\u001b[49m\u001b[43m \u001b[49m\u001b[38;5;28;43mself\u001b[39;49m\u001b[43m.\u001b[49m\u001b[43mweight\u001b[49m\u001b[43m,\u001b[49m\u001b[43m \u001b[49m\u001b[38;5;28;43mself\u001b[39;49m\u001b[43m.\u001b[49m\u001b[43mbias\u001b[49m\u001b[43m)\u001b[49m\n",
      "\u001b[31mKeyboardInterrupt\u001b[39m: "
     ]
    },
    {
     "name": "stderr",
     "output_type": "stream",
     "text": [
      "Processing dataset items:   3%|▎         | 867/30079 [01:26<47:10, 10.32it/s]"
     ]
    }
   ],
   "source": [
    "## pipeline to zero-shot images\n",
    "\n",
    "model_name = \"ViT-g-14\"\n",
    "pretrained = \"laion2b_s34b_b88k\"\n",
    "label_classifier, _, preprocess = open_clip.create_model_and_transforms(model_name, pretrained=pretrained)\n",
    "tokenizer = open_clip.get_tokenizer(model_name)\n",
    "label_classifier.to(device).eval()\n",
    "\n",
    "# prompt = [\n",
    "#     \"a white shield with black letter T logo\"\n",
    "#     \"a yellow shield with black letter T logo\",\n",
    "#     \"a gray shield with letter black T logo\",\n",
    "#     \"a stylized black letter T in a yellow shield\",\n",
    "#     \"a black T logo on yellow background\",\n",
    "#     \"a stylized black letter T in a white shield\",\n",
    "#     \"no T logo present\"\n",
    "# ]\n",
    "\n",
    "prompt = [\n",
    "      'a white triangular shield badge',\n",
    "      'a yellow triangular shield badge',\n",
    "      'a gray triangular shield badge',\n",
    "      'a black triangular shield badge',\n",
    "      'no triangle shield on the photo',\n",
    "]\n",
    "\n",
    "text_tokens = tokenizer(prompt).to(device)\n",
    "\n",
    "file_names = os.listdir(data_dir)\n",
    "all_items = []\n",
    "\n",
    "pbar = tqdm(range(len(file_names)), desc=\"Processing dataset items\")\n",
    "\n",
    "for img_name in file_names:\n",
    "    img_path = f\"{data_dir}/{img_name}\"\n",
    "    img = Image.open(img_path).convert(\"RGB\")\n",
    "\n",
    "    if not (img.width > 10 and img.height > 10):\n",
    "        pbar.update(1)\n",
    "        continue\n",
    "\n",
    "    img_input = preprocess(img).unsqueeze(0).to(device)\n",
    "\n",
    "    with torch.no_grad():\n",
    "        img_features = label_classifier.encode_image(img_input)\n",
    "        text_features = label_classifier.encode_text(text_tokens)\n",
    "\n",
    "    img_features /= img_features.norm(dim=-1, keepdim=True)\n",
    "    text_features /= text_features.norm(dim=-1, keepdim=True)\n",
    "\n",
    "    logits = 100.0 * img_features @ text_features.T\n",
    "    probs = logits.softmax(dim=-1)\n",
    "\n",
    "    top_probs, top_labels = probs[0].topk(2)\n",
    "    print(img_path, prompt[top_labels[0]], top_probs[0].item())\n",
    "\n",
    "    all_items.append((img_path, not (prompt[top_labels[0]] != len(prompt) - 1)))\n",
    "\n",
    "    pbar.update(1)\n",
    "\n",
    "with open(save_dataset_dir, \"w\", newline=\"\") as csv_file:\n",
    "    writer = csv.writer(csv_file)\n",
    "    writer.writerow(['path', 'label'])\n",
    "    writer.writerows(all_items)"
   ]
  },
  {
   "cell_type": "code",
   "execution_count": null,
   "metadata": {},
   "outputs": [
    {
     "data": {
      "application/vnd.jupyter.widget-view+json": {
       "model_id": "51b62bade8594062ad3e41254a1999e1",
       "version_major": 2,
       "version_minor": 0
      },
      "text/plain": [
       "open_clip_model.safetensors:   0%|          | 0.00/5.47G [00:00<?, ?B/s]"
      ]
     },
     "metadata": {},
     "output_type": "display_data"
    }
   ],
   "source": [
    "ds_train = LogoDataset(mode='train', data_dir='data_sirius')\n",
    "ds_test = LogoDataset(mode='test', data_dir='data_sirius')\n",
    "\n",
    "ds_train.save('saved_dataset_data/train.csv')\n",
    "ds_test.save('saved_dataset_data/test.csv')\n"
   ]
  },
  {
   "cell_type": "code",
   "execution_count": null,
   "metadata": {},
   "outputs": [],
   "source": []
  }
 ],
 "metadata": {
  "kernelspec": {
   "display_name": ".venv",
   "language": "python",
   "name": "python3"
  },
  "language_info": {
   "codemirror_mode": {
    "name": "ipython",
    "version": 3
   },
   "file_extension": ".py",
   "mimetype": "text/x-python",
   "name": "python",
   "nbconvert_exporter": "python",
   "pygments_lexer": "ipython3",
   "version": "3.13.3"
  }
 },
 "nbformat": 4,
 "nbformat_minor": 2
}
