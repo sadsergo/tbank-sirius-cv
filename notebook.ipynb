{
 "cells": [
  {
   "cell_type": "code",
   "execution_count": 8,
   "metadata": {},
   "outputs": [],
   "source": [
    "from pydantic import BaseModel, Field\n",
    "from typing import List, Optional\n",
    "from fastapi import FastAPI, File, UploadFile\n",
    "\n",
    "import torch\n",
    "from skimage.io import imread\n",
    "from torch.utils.data import Dataset, DataLoader\n",
    "from torch.nn import functional as F\n",
    "from torch import nn\n",
    "import os\n",
    "import numpy as np\n",
    "import torchmetrics\n",
    "import torchvision\n",
    "import matplotlib.pyplot as plt\n",
    "from albumentations.pytorch import ToTensorV2\n",
    "import albumentations as A\n",
    "import warnings\n",
    "\n",
    "# import pytorch_lightning as pl\n",
    "# from pytorch_lightning.callbacks import ModelCheckpoint\n",
    "# from pytorch_lightning.callbacks.early_stopping import EarlyStopping\n",
    "# from pytorch_lightning.tuner import Tuner"
   ]
  },
  {
   "cell_type": "code",
   "execution_count": 9,
   "metadata": {},
   "outputs": [],
   "source": [
    "MEAN = (0.4914, 0.4822, 0.4465)\n",
    "STD = (0.2023, 0.1994, 0.2010)"
   ]
  },
  {
   "cell_type": "code",
   "execution_count": null,
   "metadata": {},
   "outputs": [],
   "source": [
    "class LogoDataset(Dataset):\n",
    "    def __init__(self,\n",
    "        mode,\n",
    "        data_dir,\n",
    "        fraction: float = 0.7,\n",
    "        transform=None,\n",
    "    ):\n",
    "        ## list of tuples: (img_path, label)\n",
    "        self._items = []\n",
    "\n",
    "        ## will be used later for augmentations\n",
    "        self._transform = transform\n",
    "\n",
    "        ## we can't store all the images in memory at the same time,\n",
    "        ## because sometimes we have to work with very large datasets\n",
    "        ## so we will only store data paths\n",
    "        ## (also this is convenient for further augmentations)\n",
    "        all_img_paths = []\n",
    "        all_y = []\n",
    "\n",
    "        ## Pipeline for zero-shot labeling\n",
    "        pipeline = None\n",
    "\n",
    "        for img_name in os.listdir(data_dir):\n",
    "            all_img_paths.append(f\"{data_dir}/{img_name}\")\n",
    "            # all_y.append(train_gt[img_name])\n",
    "            all_y.append(0)\n",
    "\n",
    "        train_size = int(fraction * len(all_img_paths))\n",
    "        test_size = len(all_img_paths) - train_size\n",
    "\n",
    "        if mode == \"train\":\n",
    "            for obj_ind in range(train_size):\n",
    "                self._items.append((all_img_paths[obj_ind], all_y[obj_ind]))\n",
    "        elif mode == \"test\":\n",
    "            for obj_ind in range(test_size):\n",
    "                self._items.append(\n",
    "                    (all_img_paths[train_size + obj_ind], all_y[train_size + obj_ind])\n",
    "                )\n",
    "\n",
    "    def __len__(self):\n",
    "        return len(self._items)\n",
    "\n",
    "    def __getitem__(self, index):\n",
    "        img_path, label = self._items[index]\n",
    "\n",
    "        ## read image\n",
    "        image = imread(img_path)\n",
    "        label = np.copy(label).astype(\"float\")\n",
    "\n",
    "        ## if image has only one color channel\n",
    "        if len(image.shape) == 2:\n",
    "            image = np.dstack((image, image, image))\n",
    "\n",
    "        ## make augmentation for image\n",
    "        if self._transform:\n",
    "            pass\n",
    "\n",
    "        return image, label"
   ]
  },
  {
   "cell_type": "code",
   "execution_count": 22,
   "metadata": {},
   "outputs": [],
   "source": [
    "ds_train = LogoDataset(mode='train', data_dir='data_sirius')\n",
    "ds_test = LogoDataset(mode='test', data_dir='data_sirius')"
   ]
  }
 ],
 "metadata": {
  "kernelspec": {
   "display_name": ".venv",
   "language": "python",
   "name": "python3"
  },
  "language_info": {
   "codemirror_mode": {
    "name": "ipython",
    "version": 3
   },
   "file_extension": ".py",
   "mimetype": "text/x-python",
   "name": "python",
   "nbconvert_exporter": "python",
   "pygments_lexer": "ipython3",
   "version": "3.10.13"
  }
 },
 "nbformat": 4,
 "nbformat_minor": 2
}
